{
  "nbformat": 4,
  "nbformat_minor": 0,
  "metadata": {
    "colab": {
      "name": "GPT2 Biba",
      "provenance": [],
      "toc_visible": true,
      "include_colab_link": true
    },
    "kernelspec": {
      "name": "python3",
      "display_name": "Python 3"
    },
    "accelerator": "GPU"
  },
  "cells": [
    {
      "cell_type": "markdown",
      "metadata": {
        "id": "view-in-github",
        "colab_type": "text"
      },
      "source": [
        "<a href=\"https://colab.research.google.com/github/AbhilashPal/Machine-Learning/blob/master/GPT2_Biba.ipynb\" target=\"_parent\"><img src=\"https://colab.research.google.com/assets/colab-badge.svg\" alt=\"Open In Colab\"/></a>"
      ]
    },
    {
      "cell_type": "code",
      "metadata": {
        "id": "ejZGmXSPx2yM",
        "colab": {
          "base_uri": "https://localhost:8080/",
          "height": 356
        },
        "outputId": "0b6294e2-882e-45d9-cf00-8fdc3531bbc9"
      },
      "source": [
        "!pip3 install gpt-2-simple"
      ],
      "execution_count": null,
      "outputs": [
        {
          "output_type": "stream",
          "text": [
            "Collecting gpt-2-simple\n",
            "  Downloading https://files.pythonhosted.org/packages/6f/e4/a90add0c3328eed38a46c3ed137f2363b5d6a07bf13ee5d5d4d1e480b8c3/gpt_2_simple-0.7.1.tar.gz\n",
            "Requirement already satisfied: regex in /usr/local/lib/python3.6/dist-packages (from gpt-2-simple) (2019.12.20)\n",
            "Requirement already satisfied: requests in /usr/local/lib/python3.6/dist-packages (from gpt-2-simple) (2.21.0)\n",
            "Requirement already satisfied: tqdm in /usr/local/lib/python3.6/dist-packages (from gpt-2-simple) (4.28.1)\n",
            "Requirement already satisfied: numpy in /usr/local/lib/python3.6/dist-packages (from gpt-2-simple) (1.17.5)\n",
            "Collecting toposort\n",
            "  Downloading https://files.pythonhosted.org/packages/e9/8a/321cd8ea5f4a22a06e3ba30ef31ec33bea11a3443eeb1d89807640ee6ed4/toposort-1.5-py2.py3-none-any.whl\n",
            "Requirement already satisfied: chardet<3.1.0,>=3.0.2 in /usr/local/lib/python3.6/dist-packages (from requests->gpt-2-simple) (3.0.4)\n",
            "Requirement already satisfied: certifi>=2017.4.17 in /usr/local/lib/python3.6/dist-packages (from requests->gpt-2-simple) (2019.11.28)\n",
            "Requirement already satisfied: idna<2.9,>=2.5 in /usr/local/lib/python3.6/dist-packages (from requests->gpt-2-simple) (2.8)\n",
            "Requirement already satisfied: urllib3<1.25,>=1.21.1 in /usr/local/lib/python3.6/dist-packages (from requests->gpt-2-simple) (1.24.3)\n",
            "Building wheels for collected packages: gpt-2-simple\n",
            "  Building wheel for gpt-2-simple (setup.py) ... \u001b[?25l\u001b[?25hdone\n",
            "  Created wheel for gpt-2-simple: filename=gpt_2_simple-0.7.1-cp36-none-any.whl size=23581 sha256=8f35e810269cbaf31dc9662eeb6931f57afc470fde2043f409ad91f9491dc84a\n",
            "  Stored in directory: /root/.cache/pip/wheels/0c/f8/23/b53ce437504597edff76bf9c3b8de08ad716f74f6c6baaa91a\n",
            "Successfully built gpt-2-simple\n",
            "Installing collected packages: toposort, gpt-2-simple\n",
            "Successfully installed gpt-2-simple-0.7.1 toposort-1.5\n"
          ],
          "name": "stdout"
        }
      ]
    },
    {
      "cell_type": "code",
      "metadata": {
        "id": "5FB5ICUb-o8Z",
        "colab": {
          "base_uri": "https://localhost:8080/",
          "height": 331
        },
        "outputId": "ffa9b142-7651-4271-a3cd-b76761504780"
      },
      "source": [
        "import gpt_2_simple as gpt2\n",
        "import os\n",
        "import requests\n",
        "\n",
        "model_name = \"124M\"\n",
        "if not os.path.isdir(os.path.join(\"models\", model_name)):\n",
        "\tprint(f\"Downloading {model_name} model...\")\n",
        "\tgpt2.download_gpt2(model_name=model_name)   # model is saved into current directory under /models/124M/\n",
        "\n",
        "\n",
        "file_name = \"Data2_encoded.txt\"\n",
        "if not os.path.isfile(file_name):\n",
        "\turl = \"https://raw.githubusercontent.com/AbhilashPal/weblab/master/MyFile.txt\"\n",
        "\tdata = requests.get(url)\n",
        "\t\n",
        "\twith open(file_name, 'w') as f:\n",
        "\t\tf.write(data.text)\n",
        "    \n",
        "\n"
      ],
      "execution_count": null,
      "outputs": [
        {
          "output_type": "display_data",
          "data": {
            "text/html": [
              "<p style=\"color: red;\">\n",
              "The default version of TensorFlow in Colab will soon switch to TensorFlow 2.x.<br>\n",
              "We recommend you <a href=\"https://www.tensorflow.org/guide/migrate\" target=\"_blank\">upgrade</a> now \n",
              "or ensure your notebook will continue to use TensorFlow 1.x via the <code>%tensorflow_version 1.x</code> magic:\n",
              "<a href=\"https://colab.research.google.com/notebooks/tensorflow_version.ipynb\" target=\"_blank\">more info</a>.</p>\n"
            ],
            "text/plain": [
              "<IPython.core.display.HTML object>"
            ]
          },
          "metadata": {
            "tags": []
          }
        },
        {
          "output_type": "stream",
          "text": [
            "WARNING:tensorflow:\n",
            "The TensorFlow contrib module will not be included in TensorFlow 2.0.\n",
            "For more information, please see:\n",
            "  * https://github.com/tensorflow/community/blob/master/rfcs/20180907-contrib-sunset.md\n",
            "  * https://github.com/tensorflow/addons\n",
            "  * https://github.com/tensorflow/io (for I/O related ops)\n",
            "If you depend on functionality not listed there, please file an issue.\n",
            "\n"
          ],
          "name": "stdout"
        },
        {
          "output_type": "stream",
          "text": [
            "Fetching checkpoint: 1.05Mit [00:00, 396Mit/s]                                                      \n",
            "Fetching encoder.json: 1.05Mit [00:00, 87.1Mit/s]                                                   "
          ],
          "name": "stderr"
        },
        {
          "output_type": "stream",
          "text": [
            "Downloading 124M model...\n"
          ],
          "name": "stdout"
        },
        {
          "output_type": "stream",
          "text": [
            "\n",
            "Fetching hparams.json: 1.05Mit [00:00, 346Mit/s]                                                    \n",
            "Fetching model.ckpt.data-00000-of-00001: 498Mit [00:02, 208Mit/s]                                   \n",
            "Fetching model.ckpt.index: 1.05Mit [00:00, 686Mit/s]                                                \n",
            "Fetching model.ckpt.meta: 1.05Mit [00:00, 121Mit/s]                                                 \n",
            "Fetching vocab.bpe: 1.05Mit [00:00, 105Mit/s]                                                       \n"
          ],
          "name": "stderr"
        }
      ]
    },
    {
      "cell_type": "code",
      "metadata": {
        "id": "mxLWf_CpzvKH",
        "colab": {
          "base_uri": "https://localhost:8080/",
          "height": 1000
        },
        "outputId": "88682b83-2b4e-4e49-d8ae-78eb458b39c3"
      },
      "source": [
        "sess = gpt2.start_tf_sess()\n",
        "gpt2.finetune(sess,\n",
        "              file_name,\n",
        "              model_name=model_name,\n",
        "              steps=1000)   # steps is max number of training steps\n",
        "\n"
      ],
      "execution_count": null,
      "outputs": [
        {
          "output_type": "stream",
          "text": [
            "WARNING:tensorflow:From /usr/local/lib/python3.6/dist-packages/gpt_2_simple/src/sample.py:17: where (from tensorflow.python.ops.array_ops) is deprecated and will be removed in a future version.\n",
            "Instructions for updating:\n",
            "Use tf.where in 2.0, which has the same broadcast rule as np.where\n",
            "Loading checkpoint models/124M/model.ckpt\n",
            "INFO:tensorflow:Restoring parameters from models/124M/model.ckpt\n"
          ],
          "name": "stdout"
        },
        {
          "output_type": "stream",
          "text": [
            "\r  0%|          | 0/1 [00:00<?, ?it/s]"
          ],
          "name": "stderr"
        },
        {
          "output_type": "stream",
          "text": [
            "Loading dataset...\n"
          ],
          "name": "stdout"
        },
        {
          "output_type": "stream",
          "text": [
            "\r100%|██████████| 1/1 [00:00<00:00,  2.15it/s]\n"
          ],
          "name": "stderr"
        },
        {
          "output_type": "stream",
          "text": [
            "dataset has 130386 tokens\n",
            "Training...\n",
            "[1 | 8.45] loss=2.61 avg=2.61\n",
            "[2 | 9.71] loss=2.47 avg=2.54\n",
            "[3 | 10.96] loss=2.20 avg=2.42\n",
            "[4 | 12.20] loss=1.89 avg=2.29\n",
            "[5 | 13.44] loss=2.07 avg=2.24\n",
            "[6 | 14.69] loss=1.95 avg=2.19\n",
            "[7 | 15.94] loss=1.98 avg=2.16\n",
            "[8 | 17.19] loss=1.80 avg=2.12\n",
            "[9 | 18.43] loss=1.75 avg=2.07\n",
            "[10 | 19.68] loss=1.59 avg=2.02\n",
            "[11 | 20.95] loss=1.49 avg=1.97\n",
            "[12 | 22.20] loss=1.75 avg=1.95\n",
            "[13 | 23.44] loss=1.46 avg=1.91\n",
            "[14 | 24.68] loss=1.65 avg=1.89\n",
            "[15 | 25.93] loss=1.54 avg=1.87\n",
            "[16 | 27.18] loss=1.30 avg=1.83\n",
            "[17 | 28.43] loss=1.40 avg=1.80\n",
            "[18 | 29.67] loss=1.24 avg=1.77\n",
            "[19 | 30.92] loss=1.37 avg=1.74\n",
            "[20 | 32.17] loss=1.45 avg=1.73\n",
            "[21 | 33.42] loss=1.45 avg=1.71\n",
            "[22 | 34.67] loss=1.39 avg=1.70\n",
            "[23 | 35.92] loss=1.21 avg=1.67\n",
            "[24 | 37.15] loss=0.96 avg=1.64\n",
            "[25 | 38.40] loss=1.21 avg=1.62\n",
            "[26 | 39.64] loss=1.03 avg=1.60\n",
            "[27 | 40.88] loss=1.00 avg=1.57\n",
            "[28 | 42.13] loss=1.00 avg=1.55\n",
            "[29 | 43.39] loss=1.15 avg=1.53\n",
            "[30 | 44.63] loss=1.14 avg=1.52\n",
            "[31 | 45.87] loss=0.92 avg=1.49\n",
            "[32 | 47.11] loss=1.01 avg=1.48\n",
            "[33 | 48.35] loss=1.03 avg=1.46\n",
            "[34 | 49.61] loss=1.10 avg=1.45\n",
            "[35 | 50.85] loss=0.99 avg=1.43\n",
            "[36 | 52.10] loss=0.85 avg=1.41\n",
            "[37 | 53.35] loss=0.86 avg=1.40\n",
            "[38 | 54.60] loss=0.93 avg=1.38\n",
            "[39 | 55.84] loss=0.88 avg=1.37\n",
            "[40 | 57.08] loss=0.95 avg=1.35\n",
            "[41 | 58.34] loss=0.99 avg=1.34\n",
            "[42 | 59.59] loss=0.75 avg=1.32\n",
            "[43 | 60.83] loss=0.72 avg=1.31\n",
            "[44 | 62.09] loss=0.74 avg=1.29\n",
            "[45 | 63.33] loss=0.77 avg=1.28\n",
            "[46 | 64.57] loss=0.78 avg=1.26\n",
            "[47 | 65.82] loss=0.62 avg=1.25\n",
            "[48 | 67.09] loss=0.76 avg=1.23\n",
            "[49 | 68.34] loss=0.83 avg=1.22\n",
            "[50 | 69.58] loss=0.67 avg=1.21\n",
            "[51 | 70.83] loss=0.49 avg=1.19\n",
            "[52 | 72.08] loss=0.45 avg=1.17\n",
            "[53 | 73.32] loss=0.63 avg=1.16\n",
            "[54 | 74.57] loss=0.72 avg=1.15\n",
            "[55 | 75.81] loss=0.51 avg=1.13\n",
            "[56 | 77.06] loss=0.53 avg=1.12\n",
            "[57 | 78.30] loss=0.57 avg=1.11\n",
            "[58 | 79.56] loss=0.59 avg=1.10\n",
            "[59 | 80.81] loss=0.69 avg=1.09\n",
            "[60 | 82.06] loss=0.52 avg=1.07\n",
            "[61 | 83.31] loss=0.43 avg=1.06\n",
            "[62 | 84.56] loss=0.48 avg=1.05\n",
            "[63 | 85.81] loss=0.46 avg=1.04\n",
            "[64 | 87.05] loss=0.54 avg=1.03\n",
            "[65 | 88.30] loss=0.39 avg=1.01\n",
            "[66 | 89.54] loss=0.35 avg=1.00\n",
            "[67 | 90.78] loss=0.30 avg=0.98\n",
            "[68 | 92.02] loss=0.47 avg=0.97\n",
            "[69 | 93.26] loss=0.44 avg=0.96\n",
            "[70 | 94.51] loss=0.39 avg=0.95\n",
            "[71 | 95.76] loss=0.34 avg=0.94\n",
            "[72 | 97.01] loss=0.41 avg=0.93\n",
            "[73 | 98.26] loss=0.32 avg=0.92\n",
            "[74 | 99.51] loss=0.34 avg=0.91\n",
            "[75 | 100.77] loss=0.37 avg=0.90\n",
            "[76 | 102.01] loss=0.34 avg=0.89\n",
            "[77 | 103.26] loss=0.34 avg=0.88\n",
            "[78 | 104.50] loss=0.25 avg=0.86\n",
            "[79 | 105.75] loss=0.24 avg=0.85\n",
            "[80 | 106.99] loss=0.26 avg=0.84\n",
            "[81 | 108.23] loss=0.24 avg=0.83\n",
            "[82 | 109.48] loss=0.27 avg=0.82\n",
            "[83 | 110.72] loss=0.21 avg=0.81\n",
            "[84 | 111.96] loss=0.22 avg=0.80\n",
            "[85 | 113.21] loss=0.20 avg=0.79\n",
            "[86 | 114.45] loss=0.21 avg=0.78\n",
            "[87 | 115.70] loss=0.21 avg=0.77\n",
            "[88 | 116.94] loss=0.17 avg=0.76\n",
            "[89 | 118.19] loss=0.19 avg=0.75\n",
            "[90 | 119.43] loss=0.18 avg=0.74\n",
            "[91 | 120.68] loss=0.21 avg=0.73\n",
            "[92 | 121.91] loss=0.20 avg=0.72\n",
            "[93 | 123.16] loss=0.13 avg=0.71\n",
            "[94 | 124.41] loss=0.16 avg=0.70\n",
            "[95 | 125.67] loss=0.17 avg=0.70\n",
            "[96 | 126.92] loss=0.20 avg=0.69\n",
            "[97 | 128.18] loss=0.11 avg=0.68\n",
            "[98 | 129.42] loss=0.12 avg=0.67\n",
            "[99 | 130.67] loss=0.16 avg=0.66\n",
            "[100 | 131.92] loss=0.12 avg=0.65\n",
            "======== SAMPLE 1 ========\n",
            "perfect, gold metallic print ======= Give your wedding look a gorgeous match with this gorgeous set of embroidered kurta by Biba. Crafted in finest fabric and embellished with a sheer yellow inner, this set is a must try for the whole family.\n",
            "<|endoftext|>~^Multicolored Rayon Crushed Palazzo Pantsuitai kurta, biba, round neck, crafted, rayon thread, perfect summer print ======= A flared pantsuitai kurta featuring round neck, three forth sleeves and slit on either side. Crafted in finest rayon thread, the patiiai kurta is soft to touch and perfect summer flaunting.\n",
            "<|endoftext|>~^Blindelete Pantage Suit Setcomprises traditional wardrobe, biba, long buttoned top, kurta, floral print, knitted churidar, kurta, self embroidered, tassels, thread work, kurta, patti, net fabric, weight gain, perfect summer ======= Give your traditional wardrobe a perfect match with this stylish set by Biba. It is a set of three, a straight cut kurta, churidar and dupatta. Kurta comes featuring embroidered detailing on the sleeves' and neckline, churidar comes in solid textured detailing and dupatta comes with a knitted churidar lining. Crafted in finest thread and featuring viscose lining, this set is a perfect summer wear outfit for every season.\n",
            "<|endoftext|>~^Indigo Cotton Flax Palazzo Pantsuitai kurta, cotton, kurta, right amount, traditional look, friendly tone, perfect summer ======= A pantsuitai kurta featuring cotton lining, it is a viscose crafted set which makes it extremely comfortable to spend a whole day wearing. The pantsuitai kurta comes featuring with viscose lining in matching kurta making it one of kind. It is a cotton made pair which makes it fitted with kurta. Buy it and pair it with your traditional look to create a perfect summer display.<|endoftext|>\n",
            "<|startoftext|>~^Peach Cotton A Line Suit Setbiba, palazzo, different print, styled, contrast dupatta, modern fashionista ======= For those who love experimenting with their wardrobe, this mix of modern fashionista and peach coloured peaches suit is simply perfect. The chevron print on the peaches is quite nice, styled with a contrast dupatta which pairs well with the peach print of the mock net dupatta. The duo is prepared crafted in finest cotton and the kurta is crafted in finest cotton.<|endoftext|>\n",
            "<|startoftext|>~^Yellow Cotton Straight Suit Setcirrus look, trendy touch, gorgeous suit-set, original kurta, print combination, pom pom, metallic print, whole body, shimmery mid-heels ======= For those who love experimenting with their style of dress, this suit set by designer Carrara Sutra is just apt. The set comprises a gorgeous suit set with a shimmery mid-heels. The main focus of the set is on the embroidered jacket pocket having been designed by Anju Modi. The set is paired with a gorgeous matching kurta which is very much in trend.\n",
            "<|endoftext|>\n",
            "<|startoftext|>~^Mint Green Cotton Flared Suit Setcotton suit, mint green suit-set, rich embroidery, contrast dupatta, full bodice, sitara work, whole body, gorgeous work, unique choice, great choice, extended vajas ======= A mint green suit set for your little fashionista. It is a set of three which combines a cotton flared suit setgorgeous embroidery, a contrast dupatta with full bodice and a sitara work done by rich embroidery. The set is matched with an A line kurta which is very much in contrast with the sitara work of the set. The set is crafted in finest cotton and kurta is feathered in cotton.<|endoftext|>\n",
            "<|startoftext|>~^Peach Cotton A Line Suit Setbiba, palazzo, different print, styled, contrast dupatta, modern fashionista ======= For those who love experimenting with their wardrobe, this mix of modern fashionista and peach coloured peaches suit is simply simply perfect. The chevron print on the peaches is quite nice, styled with a contrast dupatta which pairs well with the peach print of the mock net dupatta. The duo is prepared crafted in finest cotton and kurta is crafted in finest cotton.<|endoftext|>\n",
            "<|startoftext|>~^Yellow Cotton Straight Suit Setcobao pants, biba\n",
            "\n",
            "[101 | 143.45] loss=0.15 avg=0.64\n",
            "[102 | 144.69] loss=0.14 avg=0.64\n",
            "[103 | 145.94] loss=0.16 avg=0.63\n",
            "[104 | 147.18] loss=0.15 avg=0.62\n",
            "[105 | 148.44] loss=0.16 avg=0.62\n",
            "[106 | 149.67] loss=0.12 avg=0.61\n",
            "[107 | 150.93] loss=0.14 avg=0.60\n",
            "[108 | 152.18] loss=0.14 avg=0.59\n",
            "[109 | 153.42] loss=0.12 avg=0.59\n",
            "[110 | 154.67] loss=0.09 avg=0.58\n",
            "[111 | 155.93] loss=0.11 avg=0.57\n",
            "[112 | 157.17] loss=0.10 avg=0.57\n",
            "[113 | 158.44] loss=0.11 avg=0.56\n",
            "[114 | 159.69] loss=0.09 avg=0.55\n",
            "[115 | 160.94] loss=0.11 avg=0.55\n",
            "[116 | 162.19] loss=0.08 avg=0.54\n",
            "[117 | 163.44] loss=0.11 avg=0.53\n",
            "[118 | 164.68] loss=0.08 avg=0.53\n",
            "[119 | 165.93] loss=0.10 avg=0.52\n",
            "[120 | 167.17] loss=0.06 avg=0.51\n",
            "[121 | 168.41] loss=0.08 avg=0.51\n",
            "[122 | 169.66] loss=0.11 avg=0.50\n",
            "[123 | 170.91] loss=0.08 avg=0.50\n",
            "[124 | 172.16] loss=0.09 avg=0.49\n",
            "[125 | 173.42] loss=0.09 avg=0.48\n",
            "[126 | 174.66] loss=0.09 avg=0.48\n",
            "[127 | 175.92] loss=0.10 avg=0.47\n",
            "[128 | 177.16] loss=0.08 avg=0.47\n",
            "[129 | 178.42] loss=0.08 avg=0.46\n",
            "[130 | 179.67] loss=0.07 avg=0.46\n",
            "[131 | 180.92] loss=0.09 avg=0.45\n",
            "[132 | 182.16] loss=0.07 avg=0.45\n",
            "[133 | 183.40] loss=0.08 avg=0.44\n",
            "[134 | 184.64] loss=0.08 avg=0.44\n",
            "[135 | 185.89] loss=0.08 avg=0.43\n",
            "[136 | 187.14] loss=0.06 avg=0.43\n",
            "[137 | 188.39] loss=0.07 avg=0.42\n",
            "[138 | 189.63] loss=0.07 avg=0.42\n",
            "[139 | 190.88] loss=0.10 avg=0.41\n",
            "[140 | 192.12] loss=0.07 avg=0.41\n",
            "[141 | 193.37] loss=0.06 avg=0.40\n",
            "[142 | 194.61] loss=0.08 avg=0.40\n",
            "[143 | 195.85] loss=0.05 avg=0.40\n",
            "[144 | 197.10] loss=0.07 avg=0.39\n",
            "[145 | 198.35] loss=0.06 avg=0.39\n",
            "[146 | 199.60] loss=0.05 avg=0.38\n",
            "[147 | 200.85] loss=0.05 avg=0.38\n",
            "[148 | 202.10] loss=0.05 avg=0.37\n",
            "[149 | 203.34] loss=0.09 avg=0.37\n",
            "[150 | 204.58] loss=0.05 avg=0.37\n",
            "[151 | 205.82] loss=0.05 avg=0.36\n",
            "[152 | 207.08] loss=0.06 avg=0.36\n",
            "[153 | 208.32] loss=0.07 avg=0.35\n",
            "[154 | 209.57] loss=0.07 avg=0.35\n",
            "[155 | 210.82] loss=0.04 avg=0.35\n",
            "[156 | 212.07] loss=0.04 avg=0.34\n",
            "[157 | 213.31] loss=0.08 avg=0.34\n",
            "[158 | 214.57] loss=0.06 avg=0.34\n",
            "[159 | 215.82] loss=0.06 avg=0.33\n",
            "[160 | 217.06] loss=0.07 avg=0.33\n",
            "[161 | 218.31] loss=0.06 avg=0.33\n",
            "[162 | 219.55] loss=0.06 avg=0.32\n",
            "[163 | 220.79] loss=0.04 avg=0.32\n",
            "[164 | 222.04] loss=0.05 avg=0.32\n",
            "[165 | 223.29] loss=0.04 avg=0.31\n",
            "[166 | 224.54] loss=0.05 avg=0.31\n",
            "[167 | 225.80] loss=0.06 avg=0.31\n",
            "[168 | 227.05] loss=0.04 avg=0.30\n",
            "[169 | 228.29] loss=0.04 avg=0.30\n",
            "[170 | 229.53] loss=0.04 avg=0.30\n",
            "[171 | 230.78] loss=0.08 avg=0.29\n",
            "[172 | 232.03] loss=0.06 avg=0.29\n",
            "[173 | 233.28] loss=0.05 avg=0.29\n",
            "[174 | 234.52] loss=0.04 avg=0.29\n",
            "[175 | 235.77] loss=0.04 avg=0.28\n",
            "[176 | 237.02] loss=0.05 avg=0.28\n",
            "[177 | 238.27] loss=0.04 avg=0.28\n",
            "[178 | 239.52] loss=0.04 avg=0.27\n",
            "[179 | 240.77] loss=0.05 avg=0.27\n",
            "[180 | 242.01] loss=0.04 avg=0.27\n",
            "[181 | 243.27] loss=0.06 avg=0.27\n",
            "[182 | 244.51] loss=0.04 avg=0.26\n",
            "[183 | 245.76] loss=0.05 avg=0.26\n",
            "[184 | 247.00] loss=0.06 avg=0.26\n",
            "[185 | 248.24] loss=0.07 avg=0.26\n",
            "[186 | 249.49] loss=0.05 avg=0.25\n",
            "[187 | 250.73] loss=0.03 avg=0.25\n",
            "[188 | 251.99] loss=0.06 avg=0.25\n",
            "[189 | 253.23] loss=0.07 avg=0.25\n",
            "[190 | 254.47] loss=0.04 avg=0.24\n",
            "[191 | 255.72] loss=0.07 avg=0.24\n",
            "[192 | 256.97] loss=0.04 avg=0.24\n",
            "[193 | 258.21] loss=0.06 avg=0.24\n",
            "[194 | 259.47] loss=0.04 avg=0.24\n",
            "[195 | 260.73] loss=0.05 avg=0.23\n",
            "[196 | 261.98] loss=0.03 avg=0.23\n",
            "[197 | 263.23] loss=0.04 avg=0.23\n",
            "[198 | 264.47] loss=0.04 avg=0.23\n",
            "[199 | 265.72] loss=0.04 avg=0.22\n",
            "[200 | 266.97] loss=0.06 avg=0.22\n",
            "======== SAMPLE 1 ========\n",
            " ======= A gorgeous suit set in yellow and green. The set combines A line kurta, slim pants and dupatta. Kurta comes featuring floral print all over, dupatta comes in silhouette and churidar comes with soft touch.<|endoftext|>\n",
            "<|startoftext|>~^Peach Cotton Silk Flared Suit Setlight colour, biba, kurta, floral print, band collar, � s ======= For those who love flaunting light colour this suit-set by Biba is just apt. It is a set of three. A flared kurta, churidar and dupatta. Band collar, eyeshadow, kurta, sparkles band on corners. Kurta comes featuring floral print all over and band collar comes with soft touch.<|endoftext|>\n",
            "<|startoftext|>~^Yellow Cotton Flared Suit Settrendy update, ethnic wardrobe, dual color suit, solid churidar, dual color dupatta ======= Give a trendy update to your ethnic wardrobe with this dual color suit set. The set combines a kurta with crushed bodice, solid churidar and dual color dupatta in a match with the kurta. The set is crafted in finest cotton and kurta comes with cotton lining.<|endoftext|>\n",
            "<|startoftext|>~^Ice Blue Cotton Flared Suit Setlight colour, biba, kurta, floral print, band collar, � s ======= For those who love flaunting light colour this suit-set by Biba is just apt. It is a set of three. A flared kurta, churidar and dupatta. Band collar, eyeshadow, kurta, and dupatta has floral print. Kurta comes featuring floral print all over. Band collar comes with soft touch and dupatta comes with soft touch�s�s�s�dipa�|g�patti.<|endoftext|>\n",
            "<|startoftext|>~^Peach Cotton Flared Suit Setgorgeous suit, pink color, kurta, floral embroidery, inner features print, exact contrast, outer shell, cotton silk, pure cotton ======= A gorgeous suit set in pink and blue color. It is a set of four, a straight cut kurta, inner, churidar and dupatta. Kurta comes featuring floral embroidery all over, inner features print all over and dupatta comes with exact contrast. Outer shell is made of cotton silk and inner comes crafted in pure cotton.<|endoftext|>\n",
            "<|startoftext|>~^Yellow Viscose Cotton A Line Suit Setsummer wardrobe, floral suit, summer collection, effortless summers ======= A gorgeous set of a floral suit set, including the one below. It is a set of three, a straight cut kurta, embellished inner, churidar and dupatta. Kurta comes featuring floral print all over and inner features print all over. Dupatta also features misshapen print on it. Kurta is made of cotton and inner features print all over.<|endoftext|>\n",
            "<|startoftext|>~^Black Cotton Straight Suit Setchic suit, white color, long kurta, floral embroidery, gold metallic print, apt choice ======= A chic suit set for your little girl. It is a three piece set, which combines a long kurta, contrasting white lining, short inner, and long inner. Kurta features floral embroidery on the front, long inner features gold metallic print and short inner comes crafted in finest cotton.<|endoftext|>\n",
            "<|startoftext|>~^Indigo Cotton Straight Suit Settrendy suit, white color, suit set ======= A perfect suit set for your little girl. It is a set of three, a white color, an indigo suit set, and a contrasting white suit set. It is a JJ printed suit set, which includes a biba, matching kurta, and pants matching to the suit set. It is a cotton crafted piece.<|endoftext|>\n",
            "<|startoftext|>~^Yellow Cotton Straight Suit Settrendy suit, yellow suit, suit set ======= A perfect suit set for your little girl. It is a set of three, a straight cut kurta, matching green teal green art dress and teal yellow art skirt. It also features matching kurta with tassels on the edges. Suit set includes an indigo suit set, straight kurta and tee. It is a cotton crafted piece which makes it a perfect pick for your kid.<|endoftext|>\n",
            "<|startoftext|>~^Black Cotton Straight Suit Setgorgeous suit, princess green, kurta, floral print, high low,\n",
            "\n",
            "[201 | 277.35] loss=0.07 avg=0.22\n",
            "[202 | 278.60] loss=0.06 avg=0.22\n",
            "[203 | 279.85] loss=0.05 avg=0.22\n",
            "[204 | 281.09] loss=0.03 avg=0.21\n",
            "[205 | 282.34] loss=0.03 avg=0.21\n",
            "[206 | 283.58] loss=0.04 avg=0.21\n",
            "[207 | 284.83] loss=0.04 avg=0.21\n",
            "[208 | 286.08] loss=0.04 avg=0.21\n",
            "[209 | 287.32] loss=0.05 avg=0.20\n",
            "[210 | 288.57] loss=0.05 avg=0.20\n",
            "[211 | 289.81] loss=0.04 avg=0.20\n",
            "[212 | 291.06] loss=0.03 avg=0.20\n",
            "[213 | 292.32] loss=0.05 avg=0.20\n",
            "[214 | 293.57] loss=0.03 avg=0.20\n",
            "[215 | 294.81] loss=0.07 avg=0.19\n",
            "[216 | 296.05] loss=0.04 avg=0.19\n",
            "[217 | 297.30] loss=0.03 avg=0.19\n",
            "[218 | 298.55] loss=0.04 avg=0.19\n",
            "[219 | 299.80] loss=0.04 avg=0.19\n",
            "[220 | 301.05] loss=0.03 avg=0.19\n",
            "[221 | 302.30] loss=0.04 avg=0.18\n",
            "[222 | 303.55] loss=0.05 avg=0.18\n",
            "[223 | 304.80] loss=0.03 avg=0.18\n",
            "[224 | 306.04] loss=0.03 avg=0.18\n",
            "[225 | 307.28] loss=0.04 avg=0.18\n",
            "[226 | 308.54] loss=0.03 avg=0.18\n",
            "[227 | 309.78] loss=0.04 avg=0.17\n",
            "[228 | 311.02] loss=0.03 avg=0.17\n",
            "[229 | 312.28] loss=0.05 avg=0.17\n",
            "[230 | 313.55] loss=0.04 avg=0.17\n",
            "[231 | 314.82] loss=0.04 avg=0.17\n",
            "[232 | 316.07] loss=0.04 avg=0.17\n",
            "[233 | 317.33] loss=0.04 avg=0.17\n",
            "[234 | 318.59] loss=0.04 avg=0.16\n",
            "[235 | 319.85] loss=0.04 avg=0.16\n",
            "[236 | 321.11] loss=0.03 avg=0.16\n",
            "[237 | 322.37] loss=0.04 avg=0.16\n",
            "[238 | 323.62] loss=0.03 avg=0.16\n",
            "[239 | 324.87] loss=0.04 avg=0.16\n",
            "[240 | 326.13] loss=0.04 avg=0.16\n",
            "[241 | 327.38] loss=0.04 avg=0.16\n",
            "[242 | 328.63] loss=0.03 avg=0.15\n",
            "[243 | 329.88] loss=0.04 avg=0.15\n",
            "[244 | 331.13] loss=0.03 avg=0.15\n",
            "[245 | 332.38] loss=0.04 avg=0.15\n",
            "[246 | 333.63] loss=0.03 avg=0.15\n",
            "[247 | 334.89] loss=0.04 avg=0.15\n",
            "[248 | 336.14] loss=0.03 avg=0.15\n",
            "[249 | 337.40] loss=0.04 avg=0.15\n",
            "[250 | 338.66] loss=0.03 avg=0.14\n",
            "[251 | 339.91] loss=0.03 avg=0.14\n",
            "[252 | 341.16] loss=0.04 avg=0.14\n",
            "[253 | 342.41] loss=0.03 avg=0.14\n",
            "[254 | 343.66] loss=0.06 avg=0.14\n",
            "[255 | 344.92] loss=0.04 avg=0.14\n",
            "[256 | 346.18] loss=0.03 avg=0.14\n",
            "[257 | 347.44] loss=0.04 avg=0.14\n",
            "[258 | 348.70] loss=0.04 avg=0.14\n",
            "[259 | 349.95] loss=0.03 avg=0.13\n",
            "[260 | 351.20] loss=0.06 avg=0.13\n",
            "[261 | 352.44] loss=0.04 avg=0.13\n",
            "[262 | 353.70] loss=0.05 avg=0.13\n",
            "[263 | 354.96] loss=0.05 avg=0.13\n",
            "[264 | 356.21] loss=0.03 avg=0.13\n",
            "[265 | 357.47] loss=0.03 avg=0.13\n",
            "[266 | 358.73] loss=0.04 avg=0.13\n",
            "[267 | 359.98] loss=0.03 avg=0.13\n",
            "[268 | 361.23] loss=0.03 avg=0.13\n",
            "[269 | 362.48] loss=0.05 avg=0.12\n",
            "[270 | 363.73] loss=0.05 avg=0.12\n",
            "[271 | 364.98] loss=0.03 avg=0.12\n",
            "[272 | 366.23] loss=0.03 avg=0.12\n",
            "[273 | 367.50] loss=0.04 avg=0.12\n",
            "[274 | 368.75] loss=0.04 avg=0.12\n",
            "[275 | 369.99] loss=0.03 avg=0.12\n",
            "[276 | 371.24] loss=0.04 avg=0.12\n",
            "[277 | 372.49] loss=0.04 avg=0.12\n",
            "[278 | 373.74] loss=0.03 avg=0.12\n",
            "[279 | 374.99] loss=0.03 avg=0.12\n",
            "[280 | 376.24] loss=0.04 avg=0.11\n",
            "[281 | 377.49] loss=0.04 avg=0.11\n",
            "[282 | 378.75] loss=0.03 avg=0.11\n",
            "[283 | 380.00] loss=0.04 avg=0.11\n",
            "[284 | 381.26] loss=0.04 avg=0.11\n",
            "[285 | 382.52] loss=0.04 avg=0.11\n",
            "[286 | 383.78] loss=0.05 avg=0.11\n",
            "[287 | 385.03] loss=0.04 avg=0.11\n",
            "[288 | 386.27] loss=0.03 avg=0.11\n",
            "[289 | 387.53] loss=0.03 avg=0.11\n",
            "[290 | 388.78] loss=0.04 avg=0.11\n",
            "[291 | 390.03] loss=0.02 avg=0.11\n",
            "[292 | 391.29] loss=0.06 avg=0.11\n",
            "[293 | 392.54] loss=0.04 avg=0.10\n",
            "[294 | 393.79] loss=0.02 avg=0.10\n",
            "[295 | 395.04] loss=0.04 avg=0.10\n",
            "[296 | 396.30] loss=0.03 avg=0.10\n",
            "[297 | 397.54] loss=0.03 avg=0.10\n",
            "[298 | 398.80] loss=0.04 avg=0.10\n",
            "[299 | 400.04] loss=0.02 avg=0.10\n",
            "[300 | 401.30] loss=0.03 avg=0.10\n",
            "======== SAMPLE 1 ========\n",
            " designed, and designed by Anju Modi. It is a two piece set, which includes a bright yellow kurta, sharara pants and dupatta. Crafted in finest fabric with cotton lining, the kurta of this set is very soft to touch and apt for you. Take home and pair with contrast blue pants.<|endoftext|>\n",
            "<|startoftext|>~^Black Navy Suit Setbright colors, black polka dots print, contemporary style, traditional wardrobe ======= For those who love bright colors, this one is a straight party staple. This suit set comes in pure cotton with cotton lining, which is making it soft to touch and a perfect match to contemporary style. All you need is a pair of black contrasting kurta and a contrasting white zapatin over the kurta. The set is crafted in finest cotton and kurta comes with cotton lining.<|endoftext|>\n",
            "<|startoftext|>~^Indigo Short Kurta Cotton Suit Setkalidar red suit, classic print, kurta, straight palazzo, sitara work, add metallic taste, big tassels, suitable lot ======= A mustard black suit set in indigo. It is a set of three, a straight cut kurta, matching inner, classic print and crushed dupatta. Kurta comes featuring thread and sitara work on the yoke, on sleeves' hem and along the slit on the sides. The classic print on this set is from the famous famous Silk Road collection. It has two versions, a straight cut kurta and matching inner. Kurta comes featuring thread and sitara work on the yoke, on sleeves' hem and along the slit on the sides. The set is made of cotton silk crafted in a comfort fit, this suit set will win the latest fashionista.<|endoftext|>\n",
            "<|startoftext|>~^Turquoise And Red Cotton Asymmetric Suit Setjacket kurta, red jacket, asymmetric hemline, white dupatta, used, big tassels, suitable lot ======= A jacket kurta with red hemline. It is a cotton made piece, which it has working class white dupatta with attached. It is a cotton made kurta, which makes it a nice choice for this season.<|endoftext|>\n",
            "<|startoftext|>~^Red And Yellow Poly Cotton Asymmetric Suit Setbiba, palazzo, red jacket, crafted, weight room, perfect choice, Asian designer ======= For those who love flaunting light colour this suit-set by Biba is just apt. It is a must have. It is a three piece set, which includes a kurta, flared palazzo pants and a dupatta matching to the palazzo. It's a cotton made set.<|endoftext|>\n",
            "<|startoftext|>~^Indigo Cotton Kalidar Fusion Wear Dressindigo dress, mid length dress ======= An indigo dress featuring tassels on the placket, highlighted cuffs and hemline, round neck and three forth sleeves. It is a mid length dress with cotton lining which makes it a perfect choice for this season. This set belongs to Biba's designer collection by Anju Modi.\n",
            "Indigo Short Sales Collared Shortlegs Cotton Suit Setca n't, can't find it, bargain section not suitable ======= If you are looking for cheaper yet best buy selection of basic black cotton short tops, then this cationary set by Biba is perfect for you. It is a set of three, a black cotton top, flared top and dupatta. Top comes featuring embroidered detailing on the placket and floral tassels on the ghera, tassels also feature in the ripened fit. The cationary set is suitable for all seasons, especially the hottest months.<|endoftext|>\n",
            "<|startoftext|>~^Sambodhi Viscose & Cotton Underwire Lehenga Setfabulous lehenga, solid texture, contrast patti, maximum comfort ======= A fabulous lehenga set for your little girl. It is a set of three, a tiered straight cut lehenga with solid texture and contrast patti. It is a cotton made piece with cotton lining, which makes it a summer must buy.<|endoftext|>\n",
            "<|startoftext|>~^Yellow Cotton A Line Suit Setgorgeous suit, white color, floral embroidery, a line kurta, stretchable churidar, kurta, floral embroidery, a line kurta ======= A gorgeous suit set in white color. The set combines a tiered straight cut lehenga with floral embroidery, stretchable churidar and dupatta. Kurta comes featuring floral embroidery on the front\n",
            "\n",
            "[301 | 411.82] loss=0.04 avg=0.10\n",
            "[302 | 413.08] loss=0.03 avg=0.10\n",
            "[303 | 414.34] loss=0.03 avg=0.10\n",
            "[304 | 415.59] loss=0.04 avg=0.10\n",
            "[305 | 416.85] loss=0.02 avg=0.10\n",
            "[306 | 418.11] loss=0.02 avg=0.09\n",
            "[307 | 419.37] loss=0.04 avg=0.09\n",
            "[308 | 420.62] loss=0.03 avg=0.09\n",
            "[309 | 421.87] loss=0.03 avg=0.09\n",
            "[310 | 423.11] loss=0.04 avg=0.09\n",
            "[311 | 424.36] loss=0.03 avg=0.09\n",
            "[312 | 425.61] loss=0.03 avg=0.09\n",
            "[313 | 426.87] loss=0.02 avg=0.09\n",
            "[314 | 428.14] loss=0.05 avg=0.09\n",
            "[315 | 429.39] loss=0.03 avg=0.09\n",
            "[316 | 430.64] loss=0.03 avg=0.09\n",
            "[317 | 431.88] loss=0.02 avg=0.09\n",
            "[318 | 433.14] loss=0.02 avg=0.09\n",
            "[319 | 434.39] loss=0.03 avg=0.09\n",
            "[320 | 435.64] loss=0.04 avg=0.09\n",
            "[321 | 436.89] loss=0.03 avg=0.09\n",
            "[322 | 438.15] loss=0.03 avg=0.08\n",
            "[323 | 439.40] loss=0.03 avg=0.08\n",
            "[324 | 440.66] loss=0.03 avg=0.08\n",
            "[325 | 441.92] loss=0.03 avg=0.08\n",
            "[326 | 443.19] loss=0.03 avg=0.08\n",
            "[327 | 444.43] loss=0.03 avg=0.08\n",
            "[328 | 445.68] loss=0.03 avg=0.08\n",
            "[329 | 446.94] loss=0.03 avg=0.08\n",
            "[330 | 448.18] loss=0.03 avg=0.08\n",
            "[331 | 449.43] loss=0.03 avg=0.08\n",
            "[332 | 450.69] loss=0.02 avg=0.08\n",
            "[333 | 451.94] loss=0.03 avg=0.08\n",
            "[334 | 453.19] loss=0.04 avg=0.08\n",
            "[335 | 454.44] loss=0.03 avg=0.08\n",
            "[336 | 455.70] loss=0.03 avg=0.08\n",
            "[337 | 456.95] loss=0.02 avg=0.08\n",
            "[338 | 458.22] loss=0.03 avg=0.08\n",
            "[339 | 459.47] loss=0.02 avg=0.08\n",
            "[340 | 460.72] loss=0.02 avg=0.08\n",
            "[341 | 461.97] loss=0.05 avg=0.08\n",
            "[342 | 463.23] loss=0.04 avg=0.07\n",
            "[343 | 464.49] loss=0.04 avg=0.07\n",
            "[344 | 465.75] loss=0.02 avg=0.07\n",
            "[345 | 466.99] loss=0.03 avg=0.07\n",
            "[346 | 468.24] loss=0.04 avg=0.07\n",
            "[347 | 469.48] loss=0.03 avg=0.07\n",
            "[348 | 470.75] loss=0.02 avg=0.07\n",
            "[349 | 471.99] loss=0.03 avg=0.07\n",
            "[350 | 473.25] loss=0.03 avg=0.07\n",
            "[351 | 474.50] loss=0.02 avg=0.07\n",
            "[352 | 475.75] loss=0.03 avg=0.07\n",
            "[353 | 477.00] loss=0.03 avg=0.07\n",
            "[354 | 478.25] loss=0.04 avg=0.07\n",
            "[355 | 479.51] loss=0.03 avg=0.07\n",
            "[356 | 480.75] loss=0.02 avg=0.07\n",
            "[357 | 482.00] loss=0.04 avg=0.07\n",
            "[358 | 483.26] loss=0.03 avg=0.07\n",
            "[359 | 484.50] loss=0.02 avg=0.07\n",
            "[360 | 485.75] loss=0.02 avg=0.07\n",
            "[361 | 487.00] loss=0.04 avg=0.07\n",
            "[362 | 488.25] loss=0.04 avg=0.07\n",
            "[363 | 489.50] loss=0.04 avg=0.07\n",
            "[364 | 490.74] loss=0.02 avg=0.07\n",
            "[365 | 491.99] loss=0.02 avg=0.07\n",
            "[366 | 493.23] loss=0.03 avg=0.06\n",
            "[367 | 494.48] loss=0.02 avg=0.06\n",
            "[368 | 495.73] loss=0.03 avg=0.06\n",
            "[369 | 496.98] loss=0.03 avg=0.06\n",
            "[370 | 498.23] loss=0.03 avg=0.06\n",
            "[371 | 499.48] loss=0.03 avg=0.06\n",
            "[372 | 500.74] loss=0.02 avg=0.06\n",
            "[373 | 501.98] loss=0.03 avg=0.06\n",
            "[374 | 503.23] loss=0.02 avg=0.06\n",
            "[375 | 504.47] loss=0.03 avg=0.06\n",
            "[376 | 505.72] loss=0.02 avg=0.06\n",
            "[377 | 506.97] loss=0.04 avg=0.06\n",
            "[378 | 508.21] loss=0.04 avg=0.06\n",
            "[379 | 509.45] loss=0.03 avg=0.06\n",
            "[380 | 510.71] loss=0.03 avg=0.06\n",
            "[381 | 511.96] loss=0.04 avg=0.06\n",
            "[382 | 513.20] loss=0.03 avg=0.06\n",
            "[383 | 514.45] loss=0.02 avg=0.06\n",
            "[384 | 515.71] loss=0.02 avg=0.06\n",
            "[385 | 516.96] loss=0.03 avg=0.06\n",
            "[386 | 518.21] loss=0.04 avg=0.06\n",
            "[387 | 519.46] loss=0.03 avg=0.06\n",
            "[388 | 520.70] loss=0.03 avg=0.06\n",
            "[389 | 521.95] loss=0.03 avg=0.06\n",
            "[390 | 523.19] loss=0.03 avg=0.06\n",
            "[391 | 524.43] loss=0.03 avg=0.06\n",
            "[392 | 525.68] loss=0.02 avg=0.06\n",
            "[393 | 526.93] loss=0.03 avg=0.06\n",
            "[394 | 528.18] loss=0.03 avg=0.06\n",
            "[395 | 529.43] loss=0.03 avg=0.06\n",
            "[396 | 530.68] loss=0.04 avg=0.06\n",
            "[397 | 531.93] loss=0.02 avg=0.06\n",
            "[398 | 533.18] loss=0.02 avg=0.05\n",
            "[399 | 534.42] loss=0.03 avg=0.05\n",
            "[400 | 535.66] loss=0.03 avg=0.05\n",
            "======== SAMPLE 1 ========\n",
            " Line Suit Setperfect suit, light colour, net dupatta, kurta, floral embroidery, gold lace, kurta ======= A perfect suit set for your little girl. It is a set of three, which consists a light coloured kurta, matching pink net dupatta and Takara slip. Kurta is accentuated with floral embroidery on the neck, heavily layered bodice and signature gold lace taping on the edges. Kurta is complemented with embellished bodice with churidar and net dupatta with highlighted hemline.<|endoftext|>\n",
            "<|startoftext|>~^Turquoise Nylon Stolewinter kurtas, biba, floral print, band collar, � s ======= For the lovers of long winter kurtas, this blue cotton stole from Biba'swinter kurtas. It comes featuring floral print and band collar. It�s a cotton crafted piece which makes it soft to touch and apt for your kid.<|endoftext|>\n",
            "<|startoftext|>~^Black And White Cotton Straight Suit Setcomprises kurta, palazzo pants, crafted\n",
            "<|startoftext|>~^Indigo Cotton Straight Suit Setindigo cotton suit, perfect print, perfect mix of trendy touch ======= Indigo Cotton Straight Suit Set<|endoftext|>\n",
            "<|startoftext|>~^Off White And Turquoise Cotton Straight Suit Setquirky addition, summer staple, womenswear, floral print, top, floral print, pom pom, solid texture ======= A quirky addition to your summer wardrobe with this turquoise cotton dress. It is a set of three, a churidar, a flared inner, churidar and dupatta. Kurta comes featuring floral print all over to give your look a flawless match. Dupatta also features floral print all over and pom pom on all the borders. Top comes featuring floral print all over and pom pom on the edges. All in all a perfect mix of trendy touch and off-white texture.<|endoftext|>\n",
            "<|startoftext|>~^Black And White Cotton Flared Suit Setnew addition, smart casuals, floral print, leggings ======= A new addition to your collection of smart casuals. This set comes featuring cotton printed leggings featuring floral print all over, highlighted hemline and front placket. Leggings are complemented with lining which is very soft to touch and apt for your kid.<|endoftext|>\n",
            "<|startoftext|>~^Mint Green Cotton Suit Setca n't, kid 's closet, mint green suit-set, anarkali, crafted ======= You can't keep this color away from your kid's closet. This mint green suit-set is meant to be there in her closet. The set includes an Anarkali kurta, jacket, knitted churidar & dupatta. Crafted in finest cotton, this set also ensures your girl feel comfortable wearing it.<|endoftext|>\n",
            "<|startoftext|>~^Pink Cotton Lehenga Setbeautify, girl 's wedding look, gorgeous lehenga-set, sheer fabric, lace hem, net dupatta, golden lace, bring, shimmery sandals, lovely girl ======= Beautify your little girl's wedding look with this gorgeous lehenga-set. It includes flared lehenga in a sheer fabric with sparkles and solid texture. Bring home and combine with shimmery sandals and earrings to make your lovely girl, party-ready.<|endoftext|>\n",
            "<|startoftext|>~^Sage Green And Pink Poly Cotton Straight Suit Setchic suit, pink salwar, pink dupatta, kurta, gorgeous embroidery, short sleeves, salwar, solid texture, gorgeous patti ======= A comfortable yet chic suit set for your little miss model. The set includes a green embroidered kurta, contrasting pink salwar and pink dupatta. Kurta features gorgeous embroidery on the, short sleeves accentuated with lace detailing on the edges, rounded hemline. Salwar comes in solid texture and dupatta features gorgeous patti on all the sides.<|endoftext|>\n",
            "<|startoftext|>~^Indigo Cotton Straight Suit Setindigo suit, perfect print, colourful churidar, biba ======= Indigo suit set for your little fashionista. It is a set of three, a straight cut kurta, churidar and dupatta. It is a cotton crafted set comes with cotton lining.<|endoftext|>\n",
            "<|startoftext|>~^Turquoise And Red Cotton Straight Suit Setjacket kurta, red jacket, kurta, lotus print, full\n",
            "\n",
            "[401 | 546.04] loss=0.03 avg=0.05\n",
            "[402 | 547.30] loss=0.03 avg=0.05\n",
            "[403 | 548.54] loss=0.03 avg=0.05\n",
            "[404 | 549.79] loss=0.03 avg=0.05\n",
            "[405 | 551.04] loss=0.03 avg=0.05\n",
            "[406 | 552.28] loss=0.04 avg=0.05\n",
            "[407 | 553.52] loss=0.03 avg=0.05\n",
            "[408 | 554.77] loss=0.02 avg=0.05\n",
            "[409 | 556.01] loss=0.02 avg=0.05\n",
            "[410 | 557.26] loss=0.03 avg=0.05\n",
            "[411 | 558.50] loss=0.04 avg=0.05\n",
            "[412 | 559.76] loss=0.03 avg=0.05\n",
            "[413 | 561.01] loss=0.02 avg=0.05\n",
            "[414 | 562.27] loss=0.03 avg=0.05\n",
            "[415 | 563.52] loss=0.02 avg=0.05\n",
            "[416 | 564.77] loss=0.02 avg=0.05\n",
            "[417 | 566.01] loss=0.03 avg=0.05\n",
            "[418 | 567.26] loss=0.02 avg=0.05\n",
            "[419 | 568.50] loss=0.03 avg=0.05\n",
            "[420 | 569.75] loss=0.02 avg=0.05\n",
            "[421 | 571.00] loss=0.04 avg=0.05\n",
            "[422 | 572.25] loss=0.02 avg=0.05\n",
            "[423 | 573.50] loss=0.03 avg=0.05\n",
            "[424 | 574.75] loss=0.04 avg=0.05\n",
            "[425 | 576.00] loss=0.02 avg=0.05\n",
            "[426 | 577.25] loss=0.03 avg=0.05\n",
            "[427 | 578.49] loss=0.02 avg=0.05\n",
            "[428 | 579.73] loss=0.03 avg=0.05\n",
            "[429 | 580.97] loss=0.03 avg=0.05\n",
            "[430 | 582.22] loss=0.04 avg=0.05\n",
            "[431 | 583.46] loss=0.02 avg=0.05\n",
            "[432 | 584.71] loss=0.02 avg=0.05\n",
            "[433 | 585.96] loss=0.02 avg=0.05\n",
            "[434 | 587.21] loss=0.03 avg=0.05\n",
            "[435 | 588.45] loss=0.03 avg=0.05\n",
            "[436 | 589.70] loss=0.03 avg=0.05\n",
            "[437 | 590.94] loss=0.04 avg=0.05\n",
            "[438 | 592.19] loss=0.03 avg=0.05\n",
            "[439 | 593.43] loss=0.02 avg=0.05\n",
            "[440 | 594.69] loss=0.03 avg=0.05\n",
            "[441 | 595.94] loss=0.03 avg=0.05\n",
            "[442 | 597.18] loss=0.03 avg=0.04\n",
            "[443 | 598.44] loss=0.02 avg=0.04\n",
            "[444 | 599.68] loss=0.02 avg=0.04\n",
            "[445 | 600.92] loss=0.04 avg=0.04\n",
            "[446 | 602.17] loss=0.04 avg=0.04\n",
            "[447 | 603.42] loss=0.03 avg=0.04\n",
            "[448 | 604.66] loss=0.02 avg=0.04\n",
            "[449 | 605.91] loss=0.02 avg=0.04\n",
            "[450 | 607.16] loss=0.04 avg=0.04\n",
            "[451 | 608.41] loss=0.02 avg=0.04\n",
            "[452 | 609.66] loss=0.03 avg=0.04\n",
            "[453 | 610.90] loss=0.03 avg=0.04\n",
            "[454 | 612.15] loss=0.02 avg=0.04\n",
            "[455 | 613.39] loss=0.02 avg=0.04\n",
            "[456 | 614.64] loss=0.02 avg=0.04\n",
            "[457 | 615.88] loss=0.02 avg=0.04\n",
            "[458 | 617.13] loss=0.03 avg=0.04\n",
            "[459 | 618.37] loss=0.02 avg=0.04\n",
            "[460 | 619.63] loss=0.03 avg=0.04\n",
            "[461 | 620.87] loss=0.02 avg=0.04\n",
            "[462 | 622.12] loss=0.04 avg=0.04\n",
            "[463 | 623.36] loss=0.03 avg=0.04\n",
            "[464 | 624.62] loss=0.04 avg=0.04\n",
            "[465 | 625.87] loss=0.03 avg=0.04\n",
            "[466 | 627.13] loss=0.04 avg=0.04\n",
            "[467 | 628.37] loss=0.03 avg=0.04\n",
            "[468 | 629.63] loss=0.03 avg=0.04\n",
            "[469 | 630.88] loss=0.02 avg=0.04\n",
            "[470 | 632.13] loss=0.03 avg=0.04\n",
            "[471 | 633.38] loss=0.03 avg=0.04\n",
            "[472 | 634.63] loss=0.03 avg=0.04\n",
            "[473 | 635.89] loss=0.03 avg=0.04\n",
            "[474 | 637.13] loss=0.03 avg=0.04\n",
            "[475 | 638.39] loss=0.03 avg=0.04\n",
            "[476 | 639.64] loss=0.04 avg=0.04\n",
            "[477 | 640.89] loss=0.02 avg=0.04\n",
            "[478 | 642.14] loss=0.03 avg=0.04\n",
            "[479 | 643.40] loss=0.03 avg=0.04\n",
            "[480 | 644.65] loss=0.02 avg=0.04\n",
            "[481 | 645.89] loss=0.03 avg=0.04\n",
            "[482 | 647.13] loss=0.03 avg=0.04\n",
            "[483 | 648.37] loss=0.02 avg=0.04\n",
            "[484 | 649.61] loss=0.02 avg=0.04\n",
            "[485 | 650.86] loss=0.03 avg=0.04\n",
            "[486 | 652.11] loss=0.04 avg=0.04\n",
            "[487 | 653.35] loss=0.03 avg=0.04\n",
            "[488 | 654.60] loss=0.03 avg=0.04\n",
            "[489 | 655.85] loss=0.03 avg=0.04\n",
            "[490 | 657.10] loss=0.03 avg=0.04\n",
            "[491 | 658.35] loss=0.02 avg=0.04\n",
            "[492 | 659.60] loss=0.03 avg=0.04\n",
            "[493 | 660.84] loss=0.02 avg=0.04\n",
            "[494 | 662.08] loss=0.02 avg=0.04\n",
            "[495 | 663.33] loss=0.02 avg=0.04\n",
            "[496 | 664.59] loss=0.02 avg=0.04\n",
            "[497 | 665.84] loss=0.03 avg=0.04\n",
            "[498 | 667.10] loss=0.03 avg=0.04\n",
            "[499 | 668.36] loss=0.02 avg=0.04\n",
            "[500 | 669.62] loss=0.03 avg=0.04\n",
            "======== SAMPLE 1 ========\n",
            " and this two piece set will do wonders for a stylishly styled mani work shoe.<|endoftext|>\n",
            "<|startoftext|>~^Red And Yellow Poly Cotton Straight Kurtasimplicity work, biba, round neck, dual color impact mod, dual print, solid texture, crafted, nice choice ======= Let simplicity work for you wearing this red and yellow printed kurta by Biba. It comes featuring round neck, three forth round neck, slit on either side and dupatta on either side. Crafted in finest cotton, this kurta is perfect to keep you cool in summers.<|endoftext|>\n",
            "<|startoftext|>~^Yellow Cotton Straight Kurtacontemporary taste, buy, black polka dots palazzo, new trend ======= A perfect match to your contemporary taste this black and white printed kurta is perfect for you. It is a cotton made kurta with cotton lining, which makes it a summer must buy. Buy now and pair with black polka dots palazzo to create a new trend.<|endoftext|>\n",
            "<|startoftext|>~^Ink Blue Cotton Flared Kurtamix print, band collar, right choice ======= Look chic and trendy at the same time wearing this blue printed kurta. It comes featuring mix print, Band collar and three forth sleeves. It is a cotton made piece, which makes it a right choice for the season, plus you can wear it as a dress too.<|endoftext|>\n",
            "<|startoftext|>~^Peach Cotton A Line Kurtafashion wardrobe, smart update, biba, round neck, bell sleeves, crafted, apt choice, blue pants ======= Give your fashion wardrobe a smart update with this kurta by Biba. It comes featuring round neck, three forth bell sleeves and print all over. Crafted in finest cotton, this kurta is an apt choice for summer. Take home and pair with contrast blue pants.<|endoftext|>\n",
            "<|startoftext|>~^Navy Blue Cotton Straight Kurtablue cotton, straight kurta ======= Navy Blue Cotton Straight Kurta<|endoftext|>\n",
            "<|startoftext|>~^Teal Cotton A Line Kurtasummer wardrobe, floral update, teal green cotton kurta, round neck, cotton kurta, perfect summer ======= Give your summer wardrobe a floral update with this teal green cotton kurta. It comes featuring round neck, three forth sleeves and pocket on one side. It is a cotton kurta, which makes it perfect summer wear piece.<|endoftext|>\n",
            "<|startoftext|>~^Peach Cotton Straight Kurtaperfect kurta, floral print, bell sleeves, nice choice, straight palazzo pants, perfect look ======= A summer perfect kurta featuring floral print and cut out bell sleeves. It is a cotton made kurta which makes it a nice choice for this season. You can pair it with straight palazzo pants in matching color to flaunt a summer perfect look.<|endoftext|>\n",
            "<|startoftext|>~^White Cotton Straight Kurtaown, white kurta, floral print, perfect choice ======= Own simplicity wearing this white kurta from our latest collection. It comes featuring floral print all over, round neck, three forth sleeves and slit on either sides. It is a cotton made kurta, which makes it a perfect choice for this season.<|endoftext|>\n",
            "<|startoftext|>~^Yellow Cotton A Line Kurtaperfect kurta, round neckline, gorgeous floral print, � s, cotton kurta ======= A summer perfect kurta featuring round neckline and three forth sleeves. It also features gorgeous floral print all over, slit on the neckline, three forth sleeves and medium slim on either side. It�s a cotton kurta which makes it apt for this season.<|endoftext|>\n",
            "<|startoftext|>~^Black And White Cotton Straight Kurtapolka, white kurta, trend worthy, perfect choice ======= Polka dots are back in fashion. Add this black and white kurta to your wardrobe and make it trend worthy. The highlight of this kurta with its contrasting backdrop. It is a cotton made kurta which makes it a perfect choice for this season.<|endoftext|>\n",
            "<|startoftext|>~^Mint Green Cotton A Line Kurtapick, cotton kurta, dori tie, feminine charm ======= Pick this kurta to look chic and to be at easy this summer. It is a cotton kurta, which makes it summer apt and cute detailing like print and dori tie up helps you to maintain that feminine charm in your look.<\n",
            "\n",
            "[501 | 679.78] loss=0.03 avg=0.04\n",
            "[502 | 681.03] loss=0.04 avg=0.04\n",
            "[503 | 682.28] loss=0.03 avg=0.04\n",
            "[504 | 683.53] loss=0.02 avg=0.04\n",
            "[505 | 684.77] loss=0.02 avg=0.04\n",
            "[506 | 686.02] loss=0.02 avg=0.04\n",
            "[507 | 687.26] loss=0.02 avg=0.04\n",
            "[508 | 688.51] loss=0.02 avg=0.04\n",
            "[509 | 689.76] loss=0.03 avg=0.04\n",
            "[510 | 691.00] loss=0.02 avg=0.04\n",
            "[511 | 692.25] loss=0.03 avg=0.04\n",
            "[512 | 693.49] loss=0.03 avg=0.04\n",
            "[513 | 694.75] loss=0.04 avg=0.04\n",
            "[514 | 696.01] loss=0.03 avg=0.04\n",
            "[515 | 697.25] loss=0.02 avg=0.04\n",
            "[516 | 698.50] loss=0.03 avg=0.04\n",
            "[517 | 699.75] loss=0.02 avg=0.04\n",
            "[518 | 700.99] loss=0.03 avg=0.04\n",
            "[519 | 702.24] loss=0.03 avg=0.04\n",
            "[520 | 703.48] loss=0.02 avg=0.04\n",
            "[521 | 704.73] loss=0.02 avg=0.04\n",
            "[522 | 705.98] loss=0.03 avg=0.04\n",
            "[523 | 707.22] loss=0.03 avg=0.04\n",
            "[524 | 708.46] loss=0.02 avg=0.03\n",
            "[525 | 709.70] loss=0.03 avg=0.03\n",
            "[526 | 710.95] loss=0.03 avg=0.03\n",
            "[527 | 712.19] loss=0.02 avg=0.03\n",
            "[528 | 713.44] loss=0.02 avg=0.03\n",
            "[529 | 714.68] loss=0.02 avg=0.03\n",
            "[530 | 715.93] loss=0.02 avg=0.03\n",
            "[531 | 717.17] loss=0.03 avg=0.03\n",
            "[532 | 718.43] loss=0.02 avg=0.03\n",
            "[533 | 719.67] loss=0.02 avg=0.03\n",
            "[534 | 720.92] loss=0.02 avg=0.03\n",
            "[535 | 722.17] loss=0.02 avg=0.03\n",
            "[536 | 723.42] loss=0.02 avg=0.03\n",
            "[537 | 724.66] loss=0.03 avg=0.03\n",
            "[538 | 725.91] loss=0.02 avg=0.03\n",
            "[539 | 727.15] loss=0.02 avg=0.03\n",
            "[540 | 728.40] loss=0.02 avg=0.03\n",
            "[541 | 729.64] loss=0.02 avg=0.03\n",
            "[542 | 730.88] loss=0.02 avg=0.03\n",
            "[543 | 732.13] loss=0.02 avg=0.03\n",
            "[544 | 733.37] loss=0.02 avg=0.03\n",
            "[545 | 734.61] loss=0.02 avg=0.03\n",
            "[546 | 735.85] loss=0.03 avg=0.03\n",
            "[547 | 737.09] loss=0.03 avg=0.03\n",
            "[548 | 738.33] loss=0.03 avg=0.03\n",
            "[549 | 739.58] loss=0.02 avg=0.03\n",
            "[550 | 740.83] loss=0.03 avg=0.03\n",
            "[551 | 742.08] loss=0.03 avg=0.03\n",
            "[552 | 743.34] loss=0.03 avg=0.03\n",
            "[553 | 744.59] loss=0.02 avg=0.03\n",
            "[554 | 745.84] loss=0.03 avg=0.03\n",
            "[555 | 747.09] loss=0.02 avg=0.03\n",
            "[556 | 748.33] loss=0.02 avg=0.03\n",
            "[557 | 749.57] loss=0.01 avg=0.03\n",
            "[558 | 750.82] loss=0.02 avg=0.03\n",
            "[559 | 752.07] loss=0.03 avg=0.03\n",
            "[560 | 753.32] loss=0.02 avg=0.03\n",
            "[561 | 754.57] loss=0.02 avg=0.03\n",
            "[562 | 755.82] loss=0.02 avg=0.03\n",
            "[563 | 757.06] loss=0.02 avg=0.03\n",
            "[564 | 758.31] loss=0.02 avg=0.03\n",
            "[565 | 759.56] loss=0.02 avg=0.03\n",
            "[566 | 760.80] loss=0.02 avg=0.03\n",
            "[567 | 762.04] loss=0.02 avg=0.03\n",
            "[568 | 763.28] loss=0.02 avg=0.03\n",
            "[569 | 764.52] loss=0.02 avg=0.03\n",
            "[570 | 765.77] loss=0.02 avg=0.03\n",
            "[571 | 767.01] loss=0.03 avg=0.03\n",
            "[572 | 768.25] loss=0.02 avg=0.03\n",
            "[573 | 769.50] loss=0.03 avg=0.03\n",
            "[574 | 770.75] loss=0.02 avg=0.03\n",
            "[575 | 771.99] loss=0.02 avg=0.03\n",
            "[576 | 773.24] loss=0.02 avg=0.03\n",
            "[577 | 774.48] loss=0.02 avg=0.03\n",
            "[578 | 775.73] loss=0.03 avg=0.03\n",
            "[579 | 776.98] loss=0.03 avg=0.03\n",
            "[580 | 778.23] loss=0.02 avg=0.03\n",
            "[581 | 779.48] loss=0.03 avg=0.03\n",
            "[582 | 780.72] loss=0.03 avg=0.03\n",
            "[583 | 781.97] loss=0.02 avg=0.03\n",
            "[584 | 783.21] loss=0.02 avg=0.03\n",
            "[585 | 784.46] loss=0.03 avg=0.03\n",
            "[586 | 785.71] loss=0.02 avg=0.03\n",
            "[587 | 786.97] loss=0.02 avg=0.03\n",
            "[588 | 788.23] loss=0.03 avg=0.03\n",
            "[589 | 789.48] loss=0.02 avg=0.03\n",
            "[590 | 790.72] loss=0.02 avg=0.03\n",
            "[591 | 791.96] loss=0.02 avg=0.03\n",
            "[592 | 793.20] loss=0.03 avg=0.03\n",
            "[593 | 794.45] loss=0.03 avg=0.03\n",
            "[594 | 795.69] loss=0.04 avg=0.03\n",
            "[595 | 796.93] loss=0.02 avg=0.03\n",
            "[596 | 798.17] loss=0.01 avg=0.03\n",
            "[597 | 799.42] loss=0.02 avg=0.03\n",
            "[598 | 800.66] loss=0.02 avg=0.03\n",
            "[599 | 801.90] loss=0.02 avg=0.03\n",
            "[600 | 803.16] loss=0.02 avg=0.03\n",
            "======== SAMPLE 1 ========\n",
            "axa, net dupatta, golden lace ======= A perfect pair of a polka dots kurta and the net dupatta. It's a cotton made piece, which makes it a right choice for the season, plus you can wear it as a dress too.<|endoftext|>\n",
            "<|startoftext|>~^Pink Cotton Palazzoupgrade, pink color, biba, different print, different layer, rounded hemline, plus many more main fabric, cotton kurta ======= Upgrade your collection of basics with this kurta by Biba. It is a cotton made kurta with matching hemline, which makes it a nice pick for the season, plus you can flaunt it without hemline.<|endoftext|>\n",
            "<|startoftext|>~^Off White Cotton Kalidar Suit Setsmart casuals, smart entry, kalidar kurta, print combination, maximum comfort ======= If you are looking for smart casuals to wear for a day out with friends in summer you can give this outfit a smart entry to your wardrobe. It is a set of three, kalidar kurta, churidar, and dupatta. The color and print combination of this kurta is very subtle and fabric used in making assures maximum comfort.<|endoftext|>\n",
            "<|startoftext|>~^Navy Blue Cotton Lehenga Setquirky addition, festive wardrobe, biba, mid length blouse, ombre effect, big tassels, beads threads, styled, dual tone dupatta, unique choice, festive season ======= A quirky addition to your festive wardrobe with this lehenga set by Biba. It comprises a mid length blouse, lehenga and dupatta. The set has unconventional yet impressive detailing, which includes the ombre effect on lehenga, big tassels on drawstring, a mix of beads threads and sitraras on blouse. Styled with a dual tone dupatta, this set will prove a unique choice for the festive season.<|endoftext|>\n",
            "<|startoftext|>~^Off White Anarkali Cotton Suit Setethnic look, anarkali, designer collection, biba, set comprises, long front slit kurta, thread work, lehenga bottom, patti, gota patti, inspired, pearl jewellery, potali bag, shimmery mid-heels ======= Put your best ethnic look�forward�wearing this gorgeous Anarkali suit-set from the designer collection of Biba. The set comprises a long front slit kurta, beautifully detailed with thread work and�sitaras, one lehenga bottom with Patti and crushed dupatta with�gota�patti. Inspired by the trend, this set will leave everyone awestruck when will enter to the venue flaunting it.<|endoftext|>\n",
            "<|startoftext|>~^Black Straight Cotton Suit Setcomprises kurta, palazzo pants, crafted, perfect summer ======= Look simply beautiful adorning this printed suit-set. It comprises kurta, palazzo pants and dupatta. Crafted in finest fabric and stitched into comfort fit, this set is a perfect summer wear outfit. All you need is a pair of flats for added comfort.<|endoftext|>\n",
            "<|startoftext|>~^Velvet Jacket & Silk Kurta Set By Anju Modifamous costume designer, anju modi, silk chanderi kurta, right amount, intricate handwork, anju modi, indian costume designer, bajirao mastani, filmfare, costume design, gorgeous outfits, ram leela, integral part, indian fashion industry ======= A smart two piece set designed by famous costume designer Anju Modi. The highlight of this outfit is the velvet embroidered jacket over a silk chanderi kurta. Giving the right amount of panache with its intricate handwork and making this worth flaunting.\n",
            "Anju Modi is an Indian costume designer who designed for Bajirao Mastani and earned Filmfare award for best costume design. The gorgeous outfits of Ram Leela were also her creations. She has been an integral part of Indian fashion Industry since the year 1990.<|endoftext|>\n",
            "<|startoftext|>~^Jacket & Silk Kurta Set By Anju Modifamous costume designer, anju modi, silk chanderi kurta, right amount, intricate handwork, anju modi, indian costume designer, bajirao mastani, filmfare, costume design, gorgeous outfits, ram leela, integral part, indian fashion industry ======= A smart two piece set designed by famous costume designer Anju Modi. The highlight of this outfit is the embroidered jacket over a silk chander\n",
            "\n",
            "[601 | 813.14] loss=0.02 avg=0.03\n",
            "[602 | 814.39] loss=0.02 avg=0.03\n",
            "[603 | 815.64] loss=0.02 avg=0.03\n",
            "[604 | 816.88] loss=0.02 avg=0.03\n",
            "[605 | 818.13] loss=0.03 avg=0.03\n",
            "[606 | 819.39] loss=0.02 avg=0.03\n",
            "[607 | 820.64] loss=0.02 avg=0.03\n",
            "[608 | 821.88] loss=0.02 avg=0.03\n",
            "[609 | 823.12] loss=0.03 avg=0.03\n",
            "[610 | 824.36] loss=0.02 avg=0.03\n",
            "[611 | 825.60] loss=0.01 avg=0.03\n",
            "[612 | 826.85] loss=0.01 avg=0.03\n",
            "[613 | 828.09] loss=0.02 avg=0.03\n",
            "[614 | 829.34] loss=0.02 avg=0.03\n",
            "[615 | 830.58] loss=0.02 avg=0.03\n",
            "[616 | 831.83] loss=0.02 avg=0.03\n",
            "[617 | 833.06] loss=0.02 avg=0.03\n",
            "[618 | 834.31] loss=0.03 avg=0.03\n",
            "[619 | 835.56] loss=0.02 avg=0.03\n",
            "[620 | 836.81] loss=0.02 avg=0.03\n",
            "[621 | 838.07] loss=0.02 avg=0.03\n",
            "[622 | 839.31] loss=0.02 avg=0.03\n",
            "[623 | 840.55] loss=0.02 avg=0.03\n",
            "[624 | 841.81] loss=0.02 avg=0.03\n",
            "[625 | 843.05] loss=0.02 avg=0.03\n",
            "[626 | 844.30] loss=0.02 avg=0.03\n",
            "[627 | 845.54] loss=0.02 avg=0.03\n",
            "[628 | 846.79] loss=0.02 avg=0.03\n",
            "[629 | 848.04] loss=0.02 avg=0.03\n",
            "[630 | 849.29] loss=0.02 avg=0.03\n",
            "[631 | 850.54] loss=0.03 avg=0.03\n",
            "[632 | 851.78] loss=0.02 avg=0.03\n",
            "[633 | 853.03] loss=0.02 avg=0.03\n",
            "[634 | 854.27] loss=0.02 avg=0.03\n",
            "[635 | 855.52] loss=0.02 avg=0.03\n",
            "[636 | 856.76] loss=0.01 avg=0.03\n",
            "[637 | 858.00] loss=0.02 avg=0.03\n",
            "[638 | 859.25] loss=0.03 avg=0.03\n",
            "[639 | 860.50] loss=0.02 avg=0.03\n",
            "[640 | 861.75] loss=0.02 avg=0.03\n",
            "[641 | 863.01] loss=0.02 avg=0.03\n",
            "[642 | 864.26] loss=0.03 avg=0.03\n",
            "[643 | 865.51] loss=0.02 avg=0.03\n",
            "[644 | 866.75] loss=0.02 avg=0.03\n",
            "[645 | 867.99] loss=0.02 avg=0.03\n",
            "[646 | 869.23] loss=0.02 avg=0.03\n",
            "[647 | 870.48] loss=0.02 avg=0.03\n",
            "[648 | 871.72] loss=0.02 avg=0.03\n",
            "[649 | 872.97] loss=0.02 avg=0.03\n",
            "[650 | 874.21] loss=0.02 avg=0.03\n",
            "[651 | 875.47] loss=0.02 avg=0.03\n",
            "[652 | 876.72] loss=0.02 avg=0.03\n",
            "[653 | 877.97] loss=0.02 avg=0.03\n",
            "[654 | 879.21] loss=0.02 avg=0.03\n",
            "[655 | 880.45] loss=0.02 avg=0.03\n",
            "[656 | 881.69] loss=0.02 avg=0.03\n",
            "[657 | 882.94] loss=0.02 avg=0.03\n",
            "[658 | 884.18] loss=0.02 avg=0.02\n",
            "[659 | 885.43] loss=0.02 avg=0.02\n",
            "[660 | 886.67] loss=0.02 avg=0.02\n",
            "[661 | 887.91] loss=0.02 avg=0.02\n",
            "[662 | 889.15] loss=0.02 avg=0.02\n",
            "[663 | 890.39] loss=0.02 avg=0.02\n",
            "[664 | 891.64] loss=0.02 avg=0.02\n",
            "[665 | 892.89] loss=0.02 avg=0.02\n",
            "[666 | 894.13] loss=0.02 avg=0.02\n",
            "[667 | 895.38] loss=0.02 avg=0.02\n",
            "[668 | 896.62] loss=0.01 avg=0.02\n",
            "[669 | 897.86] loss=0.02 avg=0.02\n",
            "[670 | 899.10] loss=0.02 avg=0.02\n",
            "[671 | 900.35] loss=0.01 avg=0.02\n",
            "[672 | 901.59] loss=0.02 avg=0.02\n",
            "[673 | 902.84] loss=0.02 avg=0.02\n",
            "[674 | 904.08] loss=0.02 avg=0.02\n",
            "[675 | 905.33] loss=0.02 avg=0.02\n",
            "[676 | 906.58] loss=0.02 avg=0.02\n",
            "[677 | 907.83] loss=0.02 avg=0.02\n",
            "[678 | 909.07] loss=0.03 avg=0.02\n",
            "[679 | 910.32] loss=0.02 avg=0.02\n",
            "[680 | 911.56] loss=0.02 avg=0.02\n",
            "[681 | 912.81] loss=0.03 avg=0.02\n",
            "[682 | 914.05] loss=0.02 avg=0.02\n",
            "[683 | 915.29] loss=0.03 avg=0.02\n",
            "[684 | 916.54] loss=0.02 avg=0.02\n",
            "[685 | 917.80] loss=0.02 avg=0.02\n",
            "[686 | 919.03] loss=0.01 avg=0.02\n",
            "[687 | 920.29] loss=0.02 avg=0.02\n",
            "[688 | 921.53] loss=0.02 avg=0.02\n",
            "[689 | 922.78] loss=0.03 avg=0.02\n",
            "[690 | 924.02] loss=0.01 avg=0.02\n",
            "[691 | 925.26] loss=0.02 avg=0.02\n",
            "[692 | 926.51] loss=0.03 avg=0.02\n",
            "[693 | 927.76] loss=0.02 avg=0.02\n",
            "[694 | 928.99] loss=0.02 avg=0.02\n",
            "[695 | 930.25] loss=0.02 avg=0.02\n",
            "[696 | 931.49] loss=0.01 avg=0.02\n",
            "[697 | 932.74] loss=0.02 avg=0.02\n",
            "[698 | 933.99] loss=0.02 avg=0.02\n",
            "[699 | 935.25] loss=0.03 avg=0.02\n",
            "[700 | 936.50] loss=0.02 avg=0.02\n",
            "======== SAMPLE 1 ========\n",
            " of cotton pants. It comes in layered body featuring different print on a different layer. Crafted in finest cotton, this kurta is an apt choice for summer. Take home and pair with contrast blue pants.<|endoftext|>\n",
            "<|startoftext|>~^Pink Cotton Dupattaethnic look, pink cotton dupatta, biba, 's designer collection, anjuka, red jacket, crafted, cotton fabric, daily use, favourite top ======= Give your ethnic look a femnine match with this blush pink cotton dupatta by Biba. It comes featuring three layers featuring mini embroidery, knitted churidar and dupatta. Crafted in finest cotton, this kurta is an apt choice for summer. Take home and pair with contrast red jacket.<|endoftext|>\n",
            "<|startoftext|>~^Pink Cotton Straight Suit Setcomprises kurta, palazzo pants, crafted, perfect summer ======= Look simply beautiful adorning this printed suit-set. It comprises kurta, palazzo pants and dupatta. Crafted in finest cotton and featuring cotton lining, the kurta of this set is perfect summer wear. All you need is a pair of flats for added comfort.<|endoftext|>\n",
            "<|startoftext|>~^Navy Blue Cotton Lehenga Setbiba, palazzo, different print, styled, contrast dupatta, modern fashionista ======= For those who love experimenting with their wardrobe, this suit-set by Biba is perfect. The kurta from this set has layered bodice featuring a embroidered patch below the shoulder, making it one of kind. Palazzo also has two layers with different print. Styled with a contrast dupatta, this suit set is a must buy for a modern fashionista.<|endoftext|>\n",
            "<|startoftext|>~^Off White Lehenga Setoff white lehenga, white lehenga, top, industrial embroidery, gold metallic print, silhouette, shimmery lehenga, solid texture, crafted, great choice, blue pants ======= Off White Lehenga Setlistening to artists wardrobe this summer is a must do. It is a mix of fashionista, fashion wardrobe, food, food design, floral print, lehenga, solid texture, stretchable fabric ======= Lehenga wearing for a listening party. She has short black lehenga top and yellow printed lehenga with contrast print. Lehenga comes in solid texture and dupatta comes with stretchable fabric matching to the lehenga.<|endoftext|>\n",
            "<|startoftext|>~^Red Cotton Straight Suit Setbiba, red glare, crafted, perfect summer ======= A perfect match to your summer wear. This lehenga set by Biba is made from cotton fabric and has cotton lining. Crafted in finest cotton, this set is a perfect summer wear. Buy it and pair it with straight red glare to create a cinch. Shop now a let her designer collection grow.<|endoftext|>\n",
            "<|startoftext|>~^Indigo Short Kurta Cotton Suit Setindigo short kurta, suit set ======= Indigo Short Kurta Cotton Suit Set<|endoftext|>\n",
            "<|startoftext|>~^Off White Cotton Kalidar Suit Setsmart casuals, smart entry, kalidar kurta, print combination, maximum comfort ======= If you are looking for smart casuals to wear for a day out with friends in summer you can give this outfit a smart entry to your wardrobe. It is a set of three, kalidar kurta, churidar, and dupatta. The color and print combination of this kurta is very subtle and fabric used in making assures maximum comfort.<|endoftext|>\n",
            "<|startoftext|>~^Sage Green Tiered Suit Setshimmery sage green suit, long kurta, shimmery yoke, net dupatta, heavy embroidery, net dupatta, gold lace, ultimate choice, off white pants ======= A shimmery sage green suit set for your little girl. It is a set of three, a tiered long kurta with shimmery yoke and crushed inner, net dupatta with gold lace and crushed net dupatta with crushed inner. It is a cotton made piece and comes with cotton lining.<|endoftext|>\n",
            "<|startoftext|>~^Turquoise And Red Cotton Straight Suit Setjacket kurta, red jacket, kurta, lotus print, full sleeves, contrast embroidery, salwar, solid texture ======= A jacket kurta with salwar . This gorgeous set is for girls. It is a three piece set, which includes a kurta, contrasting red jacket and dup\n",
            "\n",
            "[701 | 946.99] loss=0.02 avg=0.02\n",
            "[702 | 948.24] loss=0.02 avg=0.02\n",
            "[703 | 949.48] loss=0.02 avg=0.02\n",
            "[704 | 950.73] loss=0.02 avg=0.02\n",
            "[705 | 951.98] loss=0.02 avg=0.02\n",
            "[706 | 953.23] loss=0.02 avg=0.02\n",
            "[707 | 954.47] loss=0.01 avg=0.02\n",
            "[708 | 955.71] loss=0.02 avg=0.02\n",
            "[709 | 956.96] loss=0.02 avg=0.02\n",
            "[710 | 958.20] loss=0.02 avg=0.02\n",
            "[711 | 959.45] loss=0.02 avg=0.02\n",
            "[712 | 960.69] loss=0.02 avg=0.02\n",
            "[713 | 961.93] loss=0.02 avg=0.02\n",
            "[714 | 963.18] loss=0.02 avg=0.02\n",
            "[715 | 964.42] loss=0.02 avg=0.02\n",
            "[716 | 965.65] loss=0.02 avg=0.02\n",
            "[717 | 966.90] loss=0.01 avg=0.02\n",
            "[718 | 968.14] loss=0.02 avg=0.02\n",
            "[719 | 969.38] loss=0.02 avg=0.02\n",
            "[720 | 970.62] loss=0.01 avg=0.02\n",
            "[721 | 971.86] loss=0.01 avg=0.02\n",
            "[722 | 973.10] loss=0.03 avg=0.02\n",
            "[723 | 974.34] loss=0.03 avg=0.02\n",
            "[724 | 975.58] loss=0.02 avg=0.02\n",
            "[725 | 976.82] loss=0.01 avg=0.02\n",
            "[726 | 978.06] loss=0.02 avg=0.02\n",
            "[727 | 979.30] loss=0.02 avg=0.02\n",
            "[728 | 980.55] loss=0.02 avg=0.02\n",
            "[729 | 981.80] loss=0.02 avg=0.02\n",
            "[730 | 983.05] loss=0.02 avg=0.02\n",
            "[731 | 984.29] loss=0.02 avg=0.02\n",
            "[732 | 985.54] loss=0.01 avg=0.02\n",
            "[733 | 986.79] loss=0.01 avg=0.02\n",
            "[734 | 988.02] loss=0.02 avg=0.02\n",
            "[735 | 989.28] loss=0.03 avg=0.02\n",
            "[736 | 990.52] loss=0.02 avg=0.02\n",
            "[737 | 991.78] loss=0.02 avg=0.02\n",
            "[738 | 993.02] loss=0.03 avg=0.02\n",
            "[739 | 994.26] loss=0.02 avg=0.02\n",
            "[740 | 995.52] loss=0.02 avg=0.02\n",
            "[741 | 996.77] loss=0.02 avg=0.02\n",
            "[742 | 998.01] loss=0.02 avg=0.02\n",
            "[743 | 999.25] loss=0.02 avg=0.02\n",
            "[744 | 1000.50] loss=0.02 avg=0.02\n",
            "[745 | 1001.75] loss=0.02 avg=0.02\n",
            "[746 | 1002.99] loss=0.02 avg=0.02\n",
            "[747 | 1004.24] loss=0.02 avg=0.02\n",
            "[748 | 1005.49] loss=0.02 avg=0.02\n",
            "[749 | 1006.73] loss=0.01 avg=0.02\n",
            "[750 | 1007.97] loss=0.02 avg=0.02\n",
            "[751 | 1009.23] loss=0.01 avg=0.02\n",
            "[752 | 1010.47] loss=0.02 avg=0.02\n",
            "[753 | 1011.71] loss=0.02 avg=0.02\n",
            "[754 | 1012.96] loss=0.02 avg=0.02\n",
            "[755 | 1014.19] loss=0.02 avg=0.02\n",
            "[756 | 1015.44] loss=0.02 avg=0.02\n",
            "[757 | 1016.68] loss=0.02 avg=0.02\n",
            "[758 | 1017.93] loss=0.03 avg=0.02\n",
            "[759 | 1019.17] loss=0.02 avg=0.02\n",
            "[760 | 1020.41] loss=0.02 avg=0.02\n",
            "[761 | 1021.66] loss=0.01 avg=0.02\n",
            "[762 | 1022.90] loss=0.02 avg=0.02\n",
            "[763 | 1024.15] loss=0.01 avg=0.02\n",
            "[764 | 1025.39] loss=0.02 avg=0.02\n",
            "[765 | 1026.63] loss=0.01 avg=0.02\n",
            "[766 | 1027.87] loss=0.02 avg=0.02\n",
            "[767 | 1029.12] loss=0.02 avg=0.02\n",
            "[768 | 1030.37] loss=0.01 avg=0.02\n",
            "[769 | 1031.62] loss=0.02 avg=0.02\n",
            "[770 | 1032.86] loss=0.02 avg=0.02\n",
            "[771 | 1034.11] loss=0.02 avg=0.02\n",
            "[772 | 1035.35] loss=0.02 avg=0.02\n",
            "[773 | 1036.60] loss=0.02 avg=0.02\n",
            "[774 | 1037.84] loss=0.02 avg=0.02\n",
            "[775 | 1039.08] loss=0.02 avg=0.02\n",
            "[776 | 1040.32] loss=0.02 avg=0.02\n",
            "[777 | 1041.58] loss=0.02 avg=0.02\n",
            "[778 | 1042.83] loss=0.02 avg=0.02\n",
            "[779 | 1044.08] loss=0.02 avg=0.02\n",
            "[780 | 1045.34] loss=0.02 avg=0.02\n",
            "[781 | 1046.59] loss=0.02 avg=0.02\n",
            "[782 | 1047.84] loss=0.02 avg=0.02\n",
            "[783 | 1049.08] loss=0.02 avg=0.02\n",
            "[784 | 1050.32] loss=0.03 avg=0.02\n",
            "[785 | 1051.57] loss=0.02 avg=0.02\n",
            "[786 | 1052.82] loss=0.02 avg=0.02\n",
            "[787 | 1054.06] loss=0.02 avg=0.02\n",
            "[788 | 1055.33] loss=0.02 avg=0.02\n",
            "[789 | 1056.58] loss=0.02 avg=0.02\n",
            "[790 | 1057.83] loss=0.02 avg=0.02\n",
            "[791 | 1059.07] loss=0.02 avg=0.02\n",
            "[792 | 1060.31] loss=0.02 avg=0.02\n",
            "[793 | 1061.55] loss=0.02 avg=0.02\n",
            "[794 | 1062.79] loss=0.02 avg=0.02\n",
            "[795 | 1064.03] loss=0.03 avg=0.02\n",
            "[796 | 1065.28] loss=0.03 avg=0.02\n",
            "[797 | 1066.51] loss=0.02 avg=0.02\n",
            "[798 | 1067.76] loss=0.03 avg=0.02\n",
            "[799 | 1069.01] loss=0.02 avg=0.02\n",
            "[800 | 1070.26] loss=0.02 avg=0.02\n",
            "======== SAMPLE 1 ========\n",
            " palazzo pants comes in pure cotton with kurta and dupatta. It is a cotton crafted pair, which feels soft to touch.<|endoftext|>\n",
            "<|startoftext|>~^nanbiba, palazzo, different print, styled, contrast dupatta, modern fashionista ======= For those who love experimenting with their wardrobe, this suit set by Biba is perfect. The kurta from this set has layered bodice featuring a embroidered patch below the shoulder, making it one of kind. Palazzo also has two layers with different print. Styled with a contrast dupatta, this suit set is a must buy for a modern fashionista.<|endoftext|>\n",
            "<|startoftext|>~^nanasymmetric hemline, high low kurta, slim pants ======= For those who love asymmetric hemline, this set is definite pick. It is a set of three, which includes a high low kurta, slim pants and dupatta. It's a cotton made suit set, which makes it a smart pick for this season.<|endoftext|>\n",
            "<|startoftext|>~^nanindigo kurta, abstract print, crafted, abstract print ======= An indigo kurta featuring abstract print, round neck, three forth sleeves. Crafted in finest cotton and featuring abstract print, this kurta will help you to get a trendy yet effortless look.<|endoftext|>\n",
            "<|startoftext|>~^nanmustard cotton kurta, contrast print, color block, middle front, crafted, buy, straight indigo pants ======= A mustard cotton kurta featuring V neck, three forth sleeves and slit on either side. It comes with contrast print all over with color block on the middle front. Crafted in finest cotton, the touch of this kurta is very soft. Buy it and pair it with straight indigo pants for a nice match.<|endoftext|>\n",
            "<|startoftext|>~^nanpuff sleeve kurtas, biba, floral print, band collar, � s ======= For the lovers of puff sleeve kurtas, this red one from Biba's latest collection is love. It comes featuring floral print and band collar. It�s a cotton crafted piece, which makes it apt for this season.<|endoftext|>\n",
            "<|startoftext|>~^nanblue cotton asymmetric kurta, perfect choice, white palazzo pants, crafted, floral print ======= A cotton asymmetric kurta featuring floral embroidery in matching color. It is a cotton made kurta with cotton lining, which makes it a perfect choice for this season.<|endoftext|>\n",
            "<|startoftext|>~^nanperfect choice, round neckline, cotton kurta, perfect choice ======= An exact choice for this season. This set comes featuring round neckline and three forth sleeves. It also features floral print all over, band collar and three forth sleeves. Crafted in finest cotton, this kurta is a perfect choice for this season.<|endoftext|>\n",
            "<|startoftext|>~^nanperfect choice, round neckline, cotton kurta, perfect choice ======= An exact choice for this season. This set comes featuring round neckline and three forth sleeves. It also features floral print all over, band collar and three forth sleeves. Crafted in finest cotton, this kurta is a perfect choice for this season.<|endoftext|>\n",
            "<|startoftext|>~^nanperfect choice, round neckline, cotton kurta, perfect choice ======= An exact choice for this season. This set comes featuring round neckline and three forth sleeves. It also features floral print all over, band collar and three forth sleeves. Crafted in finest cotton, this kurta is a perfect choice for this season.<|endoftext|>\n",
            "<|startoftext|>~^nanperfect choice, round neckline, cotton kurta, perfect choice ======= An exact choice for this season. This set comes featuring round neckline and three forth sleeves. It also features floral print all over, band collar and three forth sleeves. Crafted in finest cotton, this kurta is a perfect choice for this season.<|endoftext|>\n",
            "<|startoftext|>~^nanpink kurta, asymmetric kurta, palazzo pants ======= A pink kurta featuring asymmetric kurta. It also features print all over, band collar and three forth sleeves. Crafted in finest cotton, this kurta is perfect to keep you cool in summers.<|endoftext|>\n",
            "<|startoftext|>~^nanpink kurta, palazzo pants =====\n",
            "\n",
            "[801 | 1080.60] loss=0.02 avg=0.02\n",
            "[802 | 1081.84] loss=0.02 avg=0.02\n",
            "[803 | 1083.09] loss=0.02 avg=0.02\n",
            "[804 | 1084.33] loss=0.02 avg=0.02\n",
            "[805 | 1085.57] loss=0.02 avg=0.02\n",
            "[806 | 1086.82] loss=0.02 avg=0.02\n",
            "[807 | 1088.07] loss=0.02 avg=0.02\n",
            "[808 | 1089.32] loss=0.01 avg=0.02\n",
            "[809 | 1090.57] loss=0.02 avg=0.02\n",
            "[810 | 1091.81] loss=0.02 avg=0.02\n",
            "[811 | 1093.06] loss=0.02 avg=0.02\n",
            "[812 | 1094.31] loss=0.02 avg=0.02\n",
            "[813 | 1095.55] loss=0.02 avg=0.02\n",
            "[814 | 1096.79] loss=0.02 avg=0.02\n",
            "[815 | 1098.03] loss=0.02 avg=0.02\n",
            "[816 | 1099.28] loss=0.01 avg=0.02\n",
            "[817 | 1100.52] loss=0.02 avg=0.02\n",
            "[818 | 1101.79] loss=0.01 avg=0.02\n",
            "[819 | 1103.04] loss=0.02 avg=0.02\n",
            "[820 | 1104.28] loss=0.02 avg=0.02\n",
            "[821 | 1105.53] loss=0.02 avg=0.02\n",
            "[822 | 1106.77] loss=0.02 avg=0.02\n",
            "[823 | 1108.02] loss=0.02 avg=0.02\n",
            "[824 | 1109.26] loss=0.01 avg=0.02\n",
            "[825 | 1110.50] loss=0.02 avg=0.02\n",
            "[826 | 1111.74] loss=0.03 avg=0.02\n",
            "[827 | 1112.98] loss=0.02 avg=0.02\n",
            "[828 | 1114.22] loss=0.02 avg=0.02\n",
            "[829 | 1115.48] loss=0.02 avg=0.02\n",
            "[830 | 1116.73] loss=0.02 avg=0.02\n",
            "[831 | 1117.97] loss=0.02 avg=0.02\n",
            "[832 | 1119.21] loss=0.01 avg=0.02\n",
            "[833 | 1120.45] loss=0.02 avg=0.02\n",
            "[834 | 1121.69] loss=0.02 avg=0.02\n",
            "[835 | 1122.95] loss=0.02 avg=0.02\n",
            "[836 | 1124.20] loss=0.02 avg=0.02\n",
            "[837 | 1125.44] loss=0.02 avg=0.02\n",
            "[838 | 1126.68] loss=0.01 avg=0.02\n",
            "[839 | 1127.93] loss=0.01 avg=0.02\n",
            "[840 | 1129.18] loss=0.02 avg=0.02\n",
            "[841 | 1130.43] loss=0.02 avg=0.02\n",
            "[842 | 1131.67] loss=0.02 avg=0.02\n",
            "[843 | 1132.92] loss=0.02 avg=0.02\n",
            "[844 | 1134.17] loss=0.02 avg=0.02\n",
            "[845 | 1135.42] loss=0.02 avg=0.02\n",
            "[846 | 1136.66] loss=0.02 avg=0.02\n",
            "[847 | 1137.91] loss=0.03 avg=0.02\n",
            "[848 | 1139.16] loss=0.02 avg=0.02\n",
            "[849 | 1140.40] loss=0.02 avg=0.02\n",
            "[850 | 1141.65] loss=0.02 avg=0.02\n",
            "[851 | 1142.90] loss=0.02 avg=0.02\n",
            "[852 | 1144.15] loss=0.02 avg=0.02\n",
            "[853 | 1145.39] loss=0.02 avg=0.02\n",
            "[854 | 1146.63] loss=0.02 avg=0.02\n",
            "[855 | 1147.89] loss=0.02 avg=0.02\n",
            "[856 | 1149.15] loss=0.01 avg=0.02\n",
            "[857 | 1150.40] loss=0.02 avg=0.02\n",
            "[858 | 1151.63] loss=0.02 avg=0.02\n",
            "[859 | 1152.88] loss=0.01 avg=0.02\n",
            "[860 | 1154.12] loss=0.02 avg=0.02\n",
            "[861 | 1155.36] loss=0.01 avg=0.02\n",
            "[862 | 1156.60] loss=0.02 avg=0.02\n",
            "[863 | 1157.85] loss=0.02 avg=0.02\n",
            "[864 | 1159.09] loss=0.02 avg=0.02\n",
            "[865 | 1160.35] loss=0.01 avg=0.02\n",
            "[866 | 1161.60] loss=0.01 avg=0.02\n",
            "[867 | 1162.85] loss=0.01 avg=0.02\n",
            "[868 | 1164.09] loss=0.01 avg=0.02\n",
            "[869 | 1165.33] loss=0.02 avg=0.02\n",
            "[870 | 1166.57] loss=0.02 avg=0.02\n",
            "[871 | 1167.82] loss=0.01 avg=0.02\n",
            "[872 | 1169.06] loss=0.02 avg=0.02\n",
            "[873 | 1170.30] loss=0.02 avg=0.02\n",
            "[874 | 1171.55] loss=0.01 avg=0.02\n",
            "[875 | 1172.80] loss=0.02 avg=0.02\n",
            "[876 | 1174.04] loss=0.02 avg=0.02\n",
            "[877 | 1175.29] loss=0.02 avg=0.02\n",
            "[878 | 1176.53] loss=0.02 avg=0.02\n",
            "[879 | 1177.78] loss=0.02 avg=0.02\n",
            "[880 | 1179.03] loss=0.02 avg=0.02\n",
            "[881 | 1180.28] loss=0.02 avg=0.02\n",
            "[882 | 1181.53] loss=0.02 avg=0.02\n",
            "[883 | 1182.77] loss=0.03 avg=0.02\n",
            "[884 | 1184.02] loss=0.03 avg=0.02\n",
            "[885 | 1185.26] loss=0.03 avg=0.02\n",
            "[886 | 1186.51] loss=0.02 avg=0.02\n",
            "[887 | 1187.76] loss=0.02 avg=0.02\n",
            "[888 | 1189.00] loss=0.02 avg=0.02\n",
            "[889 | 1190.25] loss=0.02 avg=0.02\n",
            "[890 | 1191.50] loss=0.02 avg=0.02\n",
            "[891 | 1192.75] loss=0.02 avg=0.02\n",
            "[892 | 1193.98] loss=0.04 avg=0.02\n",
            "[893 | 1195.23] loss=0.03 avg=0.02\n",
            "[894 | 1196.48] loss=0.02 avg=0.02\n",
            "[895 | 1197.72] loss=0.02 avg=0.02\n",
            "[896 | 1198.97] loss=0.02 avg=0.02\n",
            "[897 | 1200.22] loss=0.01 avg=0.02\n",
            "[898 | 1201.47] loss=0.02 avg=0.02\n",
            "[899 | 1202.71] loss=0.03 avg=0.02\n",
            "[900 | 1203.96] loss=0.03 avg=0.02\n",
            "======== SAMPLE 1 ========\n",
            " compleed, cotton pants ======= Let this designer set from Biba's Anju Modi collection add charm to your traditional wardrobe. It is a three piece set, which comprises a straight cut kurta, flared palazzo and dupatta. Kurta features highlighted placket, sleeves' hem and embroidery all over the front. Palazzo features floral embroidery on the front, contrasting red jacket and embroidered dupatta. Crafted in finest cotton, this set is a perfect summer staple.<|endoftext|>\n",
            "<|startoftext|>~^Green Cotton Silk A Line Suit Setgorgeous suit, peach color, line kurta, stretchable churidar, kurta, floral embroidery, gold lace, kurta ======= A gorgeous suit set in green and peach color. It is a three piece set, which includes a straight cut kurta, flared palazzo and dupatta. Kurta comes featuring embroidery all over, floral print all over and dori tie on the sleeves. Kurta is made of silk and comes featuring elasticated waist with drawstring.<|endoftext|>\n",
            "<|startoftext|>~^Red Cotton A Line Suit Setbiba, palazzo, different print, styled, contrast dupatta, modern fashionista ======= For those who love experimenting with their wardrobe, this suit set by Biba is perfect. The kurta from this set has layered bodice featuring a embroidered patch below the shoulder, making it one of kind. Palazzo also has two layers with different print. Styled with a contrast dupatta, this suit set is a must buy for a modern fashionista.<|endoftext|>\n",
            "<|startoftext|>~^Off White Cotton A Line Suit Setasymmetric hemline, high low kurta, slim pants ======= For those who love asymmetric hemline, this set is definite pick. It is a set of three, which includes a high low kurta, slim pants and dupatta. It's a cotton made suit set, which makes it a smart pick for this season.<|endoftext|>\n",
            "<|startoftext|>~^Indigo Cotton Straight Kurtaindigo kurta, abstract print, crafted, abstract print ======= An indigo kurta featuring abstract print, round neck, three forth sleeves. Crafted in finest cotton and featuring abstract print, this kurta will help you to get a trendy yet effortless look.<|endoftext|>\n",
            "<|startoftext|>~^Mustard Cotton Straight Kurtamustard cotton kurta, contrast print, color block, middle front, crafted, buy, straight indigo pants ======= A mustard cotton kurta featuring V neck, three forth sleeves and slit on either side. It comes with contrast print all over with color block on the middle front. Crafted in finest cotton, the touch of this kurta is very soft. Buy it and pair it with straight indigo pants for a nice match.<|endoftext|>\n",
            "<|startoftext|>~^Red Cotton Straight Kurtapuff sleeve kurtas, biba, floral print, band collar, � s ======= For the lovers of puff sleeve kurtas, this red one from Biba's latest collection is love. It comes featuring floral print and band collar. It�s a cotton crafted piece, which makes it apt for this season.<|endoftext|>\n",
            "<|startoftext|>~^Red Cotton Straight Kurtasimplicity work, biba, round neck, crafted ======= Let simplicity work for you this season with this straight cut kurta by Biba. It comes featuring round neck, three forth sleeves and slit on either side. Crafted in finest cotton, this kurta is perfect to keep you cool in summers.<|endoftext|>\n",
            "<|startoftext|>~^White And Black Cotton Straight Kurtacontemporary taste, buy, black polka dots palazzo, new trend ======= A perfect match to your contemporary taste this black and white printed kurta is perfect for you. It is a cotton made kurta with cotton lining, which makes it a summer must buy. Buy now and pair with black polka dots palazzo to create a new trend.<|endoftext|>\n",
            "<|startoftext|>~^Indigo Cotton Straight Kurtaindigo kurta, abstract print, crafted, abstract print ======= An indigo kurta featuring abstract print, round neck, three forth sleeves. Crafted in finest cotton and featuring abstract print, this kurta will help you to get a trendy yet effortless look.<|endoftext|>\n",
            "<|startoftext|>~^Mustard Cotton Straight Kurtamustard cotton kurta\n",
            "\n",
            "[901 | 1214.34] loss=0.02 avg=0.02\n",
            "[902 | 1215.58] loss=0.02 avg=0.02\n",
            "[903 | 1216.83] loss=0.02 avg=0.02\n",
            "[904 | 1218.08] loss=0.02 avg=0.02\n",
            "[905 | 1219.33] loss=0.02 avg=0.02\n",
            "[906 | 1220.57] loss=0.02 avg=0.02\n",
            "[907 | 1221.83] loss=0.02 avg=0.02\n",
            "[908 | 1223.08] loss=0.02 avg=0.02\n",
            "[909 | 1224.32] loss=0.02 avg=0.02\n",
            "[910 | 1225.57] loss=0.02 avg=0.02\n",
            "[911 | 1226.81] loss=0.02 avg=0.02\n",
            "[912 | 1228.05] loss=0.01 avg=0.02\n",
            "[913 | 1229.30] loss=0.02 avg=0.02\n",
            "[914 | 1230.54] loss=0.02 avg=0.02\n",
            "[915 | 1231.79] loss=0.03 avg=0.02\n",
            "[916 | 1233.04] loss=0.02 avg=0.02\n",
            "[917 | 1234.28] loss=0.01 avg=0.02\n",
            "[918 | 1235.54] loss=0.03 avg=0.02\n",
            "[919 | 1236.80] loss=0.02 avg=0.02\n",
            "[920 | 1238.05] loss=0.02 avg=0.02\n",
            "[921 | 1239.30] loss=0.02 avg=0.02\n",
            "[922 | 1240.54] loss=0.02 avg=0.02\n",
            "[923 | 1241.79] loss=0.02 avg=0.02\n",
            "[924 | 1243.04] loss=0.02 avg=0.02\n",
            "[925 | 1244.30] loss=0.02 avg=0.02\n",
            "[926 | 1245.55] loss=0.02 avg=0.02\n",
            "[927 | 1246.80] loss=0.02 avg=0.02\n",
            "[928 | 1248.05] loss=0.02 avg=0.02\n",
            "[929 | 1249.30] loss=0.02 avg=0.02\n",
            "[930 | 1250.55] loss=0.02 avg=0.02\n",
            "[931 | 1251.80] loss=0.02 avg=0.02\n",
            "[932 | 1253.05] loss=0.02 avg=0.02\n",
            "[933 | 1254.30] loss=0.01 avg=0.02\n",
            "[934 | 1255.54] loss=0.02 avg=0.02\n",
            "[935 | 1256.79] loss=0.01 avg=0.02\n",
            "[936 | 1258.03] loss=0.02 avg=0.02\n",
            "[937 | 1259.28] loss=0.02 avg=0.02\n",
            "[938 | 1260.53] loss=0.02 avg=0.02\n",
            "[939 | 1261.78] loss=0.02 avg=0.02\n",
            "[940 | 1263.02] loss=0.02 avg=0.02\n",
            "[941 | 1264.27] loss=0.02 avg=0.02\n",
            "[942 | 1265.51] loss=0.02 avg=0.02\n",
            "[943 | 1266.77] loss=0.02 avg=0.02\n",
            "[944 | 1268.03] loss=0.02 avg=0.02\n",
            "[945 | 1269.27] loss=0.02 avg=0.02\n",
            "[946 | 1270.52] loss=0.01 avg=0.02\n",
            "[947 | 1271.77] loss=0.02 avg=0.02\n",
            "[948 | 1273.01] loss=0.02 avg=0.02\n",
            "[949 | 1274.26] loss=0.02 avg=0.02\n",
            "[950 | 1275.51] loss=0.01 avg=0.02\n",
            "[951 | 1276.76] loss=0.02 avg=0.02\n",
            "[952 | 1278.01] loss=0.02 avg=0.02\n",
            "[953 | 1279.26] loss=0.02 avg=0.02\n",
            "[954 | 1280.51] loss=0.02 avg=0.02\n",
            "[955 | 1281.76] loss=0.02 avg=0.02\n",
            "[956 | 1283.00] loss=0.01 avg=0.02\n",
            "[957 | 1284.25] loss=0.01 avg=0.02\n",
            "[958 | 1285.50] loss=0.02 avg=0.02\n",
            "[959 | 1286.75] loss=0.01 avg=0.02\n",
            "[960 | 1287.99] loss=0.02 avg=0.02\n",
            "[961 | 1289.24] loss=0.02 avg=0.02\n",
            "[962 | 1290.49] loss=0.01 avg=0.02\n",
            "[963 | 1291.73] loss=0.01 avg=0.02\n",
            "[964 | 1292.99] loss=0.02 avg=0.02\n",
            "[965 | 1294.24] loss=0.02 avg=0.02\n",
            "[966 | 1295.50] loss=0.02 avg=0.02\n",
            "[967 | 1296.74] loss=0.02 avg=0.02\n",
            "[968 | 1297.97] loss=0.01 avg=0.02\n",
            "[969 | 1299.22] loss=0.02 avg=0.02\n",
            "[970 | 1300.47] loss=0.01 avg=0.02\n",
            "[971 | 1301.72] loss=0.02 avg=0.02\n",
            "[972 | 1302.97] loss=0.01 avg=0.02\n",
            "[973 | 1304.21] loss=0.02 avg=0.02\n",
            "[974 | 1305.45] loss=0.02 avg=0.02\n",
            "[975 | 1306.69] loss=0.01 avg=0.02\n",
            "[976 | 1307.94] loss=0.02 avg=0.02\n",
            "[977 | 1309.18] loss=0.02 avg=0.02\n",
            "[978 | 1310.43] loss=0.01 avg=0.02\n",
            "[979 | 1311.67] loss=0.01 avg=0.02\n",
            "[980 | 1312.92] loss=0.02 avg=0.02\n",
            "[981 | 1314.16] loss=0.01 avg=0.02\n",
            "[982 | 1315.40] loss=0.01 avg=0.02\n",
            "[983 | 1316.64] loss=0.02 avg=0.02\n",
            "[984 | 1317.89] loss=0.02 avg=0.02\n",
            "[985 | 1319.13] loss=0.02 avg=0.02\n",
            "[986 | 1320.38] loss=0.03 avg=0.02\n",
            "[987 | 1321.62] loss=0.01 avg=0.02\n",
            "[988 | 1322.86] loss=0.02 avg=0.02\n",
            "[989 | 1324.12] loss=0.01 avg=0.02\n",
            "[990 | 1325.36] loss=0.02 avg=0.02\n",
            "[991 | 1326.61] loss=0.02 avg=0.02\n",
            "[992 | 1327.86] loss=0.02 avg=0.02\n",
            "[993 | 1329.10] loss=0.02 avg=0.02\n",
            "[994 | 1330.35] loss=0.01 avg=0.02\n",
            "[995 | 1331.59] loss=0.01 avg=0.02\n",
            "[996 | 1332.84] loss=0.02 avg=0.02\n",
            "[997 | 1334.09] loss=0.02 avg=0.02\n",
            "[998 | 1335.33] loss=0.01 avg=0.02\n",
            "[999 | 1336.57] loss=0.01 avg=0.02\n",
            "[1000 | 1337.81] loss=0.01 avg=0.02\n",
            "Saving checkpoint/run1/model-1000\n"
          ],
          "name": "stdout"
        }
      ]
    },
    {
      "cell_type": "code",
      "metadata": {
        "id": "9Tp_u8m7P_vs",
        "colab": {
          "base_uri": "https://localhost:8080/",
          "height": 121
        },
        "outputId": "8b89addc-6e63-493b-932d-ae3e4bd634c8"
      },
      "source": [
        "from google.colab import drive as dr\n",
        "dr.mount(\"/content/drive/\")"
      ],
      "execution_count": null,
      "outputs": [
        {
          "output_type": "stream",
          "text": [
            "Go to this URL in a browser: https://accounts.google.com/o/oauth2/auth?client_id=947318989803-6bn6qk8qdgf4n4g3pfee6491hc0brc4i.apps.googleusercontent.com&redirect_uri=urn%3aietf%3awg%3aoauth%3a2.0%3aoob&response_type=code&scope=email%20https%3a%2f%2fwww.googleapis.com%2fauth%2fdocs.test%20https%3a%2f%2fwww.googleapis.com%2fauth%2fdrive%20https%3a%2f%2fwww.googleapis.com%2fauth%2fdrive.photos.readonly%20https%3a%2f%2fwww.googleapis.com%2fauth%2fpeopleapi.readonly\n",
            "\n",
            "Enter your authorization code:\n",
            "··········\n",
            "Mounted at /content/drive/\n"
          ],
          "name": "stdout"
        }
      ]
    },
    {
      "cell_type": "code",
      "metadata": {
        "id": "xnY6qrqKfgVZ",
        "colab": {
          "base_uri": "https://localhost:8080/",
          "height": 202
        },
        "outputId": "66c86228-6457-4961-e87d-3d09b1d9938f"
      },
      "source": [
        "!zip -r biba2.zip /content/checkpoint"
      ],
      "execution_count": null,
      "outputs": [
        {
          "output_type": "stream",
          "text": [
            "  adding: content/checkpoint/ (stored 0%)\n",
            "  adding: content/checkpoint/run1/ (stored 0%)\n",
            "  adding: content/checkpoint/run1/hparams.json (deflated 28%)\n",
            "  adding: content/checkpoint/run1/counter (stored 0%)\n",
            "  adding: content/checkpoint/run1/checkpoint (deflated 40%)\n",
            "  adding: content/checkpoint/run1/model-1000.data-00000-of-00001 (deflated 7%)\n",
            "  adding: content/checkpoint/run1/model-1000.meta (deflated 91%)\n",
            "  adding: content/checkpoint/run1/encoder.json (deflated 67%)\n",
            "  adding: content/checkpoint/run1/model-1000.index (deflated 62%)\n",
            "  adding: content/checkpoint/run1/events.out.tfevents.1582776264.60c2efde4c3f (deflated 61%)\n",
            "  adding: content/checkpoint/run1/vocab.bpe (deflated 53%)\n"
          ],
          "name": "stdout"
        }
      ]
    },
    {
      "cell_type": "code",
      "metadata": {
        "id": "6uL6uZb-fmHb"
      },
      "source": [
        "!pip install -U -q PyDrive\n",
        "from pydrive.auth import GoogleAuth\n",
        "from pydrive.drive import GoogleDrive\n",
        "from google.colab import auth\n",
        "from oauth2client.client import GoogleCredentials"
      ],
      "execution_count": null,
      "outputs": []
    },
    {
      "cell_type": "code",
      "metadata": {
        "id": "3A8Q0FkkfpBC"
      },
      "source": [
        "# Authenticate and create the PyDrive client.\n",
        "# This only needs to be done once in a notebook.\n",
        "auth.authenticate_user()\n",
        "gauth = GoogleAuth()\n",
        "gauth.credentials = GoogleCredentials.get_application_default()\n",
        "drive = GoogleDrive(gauth)"
      ],
      "execution_count": null,
      "outputs": []
    },
    {
      "cell_type": "code",
      "metadata": {
        "id": "H_XxvHljfv1M",
        "colab": {
          "base_uri": "https://localhost:8080/",
          "height": 34
        },
        "outputId": "995c03b0-ed3f-49d5-adc4-faf82c8bfe42"
      },
      "source": [
        "# Create & upload a file.\n",
        "uploaded = drive.CreateFile({'title': 'biba2.zip'})\n",
        "uploaded.SetContentFile('biba2.zip')\n",
        "uploaded.Upload()\n",
        "print('Uploaded file with ID {}'.format(uploaded.get('id')))"
      ],
      "execution_count": null,
      "outputs": [
        {
          "output_type": "stream",
          "text": [
            "Uploaded file with ID 1rRNk9ZOv0OGWOiqMC-lM6Mg7lmZqozRA\n"
          ],
          "name": "stdout"
        }
      ]
    },
    {
      "cell_type": "code",
      "metadata": {
        "id": "hEFIjJ2LQcYg"
      },
      "source": [
        "!mkdir checkpoint\n",
        "!cp /content/drive/My*Drive/Models/file1000.zip /content/checkpoint"
      ],
      "execution_count": null,
      "outputs": []
    },
    {
      "cell_type": "code",
      "metadata": {
        "id": "xkDPxgAPRtep",
        "colab": {
          "base_uri": "https://localhost:8080/",
          "height": 218
        },
        "outputId": "ba16a64e-eca5-4a19-c4f9-ab5141473c47"
      },
      "source": [
        "!unzip /content/checkpoint/file1000.zip"
      ],
      "execution_count": null,
      "outputs": [
        {
          "output_type": "stream",
          "text": [
            "Archive:  /content/checkpoint/file1000.zip\n",
            "   creating: content/checkpoint/\n",
            "   creating: content/checkpoint/run1/\n",
            " extracting: content/checkpoint/run1/counter  \n",
            "  inflating: content/checkpoint/run1/model-1000.meta  \n",
            "  inflating: content/checkpoint/run1/hparams.json  \n",
            "  inflating: content/checkpoint/run1/encoder.json  \n",
            "  inflating: content/checkpoint/run1/events.out.tfevents.1579265029.ed922aed462e  \n",
            "  inflating: content/checkpoint/run1/vocab.bpe  \n",
            "  inflating: content/checkpoint/run1/model-1000.index  \n",
            "  inflating: content/checkpoint/run1/checkpoint  \n",
            "  inflating: content/checkpoint/run1/model-1000.data-00000-of-00001  \n"
          ],
          "name": "stdout"
        }
      ]
    },
    {
      "cell_type": "code",
      "metadata": {
        "id": "FcLyozXFHWFG"
      },
      "source": [
        "!mkdir checkpoint"
      ],
      "execution_count": null,
      "outputs": []
    },
    {
      "cell_type": "code",
      "metadata": {
        "id": "-GOUy6P5HjFd"
      },
      "source": [
        "!cp /content/drive/My*Drive/Models/biba2.zip /content/checkpoint"
      ],
      "execution_count": null,
      "outputs": []
    },
    {
      "cell_type": "code",
      "metadata": {
        "id": "VDFECh9RHjJ8",
        "colab": {
          "base_uri": "https://localhost:8080/",
          "height": 218
        },
        "outputId": "c569370c-a56b-4867-80a3-0b4b2b2b4503"
      },
      "source": [
        "!unzip /content/checkpoint/biba2.zip"
      ],
      "execution_count": null,
      "outputs": [
        {
          "output_type": "stream",
          "text": [
            "Archive:  /content/checkpoint/biba2.zip\n",
            "   creating: content/checkpoint/\n",
            "   creating: content/checkpoint/run1/\n",
            "  inflating: content/checkpoint/run1/hparams.json  \n",
            " extracting: content/checkpoint/run1/counter  \n",
            "  inflating: content/checkpoint/run1/checkpoint  \n",
            "  inflating: content/checkpoint/run1/model-1000.data-00000-of-00001  \n",
            "  inflating: content/checkpoint/run1/model-1000.meta  \n",
            "  inflating: content/checkpoint/run1/encoder.json  \n",
            "  inflating: content/checkpoint/run1/model-1000.index  \n",
            "  inflating: content/checkpoint/run1/events.out.tfevents.1582776264.60c2efde4c3f  \n",
            "  inflating: content/checkpoint/run1/vocab.bpe  \n"
          ],
          "name": "stdout"
        }
      ]
    },
    {
      "cell_type": "markdown",
      "metadata": {
        "id": "YLl4zKuYvS17"
      },
      "source": [
        "# How to Restore Weights."
      ]
    },
    {
      "cell_type": "code",
      "metadata": {
        "id": "lKa96IcQwd7F"
      },
      "source": [
        "import tensorflow as tf\n",
        "\n",
        "tf.reset_default_graph()"
      ],
      "execution_count": null,
      "outputs": []
    },
    {
      "cell_type": "code",
      "metadata": {
        "id": "_nvWSsviWMnC"
      },
      "source": [
        "\n",
        "sess2 = gpt2.start_tf_sess()\n",
        "\n"
      ],
      "execution_count": null,
      "outputs": []
    },
    {
      "cell_type": "code",
      "metadata": {
        "id": "6v3RWNlFyG-S",
        "colab": {
          "base_uri": "https://localhost:8080/",
          "height": 50
        },
        "outputId": "3d489703-ec9a-4b9c-b291-b7600759e41d"
      },
      "source": [
        "gpt2.load_gpt2(sess2,run_name =\"run1\")"
      ],
      "execution_count": null,
      "outputs": [
        {
          "output_type": "stream",
          "text": [
            "Loading checkpoint checkpoint/run1/model-1000\n",
            "INFO:tensorflow:Restoring parameters from checkpoint/run1/model-1000\n"
          ],
          "name": "stdout"
        }
      ]
    },
    {
      "cell_type": "markdown",
      "metadata": {
        "id": "8AOOuPWr2ONK"
      },
      "source": [
        "# Sample Output from GPT2"
      ]
    },
    {
      "cell_type": "code",
      "metadata": {
        "id": "uFcBiipVvcxF"
      },
      "source": [
        "\n",
        "t=gpt2.generate(sess2,\n",
        "              temperature=0.1,\n",
        "              top_k=40,\n",
        "              nsamples=1,\n",
        "              batch_size=1,\n",
        "              length=200,\n",
        "              prefix=\"<|startoftext|>~^Red Cotton Straight Suit Setcontrast bottom, solid churidar ======= \",\n",
        "              truncate=\"<|endoftext|>\",\n",
        "              include_prefix=False,\n",
        "              sample_delim='\\n',\n",
        "              return_as_list=True)[0]"
      ],
      "execution_count": null,
      "outputs": []
    },
    {
      "cell_type": "code",
      "metadata": {
        "id": "yCln62AgwhjR",
        "colab": {
          "base_uri": "https://localhost:8080/",
          "height": 84
        },
        "outputId": "e0b6c07e-6be4-41ba-d51d-1a5eaa330751"
      },
      "source": [
        "import textwrap\n",
        "print(textwrap.fill(t, 100))"
      ],
      "execution_count": null,
      "outputs": [
        {
          "output_type": "stream",
          "text": [
            "~~~^Red Cotton Straight Suit Setcontrast bottom, solid churidar ======= If you love wearing printed\n",
            "outfits with contrast bottom, then this kurta from our latest launch will definitely entice you. The\n",
            "set combines a straight fit printed kurta, solid churidar and dupatta with matching printed patti.\n",
            "It is a cotton made set, which feels soft to touch.\n"
          ],
          "name": "stdout"
        }
      ]
    },
    {
      "cell_type": "markdown",
      "metadata": {
        "id": "2uDIe2ZVtpOS"
      },
      "source": [
        "# Outputs(~1000 Epochs)\n"
      ]
    },
    {
      "cell_type": "code",
      "metadata": {
        "id": "5hHDpG39DTBd",
        "colab": {
          "base_uri": "https://localhost:8080/",
          "height": 50
        },
        "outputId": "e74e9428-80ea-4774-ebbf-34dae3ba3b8d"
      },
      "source": [
        "t=gpt2.generate(sess2,\n",
        "              temperature=0.7,\n",
        "              top_k=1,\n",
        "              nsamples=2,\n",
        "              batch_size=2,\n",
        "              length=200,\n",
        "              prefix=\"<|startoftext|>~^Red Cotton Straight Suit Setfashionable suit, unconventional print combination, palazzo pants, crafted, floral print ======= \",\n",
        "              truncate=\"<|endoftext|>\",\n",
        "              include_prefix=False,\n",
        "              sample_delim='\\n',\n",
        "              return_as_list=True\n",
        "              )[0]\n",
        "print(textwrap.fill(t, 100))"
      ],
      "execution_count": null,
      "outputs": [
        {
          "output_type": "stream",
          "text": [
            "~~\\/fashionable suit, unconventional print combination, palazzo pants. Crafted in finest cotton and\n",
            "stitched into�comfortable�fit, this palazzo pants is summer a must-buy.\n"
          ],
          "name": "stdout"
        }
      ]
    },
    {
      "cell_type": "markdown",
      "metadata": {
        "id": "c7g-URjDbHL3"
      },
      "source": [
        "Deodorant"
      ]
    },
    {
      "cell_type": "code",
      "metadata": {
        "id": "sf16wu88DWxk",
        "colab": {
          "base_uri": "https://localhost:8080/",
          "height": 67
        },
        "outputId": "7d688acb-d227-4b20-8a8e-ecc776aac274"
      },
      "source": [
        "t=gpt2.generate(sess2,\n",
        "              temperature=0.6,\n",
        "              top_k=40,\n",
        "              nsamples=1,\n",
        "              batch_size=1,\n",
        "              length=200,\n",
        "              prefix=\"<|startoftext|>~^Pink And Green Cotton Anarkali Suit Setanarkali, palazzo pants, crafted =======\",\n",
        "              truncate=\"<|endoftext|>\",\n",
        "              include_prefix=False,\n",
        "              sample_delim='\\n',\n",
        "              return_as_list=True\n",
        "              )[0]\n",
        "print(textwrap.fill(t, 100))"
      ],
      "execution_count": null,
      "outputs": [
        {
          "output_type": "stream",
          "text": [
            " A cotton made Anarkali suit set for your little girl. It is a three piece set, which combines a\n",
            "kurta, flared palazzo pants and a dupatta matching to the palazzo. Crafted in finest cotton and\n",
            "featuring cotton lining, the kurta of this set is very soft to touch and apt for your kid.\n"
          ],
          "name": "stdout"
        }
      ]
    },
    {
      "cell_type": "markdown",
      "metadata": {
        "id": "IMLRay1pbMcM"
      },
      "source": [
        "Casual Shirt"
      ]
    },
    {
      "cell_type": "code",
      "metadata": {
        "id": "_nk8O69WHzCJ",
        "colab": {
          "base_uri": "https://localhost:8080/",
          "height": 67
        },
        "outputId": "05c4f319-6c85-42e7-c97a-674dee9ff86c"
      },
      "source": [
        "t=gpt2.generate(sess2,\n",
        "              temperature=0.7,\n",
        "              top_k=40,\n",
        "              nsamples=1,\n",
        "              batch_size=1,\n",
        "              length=500,\n",
        "              prefix=\"<|startoftext|>~^Yellow Cotton Straight Kurtaown, yellow kurta,round neckline,chic complement, perfect choice =======\",\n",
        "              truncate=\"<|endoftext|>\",\n",
        "              include_prefix=False,\n",
        "              sample_delim='\\n',\n",
        "              return_as_list=True\n",
        "              )[0]\n",
        "print(textwrap.fill(t, 100))"
      ],
      "execution_count": null,
      "outputs": [
        {
          "output_type": "stream",
          "text": [
            " Own simplicity wearing this white kurta from our latest collection. It comes featuring round\n",
            "neckline and three forth sleeves. It is a cotton made kurta, which makes it a perfect choice for\n",
            "you. Take home and pair with contrast blue pants.\n"
          ],
          "name": "stdout"
        }
      ]
    },
    {
      "cell_type": "markdown",
      "metadata": {
        "id": "oTLE0qYmbQqa"
      },
      "source": [
        "Women's Kurti"
      ]
    },
    {
      "cell_type": "code",
      "metadata": {
        "id": "TrqPu10NIwtM",
        "colab": {
          "base_uri": "https://localhost:8080/",
          "height": 67
        },
        "outputId": "e55c8322-ec7e-4464-c9c8-0835ec17aa68"
      },
      "source": [
        "t=gpt2.generate(sess2,\n",
        "              temperature=0.9,\n",
        "              top_k=40,\n",
        "              nsamples=1,\n",
        "              batch_size=1,\n",
        "              length=500,\n",
        "              prefix=\"<|startoftext|>~^White Cotton Two Piece Setwhite cotton top, yellow dhoti pants, top, dhoti pants, delicate skin =======\",\n",
        "              truncate=\"<|endoftext|>\",\n",
        "              include_prefix=False,\n",
        "              sample_delim='\\n',\n",
        "              return_as_list=True\n",
        "              )[0]\n",
        "print(textwrap.fill(t, 100))"
      ],
      "execution_count": null,
      "outputs": [
        {
          "output_type": "stream",
          "text": [
            " A summer perfect two piece set for your little girl. The set includes a white cotton top and yellow\n",
            "dhoti pants. Top comes featuring embroidered yoke and dhoti pants comes featuring elasticated waist.\n",
            "It is a cotton made kurta, which makes it perfect for your kids delicate skin.\n"
          ],
          "name": "stdout"
        }
      ]
    },
    {
      "cell_type": "code",
      "metadata": {
        "id": "CnZ5i34kIn2U",
        "colab": {
          "base_uri": "https://localhost:8080/",
          "height": 50
        },
        "outputId": "13b3a7f6-a665-4d5b-9e06-69006e6529a4"
      },
      "source": [
        "t=gpt2.generate(sess2,\n",
        "              temperature=0.1,\n",
        "              top_k=40,\n",
        "              nsamples=1,\n",
        "              batch_size=1,\n",
        "              length=500,\n",
        "              prefix=\"<|startoftext|>~^Sage Green And Pink Poly Cotton,floral dupatta,unconventional print combination,smart casuals =======\",\n",
        "              truncate=\"<|endoftext|>\",\n",
        "              include_prefix=False,\n",
        "              sample_delim='\\n',\n",
        "              return_as_list=True\n",
        "              )[0]\n",
        "print(textwrap.fill(t, 100))"
      ],
      "execution_count": null,
      "outputs": [
        {
          "output_type": "stream",
          "text": [
            " A perfect match with this suit set is that it is crafted in eco friendly print combination, which\n",
            "makes it a smart casuals set.\n"
          ],
          "name": "stdout"
        }
      ]
    },
    {
      "cell_type": "markdown",
      "metadata": {
        "id": "-7GWKgcMbT2R"
      },
      "source": [
        "Back Cover for Apple iPad"
      ]
    },
    {
      "cell_type": "code",
      "metadata": {
        "id": "2KzqxmygJpa3",
        "colab": {
          "base_uri": "https://localhost:8080/",
          "height": 252
        },
        "outputId": "81fbe3a2-c4d8-41d7-8eac-08c40a78ffba"
      },
      "source": [
        "t=gpt2.generate(sess2,\n",
        "              temperature=0.6,\n",
        "              top_k=40,\n",
        "              nsamples=1,\n",
        "              batch_size=1,\n",
        "              length=200,\n",
        "              prefix=\"<|startoftext|>~^manufacturing Learn Learn-lessons~@DailyObjects Back Cover for Apple iPad 2, 3, 4Brand DailyObjects , Shade Grey , Material Plastic , Designed for Apple iPad 2 3 4 , Model ID Life Case For iPad 2 3 4 , Color Grey , Covered in Warranty Warranty of the product is limited to manufacturing defects only , Warranty Summary 1 Year Warranty , Waterproof Yes  ========\",\n",
        "              truncate=\"<|endoftext|>\",\n",
        "              include_prefix=False,\n",
        "              sample_delim='\\n',\n",
        "              return_as_list=True\n",
        "              )[0]\n",
        "print(textwrap.fill(t, 100))"
      ],
      "execution_count": null,
      "outputs": [
        {
          "output_type": "stream",
          "text": [
            "<|startoftext|>~^manufacturing Learn Learn-lessons~@DailyObjects Back Cover for Apple iPad 2, 3,\n",
            "4Brand DailyObjects , Shade Grey , Material Plastic , Designed for Apple iPad 2 3 4 , Model ID Life\n",
            "Case For iPad 2 3 4 , Color Grey , Covered in Warranty Warranty of the product is limited to\n",
            "manufacturing defects only , Warranty Summary 1 Year Warranty , Waterproof Yes  ========\n",
            "DailyObjects Back Cover for Apple iPad 2, 3, 4 (Grey) Price: Rs. 549 The cover has been designed to\n",
            "provide full protection to your Apple iPad 2, 3, 4 from the elements. This case allows access to all\n",
            "the functions of the Apple iPad 2, 3, 4 without impacting the quality. The case is made of high\n",
            "quality plastic and has been designed to provide full protection to your Apple iPad 2, 3, 4 from the\n",
            "elements. This case is made of high quality plastic and has been designed to provide full protection\n",
            "to your Apple iPad 2, 3, 4 from scratches and other damages The cover is covered in number and has\n",
            "been designed to provide full protection to the device. The cover has also been designed to provide\n",
            "full protection to the user. The cover has also had a thorough testing process to ensure it is\n",
            "suitable for all versions of Apple. The cover has been designed to provide full protection to your\n",
            "Apple iPad 2, 3, 4 from the elements.\n"
          ],
          "name": "stdout"
        }
      ]
    },
    {
      "cell_type": "code",
      "metadata": {
        "id": "WqGPRxQfMGA_"
      },
      "source": [
        ""
      ],
      "execution_count": null,
      "outputs": []
    },
    {
      "cell_type": "markdown",
      "metadata": {
        "id": "ROYa8bVqaumh"
      },
      "source": [
        "# Outputs(~1000 Epochs) -> Temperature 0.6 ~ 0.7\n",
        " "
      ]
    },
    {
      "cell_type": "markdown",
      "metadata": {
        "id": "1ism90HZbcAi"
      },
      "source": [
        "Atithi Flip Flops"
      ]
    },
    {
      "cell_type": "code",
      "metadata": {
        "id": "pfX1G8Zkawx6",
        "colab": {
          "base_uri": "https://localhost:8080/",
          "height": 118
        },
        "outputId": "24714e9c-10ef-407c-9b5b-fd83ba43172e"
      },
      "source": [
        "t=gpt2.generate(sess2,\n",
        "              temperature=0.7,\n",
        "              top_k=40,\n",
        "              nsamples=1,\n",
        "              batch_size=1,\n",
        "              length=200,\n",
        "              prefix=\"<|startoftext|>~^~@Atithi Flip FlopsIdeal For Girls Women , Sole Material Rubber EVA , Number of Contents in Sales Package Pack of 1 , Weight 75 g per single Slipper Weight of the product may vary depending on size , Type Flip Flops , Heel Height 1 8 inch , Strap Material Soft Rubber Strap , Color Red 1 Pair Flip Flops , Other Details Make In India Product , Care Instructions Wash in running water Avoid Use Of Any Hard Detergents Or Solvents For Better Longevity Of The Print Or Design  ======== \",\n",
        "              truncate=\"<|endoftext|>\",\n",
        "              include_prefix=False,\n",
        "              sample_delim='\\n',\n",
        "              return_as_list=True\n",
        "              )[0]\n",
        "print(textwrap.fill(t, 100))"
      ],
      "execution_count": null,
      "outputs": [
        {
          "output_type": "stream",
          "text": [
            " Specifications of Atithi Flip Flops General Ideal For Girls, Women Slipper & Flip Flop Details Sole\n",
            "Material Rubber, EVA Number of Contents in Sales Package Pack of 1 Weight 75 g (per single Slipper)\n",
            "- Weight of the product may vary depending on size. Type Flip Flops Heel Height 1.8 inch Strap\n",
            "Material Soft Rubber Strap Color Red In the Box 1 Pair Flip Flops Additional Details Other Details\n",
            "Make In India Product Care Instructions Wash in running water, Avoid Use Of Any Hard Detergents Or\n",
            "Solvents For Better Longevity Of The Print Or Design\n"
          ],
          "name": "stdout"
        }
      ]
    },
    {
      "cell_type": "markdown",
      "metadata": {
        "id": "TlHfQyvMbc5Q"
      },
      "source": [
        "Deodorant\n",
        "\n"
      ]
    },
    {
      "cell_type": "code",
      "metadata": {
        "id": "HfoJ0nf2axH8",
        "colab": {
          "base_uri": "https://localhost:8080/",
          "height": 50
        },
        "outputId": "81e69165-8520-4e14-f909-381523d1bec4"
      },
      "source": [
        "t=gpt2.generate(sess2,\n",
        "              temperature=0.6,\n",
        "              top_k=40,\n",
        "              nsamples=1,\n",
        "              batch_size=1,\n",
        "              length=200,\n",
        "              prefix=\"<|startoftext|>~^30-Day Free-Shipping Women~@Addiction Rio,Vegas Gift Set  Combo SetNumber of Contents in Set 2 , Gift Set Content 2 Deodrant , Combo Set Content 1 Rio Deodrant 1 Vegas Deodrant , Ideal For Men Women  ======== \",\n",
        "              truncate=\"<|endoftext|>\",\n",
        "              include_prefix=False,\n",
        "              sample_delim='\\n',\n",
        "              return_as_list=True\n",
        "              )[0]\n",
        "print(textwrap.fill(t, 100))"
      ],
      "execution_count": null,
      "outputs": [
        {
          "output_type": "stream",
          "text": [
            " Flipkart.com: Buy Addiction Rio,Vegas Gift Set Combo Set online only for Rs. 425 from Flipkart.com.\n",
            "Only Genuine Products. 30 Day Replacement Guarantee. Free Shipping. Cash On Delivery!\n"
          ],
          "name": "stdout"
        }
      ]
    },
    {
      "cell_type": "markdown",
      "metadata": {
        "id": "BG3Yq9eVbewr"
      },
      "source": [
        "Casual Shirt"
      ]
    },
    {
      "cell_type": "code",
      "metadata": {
        "id": "75sDa6rNa1KP",
        "colab": {
          "base_uri": "https://localhost:8080/",
          "height": 67
        },
        "outputId": "57b26888-7fab-4fe5-a35b-b0bb6610db8d"
      },
      "source": [
        "t=gpt2.generate(sess2,\n",
        "              temperature=0.6,\n",
        "              top_k=40,\n",
        "              nsamples=1,\n",
        "              batch_size=1,\n",
        "              length=200,\n",
        "              prefix=\"<|startoftext|>~^~@Eves Pret A Porter Women's Checkered Casual ShirtPattern Checkered , Ideal For Women s , Occasion Casual , Sleeve Half Sleeve , Number of Contents in Sales Package Pack of 1 , Brand Fit Regular , Fabric 100 Cotton , Fit Regular Shirt , Style Code 99 RED ======\",\n",
        "              truncate=\"<|endoftext|>\",\n",
        "              include_prefix=False,\n",
        "              sample_delim='\\n',\n",
        "              return_as_list=True\n",
        "              )[0]\n",
        "print(textwrap.fill(t, 100))"
      ],
      "execution_count": null,
      "outputs": [
        {
          "output_type": "stream",
          "text": [
            "  Eves Pret A Porter Women's Checkered Casual Shirt - Buy Red Eves Pret A Porter Women's Checkered\n",
            "Casual Shirt For Only Rs. 999 Online in India. Shop Online For Apparels. Huge Collection of Branded\n",
            "Clothes Only at Flipkart.com\n"
          ],
          "name": "stdout"
        }
      ]
    },
    {
      "cell_type": "markdown",
      "metadata": {
        "id": "91nuZ1x4bhfH"
      },
      "source": [
        "Womens Kurti"
      ]
    },
    {
      "cell_type": "code",
      "metadata": {
        "id": "Pu6P4bqca3DH",
        "colab": {
          "base_uri": "https://localhost:8080/",
          "height": 101
        },
        "outputId": "835bbec4-1894-4bdd-d0d4-9be44feb6340"
      },
      "source": [
        "t= gpt2.generate(sess2,\n",
        "              temperature=0.6,\n",
        "              top_k=40,\n",
        "              nsamples=1,\n",
        "              batch_size=1,\n",
        "              length=200,\n",
        "              prefix=\"<|startoftext|>~^~@Menka Embroidered Women's Kurti1 Kurti 30 Days Warranty Policy , Sleeve 3 4 Sleeve , Region Traditional , Number of Contents in Sales Package Pack of 1 , Fabric Cotton , Neck Round Neck , Pattern Embroidered , Ideal For Women s Handwash with Similar Colors  ========\",\n",
        "              truncate=\"<|endoftext|>\",\n",
        "              include_prefix=False,\n",
        "              sample_delim='\\n',\n",
        "              return_as_list=True\n",
        "              )[0]\n",
        "print(textwrap.fill(t, 100))"
      ],
      "execution_count": null,
      "outputs": [
        {
          "output_type": "stream",
          "text": [
            "  Key Features of Menka Embroidered Women's Kurti White,Red, Black, Blue, Green, Yellow, Purple,\n",
            "Multicolor,Specifications of Menka Embroidered Women's Kurti 1 Kurti 30 Days Warranty In the Box 1\n",
            "Kurti General Details Sleeve 3/4 Sleeve Region Traditional Number of Contents in Sales Package Pack\n",
            "of 1 Fabric Cotton Neck Round Neck General Details Pattern Embroidered Ideal For Women's Fabric Care\n",
            "Handwash with Similar Colors\n"
          ],
          "name": "stdout"
        }
      ]
    },
    {
      "cell_type": "markdown",
      "metadata": {
        "id": "C40N8zuYbmYI"
      },
      "source": [
        "Ipad Cover"
      ]
    },
    {
      "cell_type": "code",
      "metadata": {
        "id": "MvjJp8Iqa_Wj",
        "colab": {
          "base_uri": "https://localhost:8080/",
          "height": 252
        },
        "outputId": "aa241aed-c802-4db0-9936-56e4479dee2b"
      },
      "source": [
        "t=gpt2.generate(sess2,\n",
        "              temperature=0.6,\n",
        "              top_k=40,\n",
        "              nsamples=1,\n",
        "              batch_size=1,\n",
        "              length=200,\n",
        "              prefix=\"<|startoftext|>~^manufacturing Learn Learn-lessons~@DailyObjects Back Cover for Apple iPad 2, 3, 4Brand DailyObjects , Shade Grey , Material Plastic , Designed for Apple iPad 2 3 4 , Model ID Life Case For iPad 2 3 4 , Color Grey , Covered in Warranty Warranty of the product is limited to manufacturing defects only , Warranty Summary 1 Year Warranty , Waterproof Yes  ========\",\n",
        "              truncate=\"<|endoftext|>\",\n",
        "              include_prefix=False,\n",
        "              sample_delim='\\n',\n",
        "              return_as_list=True\n",
        "              )[0]\n",
        "print(textwrap.fill(t, 100))"
      ],
      "execution_count": null,
      "outputs": [
        {
          "output_type": "stream",
          "text": [
            "<|startoftext|>~^manufacturing Learn Learn-lessons~@DailyObjects Back Cover for Apple iPad 2, 3,\n",
            "4Brand DailyObjects , Shade Grey , Material Plastic , Designed for Apple iPad 2 3 4 , Model ID Life\n",
            "Case For iPad 2 3 4 , Color Grey , Covered in Warranty Warranty of the product is limited to\n",
            "manufacturing defects only , Warranty Summary 1 Year Warranty , Waterproof Yes  ========\n",
            "DailyObjects Back Cover for Apple iPad 2, 3, 4 (Grey) Price: Rs. 1,685 About DailyObjects: This slim\n",
            "back cover is a product of DailyObjects.com, India’s largest seller of designer and customisable\n",
            "smartphone cases. DailyObjects has a curated collection of exclusive licensed art that we have\n",
            "painstakingly sourced from artists that we love, from around the world. We currently have over 3000\n",
            "amazing designs from over 50 artists from 25 countries across the world, available for more than 50\n",
            "different models of smartphones. About DailyObjects: This slim back cover is a product of\n",
            "DailyObjects.com, India’s largest seller of designer and customisable smartphone cases. DailyObjects\n",
            "has a curated collection of exclusive licensed art that we have painstakingly sourced from artists\n",
            "that we love, from around the world. We currently have over 3000 amazing designs from over 50\n",
            "artists from 25 countries across the world, available for more than 50 different models of\n"
          ],
          "name": "stdout"
        }
      ]
    },
    {
      "cell_type": "markdown",
      "metadata": {
        "id": "Kor8OvJcbpO3"
      },
      "source": [
        "# Outputs(~1000 Epochs) -> Temperature 0.2"
      ]
    },
    {
      "cell_type": "markdown",
      "metadata": {
        "id": "nY_96EeLb7Qq"
      },
      "source": [
        "Atithi Flip Flops"
      ]
    },
    {
      "cell_type": "code",
      "metadata": {
        "id": "HrNn6C_GbA7u",
        "colab": {
          "base_uri": "https://localhost:8080/",
          "height": 118
        },
        "outputId": "3e98a09b-98c6-4af3-8c40-daf7af598318"
      },
      "source": [
        "t=gpt2.generate(sess2,\n",
        "              temperature=0.2,\n",
        "              top_k=40,\n",
        "              nsamples=1,\n",
        "              batch_size=1,\n",
        "              length=200,\n",
        "              prefix=\"<|startoftext|>~^~@Atithi Flip FlopsIdeal For Girls Women , Sole Material Rubber EVA , Number of Contents in Sales Package Pack of 1 , Weight 75 g per single Slipper Weight of the product may vary depending on size , Type Flip Flops , Heel Height 1 8 inch , Strap Material Soft Rubber Strap , Color Red 1 Pair Flip Flops , Other Details Make In India Product , Care Instructions Wash in running water Avoid Use Of Any Hard Detergents Or Solvents For Better Longevity Of The Print Or Design  ======== \",\n",
        "              truncate=\"<|endoftext|>\",\n",
        "              include_prefix=False,\n",
        "              sample_delim='\\n',\n",
        "              return_as_list=True\n",
        "              )[0]\n",
        "print(textwrap.fill(t, 100))"
      ],
      "execution_count": null,
      "outputs": [
        {
          "output_type": "stream",
          "text": [
            " Specifications of Atithi Flip Flops General Ideal For Girls, Women Slipper & Flip Flop Details Sole\n",
            "Material Rubber, EVA Number of Contents in Sales Package Pack of 1 Weight 75 g (per single Slipper)\n",
            "- Weight of the product may vary depending on size. Type Flip Flops Heel Height 1.8 inch Strap\n",
            "Material Soft Rubber Strap Color Red In the Box 1 Pair Flip Flops Additional Details Other Details\n",
            "Make In India Product Care Instructions Wash in running water, Avoid Use Of Any Hard Detergents Or\n",
            "Solvents For Better Longevity Of The Print Or Design\n"
          ],
          "name": "stdout"
        }
      ]
    },
    {
      "cell_type": "markdown",
      "metadata": {
        "id": "nujqXiRVcCoP"
      },
      "source": [
        "Deodorant\n",
        "\n"
      ]
    },
    {
      "cell_type": "code",
      "metadata": {
        "id": "95KXGvCFb-g-",
        "colab": {
          "base_uri": "https://localhost:8080/",
          "height": 50
        },
        "outputId": "5aa7eaf5-1cbb-417f-e7e0-14211a4cc0f7"
      },
      "source": [
        "t=gpt2.generate(sess2,\n",
        "              temperature=0.2,\n",
        "              top_k=40,\n",
        "              nsamples=1,\n",
        "              batch_size=1,\n",
        "              length=200,\n",
        "              prefix=\"<|startoftext|>~^30-Day Free-Shipping Women~@Addiction Rio,Vegas Gift Set  Combo SetNumber of Contents in Set 2 , Gift Set Content 2 Deodrant , Combo Set Content 1 Rio Deodrant 1 Vegas Deodrant , Ideal For Men Women  ======== \",\n",
        "              truncate=\"<|endoftext|>\",\n",
        "              include_prefix=False,\n",
        "              sample_delim='\\n',\n",
        "              return_as_list=True\n",
        "              )[0]\n",
        "print(textwrap.fill(t, 100))"
      ],
      "execution_count": null,
      "outputs": [
        {
          "output_type": "stream",
          "text": [
            " Flipkart.com: Buy Addiction Rio,Vegas Gift Set Combo Set online only for Rs. 360 from Flipkart.com.\n",
            "Only Genuine Products. 30 Day Replacement Guarantee. Free Shipping. Cash On Delivery!\n"
          ],
          "name": "stdout"
        }
      ]
    },
    {
      "cell_type": "markdown",
      "metadata": {
        "id": "8KmxUEmkcI9b"
      },
      "source": [
        "Casual Shirt"
      ]
    },
    {
      "cell_type": "code",
      "metadata": {
        "id": "kIwPnHyVcFMa",
        "colab": {
          "base_uri": "https://localhost:8080/",
          "height": 67
        },
        "outputId": "037cd900-61e5-41e2-defa-5e8f7f2c1cdb"
      },
      "source": [
        "t=gpt2.generate(sess2,\n",
        "              temperature=0.2,\n",
        "              top_k=40,\n",
        "              nsamples=1,\n",
        "              batch_size=1,\n",
        "              length=200,\n",
        "              prefix=\"<|startoftext|>~^~@Eves Pret A Porter Women's Checkered Casual ShirtPattern Checkered , Ideal For Women s , Occasion Casual , Sleeve Half Sleeve , Number of Contents in Sales Package Pack of 1 , Brand Fit Regular , Fabric 100 Cotton , Fit Regular Shirt , Style Code 99 RED ======\",\n",
        "              truncate=\"<|endoftext|>\",\n",
        "              include_prefix=False,\n",
        "              sample_delim='\\n',\n",
        "              return_as_list=True\n",
        "              )[0]\n",
        "print(textwrap.fill(t, 100))"
      ],
      "execution_count": null,
      "outputs": [
        {
          "output_type": "stream",
          "text": [
            "  Eves Pret A Porter Women's Checkered Casual Shirt - Buy Red Eves Pret A Porter Women's Checkered\n",
            "Casual Shirt For Only Rs. 999 Online in India. Shop Online For Apparels. Huge Collection of Branded\n",
            "Clothes Only at Flipkart.com\n"
          ],
          "name": "stdout"
        }
      ]
    },
    {
      "cell_type": "markdown",
      "metadata": {
        "id": "jFp1GlTicNNU"
      },
      "source": [
        "Womens Kurti"
      ]
    },
    {
      "cell_type": "code",
      "metadata": {
        "id": "SNVFO29FcL7F",
        "colab": {
          "base_uri": "https://localhost:8080/",
          "height": 202
        },
        "outputId": "739b6e82-0378-48eb-f5ed-cf8a7e41d575"
      },
      "source": [
        "t=gpt2.generate(sess2,\n",
        "              temperature=0.2,\n",
        "              top_k=40,\n",
        "              nsamples=1,\n",
        "              batch_size=1,\n",
        "              length=200,\n",
        "              prefix=\"<|startoftext|>~^~@Menka Embroidered Women's Kurti1 Kurti 30 Days Warranty Policy , Sleeve 3 4 Sleeve , Region Traditional , Number of Contents in Sales Package Pack of 1 , Fabric Cotton , Neck Round Neck , Pattern Embroidered , Ideal For Women s Handwash with Similar Colors  ========\",\n",
        "              truncate=\"<|endoftext|>\",\n",
        "              include_prefix=False,\n",
        "              sample_delim='\\n',\n",
        "              return_as_list=True\n",
        "              )[0]\n",
        "print(textwrap.fill(t, 100))"
      ],
      "execution_count": null,
      "outputs": [
        {
          "output_type": "stream",
          "text": [
            "  Key Features of Menka Embroidered Women's Kurti White, Black, Blue, Red, Green, Pink, White,\n",
            "Multicolor,Menka Embroidered Women's Kurti (Pack of 1) Price: Rs. 699 Menka is a brand that is\n",
            "synonymous with quality and comfort. We are a brand that brings you quality products with a mission\n",
            "to provide the best quality products to meet your daily needs. We strive to deliver on delivering on\n",
            "delivering on delivering on delivering on delivering on delivering on delivering on delivering on\n",
            "delivering on delivering on delivering on delivering on delivering on delivering on delivering on\n",
            "delivering on delivering on delivering on delivering on delivering on delivering on delivering on\n",
            "delivering on delivering on delivering on delivering on delivering on delivering on delivering on\n",
            "delivering on delivering on delivering on delivering on delivering on delivering on delivering on\n",
            "delivering on delivering on delivering on delivering on delivering on delivering on delivering on\n",
            "delivering on delivering on delivering on delivering on delivering on\n"
          ],
          "name": "stdout"
        }
      ]
    },
    {
      "cell_type": "markdown",
      "metadata": {
        "id": "2Q41BGyacMrk"
      },
      "source": [
        "Ipad Cover"
      ]
    },
    {
      "cell_type": "code",
      "metadata": {
        "id": "8lCHrICIcUEb",
        "colab": {
          "base_uri": "https://localhost:8080/",
          "height": 252
        },
        "outputId": "1750aea1-380a-431b-b46b-c25748498863"
      },
      "source": [
        "t=gpt2.generate(sess2,\n",
        "              temperature=0.2,\n",
        "              top_k=40,\n",
        "              nsamples=1,\n",
        "              batch_size=1,\n",
        "              length=200,\n",
        "              prefix=\"<|startoftext|>~^manufacturing Learn Learn-lessons~@DailyObjects Back Cover for Apple iPad 2, 3, 4Brand DailyObjects , Shade Grey , Material Plastic , Designed for Apple iPad 2 3 4 , Model ID Life Case For iPad 2 3 4 , Color Grey , Covered in Warranty Warranty of the product is limited to manufacturing defects only , Warranty Summary 1 Year Warranty , Waterproof Yes  ========\",\n",
        "              truncate=\"<|endoftext|>\",\n",
        "              include_prefix=False,\n",
        "              sample_delim='\\n',\n",
        "              return_as_list=True\n",
        "              )[0]\n",
        "print(textwrap.fill(t, 100))"
      ],
      "execution_count": null,
      "outputs": [
        {
          "output_type": "stream",
          "text": [
            "<|startoftext|>~^manufacturing Learn Learn-lessons~@DailyObjects Back Cover for Apple iPad 2, 3,\n",
            "4Brand DailyObjects , Shade Grey , Material Plastic , Designed for Apple iPad 2 3 4 , Model ID Life\n",
            "Case For iPad 2 3 4 , Color Grey , Covered in Warranty Warranty of the product is limited to\n",
            "manufacturing defects only , Warranty Summary 1 Year Warranty , Waterproof Yes  ========\n",
            "DailyObjects Back Cover for Apple iPad 2, 3, 4 (Grey) Price: Rs. 1,685 About DailyObjects: This slim\n",
            "back cover is a product of DailyObjects.com, India’s largest seller of designer and customisable\n",
            "smartphone cases. DailyObjects has a curated collection of exclusive licensed art that we have\n",
            "painstakingly sourced from artists that we love, from around the world. We currently have over 3000\n",
            "amazing designs from over 50 artists from 25 countries across the world, available for more than 50\n",
            "different models of smartphones. About DailyObjects: This slim back cover is a product of\n",
            "DailyObjects.com, India’s largest seller of designer and customisable smartphone cases. DailyObjects\n",
            "has a curated collection of exclusive licensed art that we have painstakingly sourced from artists\n",
            "that we love, from around the world. We currently have over 3000 amazing designs from over 50\n",
            "artists from 25 countries across the world, available for more than 50 different models of\n"
          ],
          "name": "stdout"
        }
      ]
    },
    {
      "cell_type": "markdown",
      "metadata": {
        "id": "STYYUzFKcXTo"
      },
      "source": [
        "# Outputs(~1000 Epochs) -> Temperature 1.5"
      ]
    },
    {
      "cell_type": "markdown",
      "metadata": {
        "id": "8C2Ofp9hcdZS"
      },
      "source": [
        "Atithi Flip Flops"
      ]
    },
    {
      "cell_type": "code",
      "metadata": {
        "id": "5BIpJD8ScWX0",
        "colab": {
          "base_uri": "https://localhost:8080/",
          "height": 50
        },
        "outputId": "78fa90e8-f978-4011-f64f-8103b6535456"
      },
      "source": [
        "t=gpt2.generate(sess2,\n",
        "              temperature=1.5,\n",
        "              top_k=40,\n",
        "              nsamples=1,\n",
        "              batch_size=1,\n",
        "              length=200,\n",
        "              prefix=\"<|startoftext|>~^~@Atithi Flip FlopsIdeal For Girls Women , Sole Material Rubber EVA , Number of Contents in Sales Package Pack of 1 , Weight 75 g per single Slipper Weight of the product may vary depending on size , Type Flip Flops , Heel Height 1 8 inch , Strap Material Soft Rubber Strap , Color Red 1 Pair Flip Flops , Other Details Make In India Product , Care Instructions Wash in running water Avoid Use Of Any Hard Detergents Or Solvents For Better Longevity Of The Print Or Design  ======== \",\n",
        "              truncate=\"<|endoftext|>\",\n",
        "              include_prefix=False,\n",
        "              sample_delim='\\n',\n",
        "              return_as_list=True\n",
        "              )[0]\n",
        "print(textwrap.fill(t, 100))"
      ],
      "execution_count": null,
      "outputs": [
        {
          "output_type": "stream",
          "text": [
            " Flipkart.com: Buy Atithi Flip Flops only for Rs. 749 from Flipkart.com. Only Genuine Products. 30\n",
            "Day Replacement Guarantee. Free Shipping. Cash On Delivery!\n"
          ],
          "name": "stdout"
        }
      ]
    },
    {
      "cell_type": "markdown",
      "metadata": {
        "id": "ACi4BlFjcicJ"
      },
      "source": [
        "Deodorant"
      ]
    },
    {
      "cell_type": "code",
      "metadata": {
        "id": "0iXX7rObcgO7",
        "colab": {
          "base_uri": "https://localhost:8080/",
          "height": 50
        },
        "outputId": "31b1fc1b-a9ef-4e30-e03a-8ef67229370a"
      },
      "source": [
        "t=gpt2.generate(sess2,\n",
        "              temperature=1.5,\n",
        "              top_k=40,\n",
        "              nsamples=1,\n",
        "              batch_size=1,\n",
        "              length=200,\n",
        "              prefix=\"<|startoftext|>~^30-Day Free-Shipping Women~@Addiction Rio,Vegas Gift Set  Combo SetNumber of Contents in Set 2 , Gift Set Content 2 Deodrant , Combo Set Content 1 Rio Deodrant 1 Vegas Deodrant , Ideal For Men Women  ======== \",\n",
        "              truncate=\"<|endoftext|>\",\n",
        "              include_prefix=False,\n",
        "              sample_delim='\\n',\n",
        "              return_as_list=True\n",
        "              )[0]\n",
        "print(textwrap.fill(t, 100))"
      ],
      "execution_count": null,
      "outputs": [
        {
          "output_type": "stream",
          "text": [
            " Flipkart.com: Buy Addiction Rio,Vegas Gift Set Combo Set online only for Rs 399 from Flipkart.com.\n",
            "Only Genuine Products. 60 Day Replacement Guarantee. Free Shipping. Cash On Delivery!\n"
          ],
          "name": "stdout"
        }
      ]
    },
    {
      "cell_type": "markdown",
      "metadata": {
        "id": "bi-CpLbNcofg"
      },
      "source": [
        "Womens Kurti"
      ]
    },
    {
      "cell_type": "code",
      "metadata": {
        "id": "bMUNre2Kcmqw",
        "colab": {
          "base_uri": "https://localhost:8080/",
          "height": 50
        },
        "outputId": "b1a0405e-09b0-404c-f411-bd67106eceb0"
      },
      "source": [
        "t=gpt2.generate(sess2,\n",
        "              temperature=1.5,\n",
        "              top_k=40,\n",
        "              nsamples=1,\n",
        "              batch_size=1,\n",
        "              length=200,\n",
        "              prefix=\"<|startoftext|>~^~@Menka Embroidered Women's Kurti1 Kurti 30 Days Warranty Policy , Sleeve 3 4 Sleeve , Region Traditional , Number of Contents in Sales Package Pack of 1 , Fabric Cotton , Neck Round Neck , Pattern Embroidered , Ideal For Women s Handwash with Similar Colors  ========\",\n",
        "              truncate=\"<|endoftext|>\",\n",
        "              include_prefix=False,\n",
        "              sample_delim='\\n',\n",
        "              return_as_list=True\n",
        "              )[0]\n",
        "print(textwrap.fill(t, 100))"
      ],
      "execution_count": null,
      "outputs": [
        {
          "output_type": "stream",
          "text": [
            "  Buy Menka Embroidered Women's Kurti For Only Rs. 2999 Online in India. Shop Online For Apparels.\n",
            "Huge Collection of Branded Clothes Only at Flipkart.com\n"
          ],
          "name": "stdout"
        }
      ]
    },
    {
      "cell_type": "code",
      "metadata": {
        "id": "aU2Vl2zycriH"
      },
      "source": [
        ""
      ],
      "execution_count": null,
      "outputs": []
    },
    {
      "cell_type": "markdown",
      "metadata": {
        "id": "WspHNShecuyK"
      },
      "source": [
        ""
      ]
    }
  ]
}