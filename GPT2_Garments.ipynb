{
  "nbformat": 4,
  "nbformat_minor": 0,
  "metadata": {
    "colab": {
      "name": "GPT2-Garments",
      "provenance": [],
      "authorship_tag": "ABX9TyNKJYUhABXuJGRf5k6MxV4J",
      "include_colab_link": true
    },
    "kernelspec": {
      "name": "python3",
      "display_name": "Python 3"
    },
    "accelerator": "GPU"
  },
  "cells": [
    {
      "cell_type": "markdown",
      "metadata": {
        "id": "view-in-github",
        "colab_type": "text"
      },
      "source": [
        "<a href=\"https://colab.research.google.com/github/AbhilashPal/Machine-Learning/blob/master/GPT2_Garments.ipynb\" target=\"_parent\"><img src=\"https://colab.research.google.com/assets/colab-badge.svg\" alt=\"Open In Colab\"/></a>"
      ]
    },
    {
      "cell_type": "code",
      "metadata": {
        "id": "ejZGmXSPx2yM",
        "colab": {
          "base_uri": "https://localhost:8080/",
          "height": 356
        },
        "outputId": "deb3735d-946e-4241-a11b-895120b7532e"
      },
      "source": [
        "!pip3 install gpt-2-simple"
      ],
      "execution_count": null,
      "outputs": [
        {
          "output_type": "stream",
          "text": [
            "Collecting gpt-2-simple\n",
            "  Downloading https://files.pythonhosted.org/packages/6f/e4/a90add0c3328eed38a46c3ed137f2363b5d6a07bf13ee5d5d4d1e480b8c3/gpt_2_simple-0.7.1.tar.gz\n",
            "Requirement already satisfied: regex in /usr/local/lib/python3.6/dist-packages (from gpt-2-simple) (2019.12.20)\n",
            "Requirement already satisfied: requests in /usr/local/lib/python3.6/dist-packages (from gpt-2-simple) (2.21.0)\n",
            "Requirement already satisfied: tqdm in /usr/local/lib/python3.6/dist-packages (from gpt-2-simple) (4.28.1)\n",
            "Requirement already satisfied: numpy in /usr/local/lib/python3.6/dist-packages (from gpt-2-simple) (1.18.1)\n",
            "Collecting toposort\n",
            "  Downloading https://files.pythonhosted.org/packages/e9/8a/321cd8ea5f4a22a06e3ba30ef31ec33bea11a3443eeb1d89807640ee6ed4/toposort-1.5-py2.py3-none-any.whl\n",
            "Requirement already satisfied: certifi>=2017.4.17 in /usr/local/lib/python3.6/dist-packages (from requests->gpt-2-simple) (2019.11.28)\n",
            "Requirement already satisfied: chardet<3.1.0,>=3.0.2 in /usr/local/lib/python3.6/dist-packages (from requests->gpt-2-simple) (3.0.4)\n",
            "Requirement already satisfied: idna<2.9,>=2.5 in /usr/local/lib/python3.6/dist-packages (from requests->gpt-2-simple) (2.8)\n",
            "Requirement already satisfied: urllib3<1.25,>=1.21.1 in /usr/local/lib/python3.6/dist-packages (from requests->gpt-2-simple) (1.24.3)\n",
            "Building wheels for collected packages: gpt-2-simple\n",
            "  Building wheel for gpt-2-simple (setup.py) ... \u001b[?25l\u001b[?25hdone\n",
            "  Created wheel for gpt-2-simple: filename=gpt_2_simple-0.7.1-cp36-none-any.whl size=23581 sha256=1518e0183fa69952c6830ce21e4dd7ca997a1616eabdd4d898f46f1a5c039ac7\n",
            "  Stored in directory: /root/.cache/pip/wheels/0c/f8/23/b53ce437504597edff76bf9c3b8de08ad716f74f6c6baaa91a\n",
            "Successfully built gpt-2-simple\n",
            "Installing collected packages: toposort, gpt-2-simple\n",
            "Successfully installed gpt-2-simple-0.7.1 toposort-1.5\n"
          ],
          "name": "stdout"
        }
      ]
    },
    {
      "cell_type": "code",
      "metadata": {
        "id": "5FB5ICUb-o8Z",
        "colab": {
          "base_uri": "https://localhost:8080/",
          "height": 331
        },
        "outputId": "0f24a2b3-bf34-48a7-9c95-b75d1fc93cb4"
      },
      "source": [
        "import gpt_2_simple as gpt2\n",
        "import os\n",
        "import requests\n",
        "\n",
        "model_name = \"124M\"\n",
        "if not os.path.isdir(os.path.join(\"models\", model_name)):\n",
        "\tprint(f\"Downloading {model_name} model...\")\n",
        "\tgpt2.download_gpt2(model_name=model_name)   # model is saved into current directory under /models/124M/\n",
        "\n",
        "\n",
        "file_name = \"Data2_encoded.txt\"\n",
        "if not os.path.isfile(file_name):\n",
        "\turl = \"https://raw.githubusercontent.com/AbhilashPal/weblab/master/dat_encoded.txt\"\n",
        "\tdata = requests.get(url)\n",
        "\t\n",
        "\twith open(file_name, 'w') as f:\n",
        "\t\tf.write(data.text)\n",
        "    \n",
        "\n"
      ],
      "execution_count": null,
      "outputs": [
        {
          "output_type": "display_data",
          "data": {
            "text/html": [
              "<p style=\"color: red;\">\n",
              "The default version of TensorFlow in Colab will soon switch to TensorFlow 2.x.<br>\n",
              "We recommend you <a href=\"https://www.tensorflow.org/guide/migrate\" target=\"_blank\">upgrade</a> now \n",
              "or ensure your notebook will continue to use TensorFlow 1.x via the <code>%tensorflow_version 1.x</code> magic:\n",
              "<a href=\"https://colab.research.google.com/notebooks/tensorflow_version.ipynb\" target=\"_blank\">more info</a>.</p>\n"
            ],
            "text/plain": [
              "<IPython.core.display.HTML object>"
            ]
          },
          "metadata": {
            "tags": []
          }
        },
        {
          "output_type": "stream",
          "text": [
            "WARNING:tensorflow:\n",
            "The TensorFlow contrib module will not be included in TensorFlow 2.0.\n",
            "For more information, please see:\n",
            "  * https://github.com/tensorflow/community/blob/master/rfcs/20180907-contrib-sunset.md\n",
            "  * https://github.com/tensorflow/addons\n",
            "  * https://github.com/tensorflow/io (for I/O related ops)\n",
            "If you depend on functionality not listed there, please file an issue.\n",
            "\n"
          ],
          "name": "stdout"
        },
        {
          "output_type": "stream",
          "text": [
            "Fetching checkpoint: 1.05Mit [00:00, 288Mit/s]                                                      "
          ],
          "name": "stderr"
        },
        {
          "output_type": "stream",
          "text": [
            "Downloading 124M model...\n"
          ],
          "name": "stdout"
        },
        {
          "output_type": "stream",
          "text": [
            "\n",
            "Fetching encoder.json: 1.05Mit [00:00, 104Mit/s]                                                    \n",
            "Fetching hparams.json: 1.05Mit [00:00, 251Mit/s]                                                    \n",
            "Fetching model.ckpt.data-00000-of-00001: 498Mit [00:04, 107Mit/s]                                   \n",
            "Fetching model.ckpt.index: 1.05Mit [00:00, 472Mit/s]                                                \n",
            "Fetching model.ckpt.meta: 1.05Mit [00:00, 203Mit/s]                                                 \n",
            "Fetching vocab.bpe: 1.05Mit [00:00, 240Mit/s]                                                       \n"
          ],
          "name": "stderr"
        }
      ]
    },
    {
      "cell_type": "code",
      "metadata": {
        "id": "CrBm9CycdSGe",
        "colab": {
          "base_uri": "https://localhost:8080/",
          "height": 1000
        },
        "outputId": "9d70118b-7857-4c42-90cf-ef98c899ac85"
      },
      "source": [
        "sess = gpt2.start_tf_sess()\n",
        "gpt2.finetune(sess,\n",
        "              file_name,\n",
        "              model_name=model_name,\n",
        "              steps=1000)   # steps is max number of training steps\n",
        "\n"
      ],
      "execution_count": null,
      "outputs": [
        {
          "output_type": "stream",
          "text": [
            "WARNING:tensorflow:From /usr/local/lib/python3.6/dist-packages/gpt_2_simple/src/sample.py:17: where (from tensorflow.python.ops.array_ops) is deprecated and will be removed in a future version.\n",
            "Instructions for updating:\n",
            "Use tf.where in 2.0, which has the same broadcast rule as np.where\n",
            "Loading checkpoint models/124M/model.ckpt\n",
            "INFO:tensorflow:Restoring parameters from models/124M/model.ckpt\n"
          ],
          "name": "stdout"
        },
        {
          "output_type": "stream",
          "text": [
            "\r  0%|          | 0/1 [00:00<?, ?it/s]"
          ],
          "name": "stderr"
        },
        {
          "output_type": "stream",
          "text": [
            "Loading dataset...\n"
          ],
          "name": "stdout"
        },
        {
          "output_type": "stream",
          "text": [
            "\r100%|██████████| 1/1 [00:04<00:00,  4.23s/it]\n"
          ],
          "name": "stderr"
        },
        {
          "output_type": "stream",
          "text": [
            "dataset has 1143792 tokens\n",
            "Training...\n",
            "[1 | 8.64] loss=1.88 avg=1.88\n",
            "[2 | 10.81] loss=1.96 avg=1.92\n",
            "[3 | 12.99] loss=1.70 avg=1.84\n",
            "[4 | 15.17] loss=1.68 avg=1.80\n",
            "[5 | 17.35] loss=1.84 avg=1.81\n",
            "[6 | 19.55] loss=1.76 avg=1.80\n",
            "[7 | 21.75] loss=1.63 avg=1.78\n",
            "[8 | 23.95] loss=1.63 avg=1.76\n",
            "[9 | 26.16] loss=1.59 avg=1.74\n",
            "[10 | 28.37] loss=1.53 avg=1.72\n",
            "[11 | 30.58] loss=1.67 avg=1.71\n",
            "[12 | 32.80] loss=1.72 avg=1.71\n",
            "[13 | 35.02] loss=1.24 avg=1.67\n",
            "[14 | 37.24] loss=1.36 avg=1.65\n",
            "[15 | 39.47] loss=1.34 avg=1.63\n",
            "[16 | 41.71] loss=1.19 avg=1.60\n",
            "[17 | 43.95] loss=1.40 avg=1.59\n",
            "[18 | 46.20] loss=1.26 avg=1.57\n",
            "[19 | 48.44] loss=1.27 avg=1.55\n",
            "[20 | 50.69] loss=1.25 avg=1.53\n",
            "[21 | 52.97] loss=1.20 avg=1.52\n",
            "[22 | 55.23] loss=0.91 avg=1.49\n",
            "[23 | 57.50] loss=1.21 avg=1.47\n",
            "[24 | 59.77] loss=1.10 avg=1.45\n",
            "[25 | 62.04] loss=1.22 avg=1.44\n",
            "[26 | 64.31] loss=1.11 avg=1.43\n",
            "[27 | 66.58] loss=1.06 avg=1.41\n",
            "[28 | 68.86] loss=1.15 avg=1.40\n",
            "[29 | 71.15] loss=1.12 avg=1.39\n",
            "[30 | 73.44] loss=1.18 avg=1.38\n",
            "[31 | 75.73] loss=1.37 avg=1.38\n",
            "[32 | 78.03] loss=0.96 avg=1.37\n",
            "[33 | 80.33] loss=1.05 avg=1.36\n",
            "[34 | 82.64] loss=0.98 avg=1.34\n",
            "[35 | 84.94] loss=1.18 avg=1.34\n",
            "[36 | 87.25] loss=0.95 avg=1.33\n",
            "[37 | 89.56] loss=0.80 avg=1.31\n",
            "[38 | 91.89] loss=1.03 avg=1.30\n",
            "[39 | 94.22] loss=1.16 avg=1.30\n",
            "[40 | 96.55] loss=0.98 avg=1.29\n",
            "[41 | 98.87] loss=1.03 avg=1.28\n",
            "[42 | 101.19] loss=0.82 avg=1.26\n",
            "[43 | 103.53] loss=1.08 avg=1.26\n",
            "[44 | 105.87] loss=0.83 avg=1.25\n",
            "[45 | 108.20] loss=1.09 avg=1.24\n",
            "[46 | 110.53] loss=1.04 avg=1.24\n",
            "[47 | 112.86] loss=1.10 avg=1.23\n",
            "[48 | 115.19] loss=0.95 avg=1.23\n",
            "[49 | 117.52] loss=0.87 avg=1.22\n",
            "[50 | 119.84] loss=0.96 avg=1.21\n",
            "[51 | 122.16] loss=0.85 avg=1.20\n",
            "[52 | 124.48] loss=0.90 avg=1.19\n",
            "[53 | 126.80] loss=1.00 avg=1.19\n",
            "[54 | 129.12] loss=1.03 avg=1.19\n",
            "[55 | 131.43] loss=1.05 avg=1.18\n",
            "[56 | 133.75] loss=1.01 avg=1.18\n",
            "[57 | 136.05] loss=0.90 avg=1.17\n",
            "[58 | 138.36] loss=1.01 avg=1.17\n",
            "[59 | 140.67] loss=0.93 avg=1.16\n",
            "[60 | 142.97] loss=0.79 avg=1.16\n",
            "[61 | 145.28] loss=0.91 avg=1.15\n",
            "[62 | 147.59] loss=1.05 avg=1.15\n",
            "[63 | 149.90] loss=1.06 avg=1.15\n",
            "[64 | 152.22] loss=0.90 avg=1.14\n",
            "[65 | 154.53] loss=1.05 avg=1.14\n",
            "[66 | 156.84] loss=1.00 avg=1.14\n",
            "[67 | 159.15] loss=0.89 avg=1.13\n",
            "[68 | 161.46] loss=0.81 avg=1.12\n",
            "[69 | 163.79] loss=0.96 avg=1.12\n",
            "[70 | 166.10] loss=0.90 avg=1.12\n",
            "[71 | 168.42] loss=0.93 avg=1.11\n",
            "[72 | 170.74] loss=0.90 avg=1.11\n",
            "[73 | 173.06] loss=0.88 avg=1.10\n",
            "[74 | 175.38] loss=0.76 avg=1.10\n",
            "[75 | 177.72] loss=1.15 avg=1.10\n",
            "[76 | 180.04] loss=0.86 avg=1.09\n",
            "[77 | 182.38] loss=0.90 avg=1.09\n",
            "[78 | 184.70] loss=0.97 avg=1.09\n",
            "[79 | 187.04] loss=0.95 avg=1.09\n",
            "[80 | 189.36] loss=0.72 avg=1.08\n",
            "[81 | 191.70] loss=0.80 avg=1.07\n",
            "[82 | 194.02] loss=0.83 avg=1.07\n",
            "[83 | 196.35] loss=0.91 avg=1.07\n",
            "[84 | 198.69] loss=0.78 avg=1.06\n",
            "[85 | 201.01] loss=0.92 avg=1.06\n",
            "[86 | 203.34] loss=0.94 avg=1.06\n",
            "[87 | 205.67] loss=0.97 avg=1.06\n",
            "[88 | 207.99] loss=0.94 avg=1.05\n",
            "[89 | 210.31] loss=0.85 avg=1.05\n",
            "[90 | 212.64] loss=0.84 avg=1.05\n",
            "[91 | 214.95] loss=0.83 avg=1.04\n",
            "[92 | 217.27] loss=0.85 avg=1.04\n",
            "[93 | 219.59] loss=0.95 avg=1.04\n",
            "[94 | 221.91] loss=1.01 avg=1.04\n",
            "[95 | 224.23] loss=0.72 avg=1.03\n",
            "[96 | 226.54] loss=0.91 avg=1.03\n",
            "[97 | 228.85] loss=0.74 avg=1.03\n",
            "[98 | 231.17] loss=0.86 avg=1.02\n",
            "[99 | 233.48] loss=0.73 avg=1.02\n",
            "[100 | 235.80] loss=0.80 avg=1.02\n",
            "======== SAMPLE 1 ========\n",
            "^3/4|\n",
            "L:1/4 - G\n",
            "\"D\"A/2G/2 \"A7\"AF/2G/2|\"D\"AG/2A/2 AB/2|\"G\"B/2A/2 GdB|\n",
            "\"D\"Ad \"G\"GA|\"D\"AF/2G/2 DE|\"D\"AG/2A/2 AB/2|\"G\"B/2A/2 \"A\"c/2d/2e/2|\"D\"f/2g/2 \"A7\"e/2d/2c/2|\n",
            "\"A7\"e/2e/2 d/2c/2A/2F/2|\"D\"DAA/2 B/2c/2A/2F/2|\"D\"DAA/2 D/2B/2c/2d/2|\\\n",
            "\"G\"G/2A/2 GdB|\"D\"Ad \"G\"GA|\"D\"AF/2G/2 DE|\"D\"AG/2A/2 AB/2|\\\n",
            "\"G\"B/2A/2 GdB|\n",
            "\"D\"AB/2c/2 d/2e/2d/2c/2|\"I7\"E/2G/2 F/2F/2G/2A|\"E7\"DAA/2 B/2c/2A/2F/2|\n",
            "\"D\"DAA/2 d/2c/2A/2F/2|\"G\"GBd \"A7\"e/2f/2e/2d/2|\"D\"f/2g/2 \"D\"e/2e/2d/2e/2|\\\n",
            "\"A7\"e|\"D\"fe/2d \"A7\"a/2f/2g/2f/2|\"C\"cA/2d/2e/2 d:|<|endoftext|>\n",
            "<|startoftext|>~^\"D\"F#3D/2f/2|:\"Bm\"C/2G/2B/2B/2 C\"B/2c/2B/2c/2 G\"d/2c/2B/2e/2|\\~@\n",
            "X: 21\n",
            "T:The Jig\n",
            "% Nottingham Music Database\n",
            "S:Chris Dewhurst via Phil Rowe\n",
            "M:4/4\n",
            "L:1/4\n",
            "K:A\n",
            "D|:B/2c/2|\"A7\"A/2G/2B/2c/2 AG/2F/2|\"D\"D/2e/2c/2 \"A7\"AA/2G/2|\"D\"F/2G/2 Aa/2f/2|\"A7\"c/2A/2 \"Bm\"d\"A/2F/2|\n",
            "\"D\"D/2e/2c/2 \"D\"DFA|\"D\"F/2G/2 Aa/2f/2|\"A7\"c/2A/2 GG/2F/2|\"D\"D3/2B/2 B/2c/2g/2|\"D\"d3/2A/2 Bd/2c/2B/2|\\\n",
            "\"A7\"c/2A/2 \"Bm\"d\"c/2f/2d/2|\n",
            "\"A\"e/2g/2 \"D\"d/2e/2c/2B/2|\"A7\"c/2A/2 \"Bm\"d\"c/2A/2|\"D\"DFA \"E7\"EFA|\"D\"F/2G/2 \"E7\"E3/2G/2 -E3/2F/2E/2|\n",
            "\"D7\"DFA \"E7\"EFA|\"D7\"DGF \"G7/e7\"Bd/2c/2|\"A\"E3/2D/2 F3/2A/2|\"D7\"DFA \"E7\"EFA|\"D7\"F3/2E/2 \"D7\"DFA|\"D7\"F3/2E/2 \"F\"G3/2A/2|\"D7\"DFA \"E7\"EFA|\"D7\"F3/2e/2 \"D7\"F3/2E/2|\n",
            "\"D7\"DFA \"\n",
            "\n",
            "[101 | 249.66] loss=0.75 avg=1.01\n",
            "[102 | 251.98] loss=0.75 avg=1.01\n",
            "[103 | 254.30] loss=0.72 avg=1.00\n",
            "[104 | 256.61] loss=0.73 avg=1.00\n",
            "[105 | 258.94] loss=0.87 avg=1.00\n",
            "[106 | 261.26] loss=0.65 avg=0.99\n",
            "[107 | 263.58] loss=0.73 avg=0.99\n",
            "[108 | 265.90] loss=1.00 avg=0.99\n",
            "[109 | 268.22] loss=0.77 avg=0.98\n",
            "[110 | 270.55] loss=0.74 avg=0.98\n",
            "[111 | 272.88] loss=0.85 avg=0.98\n",
            "[112 | 275.21] loss=0.73 avg=0.97\n",
            "[113 | 277.54] loss=0.70 avg=0.97\n",
            "[114 | 279.86] loss=0.90 avg=0.97\n",
            "[115 | 282.19] loss=0.64 avg=0.96\n",
            "[116 | 284.52] loss=0.92 avg=0.96\n",
            "[117 | 286.85] loss=0.88 avg=0.96\n",
            "[118 | 289.18] loss=0.75 avg=0.96\n",
            "[119 | 291.52] loss=0.87 avg=0.96\n",
            "[120 | 293.85] loss=0.59 avg=0.95\n",
            "[121 | 296.18] loss=0.87 avg=0.95\n",
            "[122 | 298.51] loss=0.90 avg=0.95\n",
            "[123 | 300.84] loss=0.78 avg=0.95\n",
            "[124 | 303.19] loss=0.78 avg=0.95\n",
            "[125 | 305.53] loss=0.78 avg=0.94\n",
            "[126 | 307.86] loss=0.79 avg=0.94\n",
            "[127 | 310.19] loss=0.76 avg=0.94\n",
            "[128 | 312.53] loss=0.82 avg=0.94\n",
            "[129 | 314.85] loss=0.78 avg=0.94\n",
            "[130 | 317.18] loss=0.74 avg=0.93\n",
            "[131 | 319.50] loss=0.83 avg=0.93\n",
            "[132 | 321.82] loss=0.89 avg=0.93\n",
            "[133 | 324.16] loss=0.94 avg=0.93\n",
            "[134 | 326.49] loss=0.71 avg=0.93\n",
            "[135 | 328.82] loss=0.95 avg=0.93\n",
            "[136 | 331.15] loss=0.75 avg=0.93\n",
            "[137 | 333.48] loss=0.75 avg=0.92\n",
            "[138 | 335.81] loss=0.87 avg=0.92\n",
            "[139 | 338.13] loss=0.69 avg=0.92\n",
            "[140 | 340.46] loss=0.78 avg=0.92\n",
            "[141 | 342.78] loss=1.00 avg=0.92\n",
            "[142 | 345.10] loss=0.95 avg=0.92\n",
            "[143 | 347.42] loss=0.82 avg=0.92\n",
            "[144 | 349.74] loss=0.66 avg=0.92\n",
            "[145 | 352.06] loss=0.75 avg=0.91\n",
            "[146 | 354.39] loss=0.82 avg=0.91\n",
            "[147 | 356.71] loss=0.78 avg=0.91\n",
            "[148 | 359.03] loss=0.71 avg=0.91\n",
            "[149 | 361.37] loss=0.74 avg=0.91\n",
            "[150 | 363.68] loss=0.78 avg=0.90\n",
            "[151 | 366.01] loss=0.77 avg=0.90\n",
            "[152 | 368.33] loss=0.95 avg=0.90\n",
            "[153 | 370.65] loss=0.79 avg=0.90\n",
            "[154 | 372.97] loss=0.86 avg=0.90\n",
            "[155 | 375.29] loss=0.78 avg=0.90\n",
            "[156 | 377.60] loss=0.72 avg=0.90\n",
            "[157 | 379.92] loss=0.78 avg=0.90\n",
            "[158 | 382.25] loss=0.72 avg=0.89\n",
            "[159 | 384.57] loss=0.78 avg=0.89\n",
            "[160 | 386.89] loss=0.72 avg=0.89\n",
            "[161 | 389.21] loss=0.75 avg=0.89\n",
            "[162 | 391.53] loss=0.67 avg=0.89\n",
            "[163 | 393.85] loss=0.67 avg=0.88\n",
            "[164 | 396.17] loss=0.82 avg=0.88\n",
            "[165 | 398.50] loss=0.79 avg=0.88\n",
            "[166 | 400.82] loss=0.76 avg=0.88\n",
            "[167 | 403.14] loss=0.78 avg=0.88\n",
            "[168 | 405.46] loss=0.55 avg=0.87\n",
            "[169 | 407.79] loss=0.85 avg=0.87\n",
            "[170 | 410.11] loss=0.76 avg=0.87\n",
            "[171 | 412.42] loss=0.69 avg=0.87\n",
            "[172 | 414.74] loss=0.81 avg=0.87\n",
            "[173 | 417.06] loss=0.68 avg=0.87\n",
            "[174 | 419.38] loss=0.77 avg=0.87\n",
            "[175 | 421.70] loss=0.72 avg=0.86\n",
            "[176 | 424.02] loss=0.68 avg=0.86\n",
            "[177 | 426.34] loss=0.65 avg=0.86\n",
            "[178 | 428.67] loss=0.67 avg=0.86\n",
            "[179 | 430.98] loss=0.71 avg=0.86\n",
            "[180 | 433.31] loss=0.62 avg=0.85\n",
            "[181 | 435.63] loss=0.65 avg=0.85\n",
            "[182 | 437.95] loss=0.69 avg=0.85\n",
            "[183 | 440.27] loss=0.81 avg=0.85\n",
            "[184 | 442.59] loss=0.65 avg=0.85\n",
            "[185 | 444.91] loss=0.79 avg=0.84\n",
            "[186 | 447.23] loss=0.67 avg=0.84\n",
            "[187 | 449.55] loss=0.72 avg=0.84\n",
            "[188 | 451.87] loss=0.63 avg=0.84\n",
            "[189 | 454.19] loss=0.63 avg=0.84\n",
            "[190 | 456.52] loss=0.72 avg=0.83\n",
            "[191 | 458.85] loss=0.65 avg=0.83\n",
            "[192 | 461.17] loss=0.66 avg=0.83\n",
            "[193 | 463.49] loss=0.68 avg=0.83\n",
            "[194 | 465.81] loss=0.47 avg=0.82\n",
            "[195 | 468.14] loss=0.82 avg=0.82\n",
            "[196 | 470.47] loss=0.68 avg=0.82\n",
            "[197 | 472.78] loss=0.67 avg=0.82\n",
            "[198 | 475.11] loss=0.86 avg=0.82\n",
            "[199 | 477.43] loss=0.60 avg=0.82\n",
            "[200 | 479.76] loss=0.87 avg=0.82\n",
            "======== SAMPLE 1 ========\n",
            "2\"g/2\"d\"a/2e\"B/2d/2 G/2c/2d/2|\"E7\"d\"f/2d/2\"A\"e/2c/2d/2 \"A\"g/2e/2\"d\"A\"c/2\"D\"BA/2|\\\n",
            "M:4\n",
            "L:1/4\n",
            "K:A\n",
            "F#m %f \"A\"e/2f/2e/2d/2|\"A\"ef/2e/2 \"A\"f/2e/2f/2|\"Bm\"g/2f/2 e/2c/2d/2|\\\n",
            "\"E7\"ec \"A\"A/2e/2f/2|\"D\"d/2f/2^d/2 \"A\"e/2f/2e/2|\n",
            "K:B\n",
            "F#m %f \"A\"e/2f/2e/2d/2|\"A\"ef/2e/2 \"A\"f/2e/2f/2|\"Bm\"g/2f/2 e/2c/2d/2|\\\n",
            "\"E7\"ec \"A\"A/2e/2f/2|\"D\"d/2f/2^d/2 \"A\"e/2f/2e/2|\"D\"d/2f/2^d/2 \"A\"e/2f/2|\\\n",
            "\"G\"g/2f/2 e/2c/2d/2|\"A\"c\"d\"A\"B\\\n",
            "||\n",
            "B/2c/2|D\"A\"A\"A\" A\" \"D\"A\" \"G\"d\"B/2c/2|D\"A\"A\"A\"A\" \"D\"A\" \"A\"A\"c\"d\"B\"d\"F\"AF\"G\"A\"A\"B/2c/2|\n",
            "D\"A\"A\"A\"A\" A\" \"D\"A\" \"A\"c\"d\"B\"d\"FFF\"G\"A\"A\"B/2c/2| \"D\"A\"A\"A \"D\"d\"B\"d\"F\"AF\"G\"A\"A\"g\"A\"A\"B/2c/2|\\\n",
            "\"D\"A\"A\"A\"A\" \"D\"A\" \"G\"c\"d\"B\"d\"F\"AF\"G\"A\"A\"B/2c/2||\n",
            "A/2|:|:|| :e|:g|[1\"G\"b,d\"A\"A\"B\"d\"A\"A\"B\"d\"A\"A \"D\"a\"B\"d\"F\"A\"E\"(B\"EF/A2|\"G\"B/2c/2B/2 \"D\"A\"G\"D\"C\"GE|\\\n",
            "\"G\"b,d\"A\"A\"B\"d\"A\"G\"B\"A\"A\" \"D\"AB \"A\"c\"d\"D\"A\"G\"D|\n",
            "\"G\"B,d\"A\"A\"B\"d\"A/2d/2c/2B/2|\"D\"g/2c/2d/2c/2 dA\"c2:|<|endoftext|>\n",
            "<|startoftext|>~^\\~@\n",
            "X: 15\n",
            "T:Red Ramble\n",
            "% Nottingham Music Database\n",
            "S:Bob McQuillen Jan 1983 – March 1986, via PR\n",
            "M:4/4\n",
            "L:1/4\n",
            "K:G\n",
            "G/2F/2|\"G\"dBG/2e/2|dB2 G/2A/2B/2c/2d/2|\"G\"BGB G/2^F/2E/2d/2|\\\n",
            "\"Am\"\"Am\"\"G\"BB2/2c/2|\"D7\"dGd D:|\n",
            "F/2G/2|\"G\"f/2g/2f/2c/2 d/2B/2A/2B/2|F/2G/2d/2B/2 \"D7\"d/2B/2A/2G/2|\n",
            "\"G\"f/2g/2f/2c/2 d/2B/2A/2B/2|\"G\"BB/2c/\n",
            "\n",
            "[201 | 492.57] loss=0.81 avg=0.82\n",
            "[202 | 494.89] loss=0.69 avg=0.82\n",
            "[203 | 497.21] loss=0.67 avg=0.82\n",
            "[204 | 499.53] loss=0.78 avg=0.82\n",
            "[205 | 501.86] loss=0.72 avg=0.81\n",
            "[206 | 504.19] loss=0.74 avg=0.81\n",
            "[207 | 506.50] loss=0.77 avg=0.81\n",
            "[208 | 508.82] loss=0.60 avg=0.81\n",
            "[209 | 511.14] loss=0.76 avg=0.81\n",
            "[210 | 513.46] loss=0.75 avg=0.81\n",
            "[211 | 515.77] loss=0.77 avg=0.81\n",
            "[212 | 518.09] loss=0.77 avg=0.81\n",
            "[213 | 520.41] loss=0.79 avg=0.81\n",
            "[214 | 522.73] loss=0.64 avg=0.81\n",
            "[215 | 525.05] loss=0.68 avg=0.81\n",
            "[216 | 527.36] loss=0.81 avg=0.81\n",
            "[217 | 529.67] loss=0.87 avg=0.81\n",
            "[218 | 531.99] loss=0.81 avg=0.81\n",
            "[219 | 534.30] loss=0.73 avg=0.81\n",
            "[220 | 536.62] loss=0.70 avg=0.80\n",
            "[221 | 538.94] loss=0.65 avg=0.80\n",
            "[222 | 541.26] loss=0.74 avg=0.80\n",
            "[223 | 543.57] loss=0.80 avg=0.80\n",
            "[224 | 545.89] loss=0.82 avg=0.80\n",
            "[225 | 548.20] loss=0.70 avg=0.80\n",
            "[226 | 550.52] loss=0.67 avg=0.80\n",
            "[227 | 552.85] loss=0.77 avg=0.80\n",
            "[228 | 555.16] loss=0.70 avg=0.80\n",
            "[229 | 557.48] loss=0.68 avg=0.80\n",
            "[230 | 559.81] loss=0.73 avg=0.80\n",
            "[231 | 562.13] loss=0.74 avg=0.80\n",
            "[232 | 564.45] loss=0.80 avg=0.80\n",
            "[233 | 566.77] loss=0.61 avg=0.79\n",
            "[234 | 569.09] loss=0.74 avg=0.79\n",
            "[235 | 571.41] loss=0.85 avg=0.79\n",
            "[236 | 573.73] loss=0.81 avg=0.79\n",
            "[237 | 576.05] loss=0.77 avg=0.79\n",
            "[238 | 578.37] loss=0.61 avg=0.79\n",
            "[239 | 580.70] loss=0.66 avg=0.79\n",
            "[240 | 583.02] loss=0.68 avg=0.79\n",
            "[241 | 585.34] loss=0.78 avg=0.79\n",
            "[242 | 587.67] loss=0.59 avg=0.79\n",
            "[243 | 589.99] loss=0.69 avg=0.79\n",
            "[244 | 592.31] loss=0.78 avg=0.79\n",
            "[245 | 594.64] loss=0.72 avg=0.78\n",
            "[246 | 596.96] loss=0.48 avg=0.78\n",
            "[247 | 599.28] loss=0.68 avg=0.78\n",
            "[248 | 601.60] loss=0.69 avg=0.78\n",
            "[249 | 603.93] loss=0.74 avg=0.78\n",
            "[250 | 606.24] loss=0.75 avg=0.78\n",
            "[251 | 608.56] loss=0.55 avg=0.78\n",
            "[252 | 610.88] loss=0.55 avg=0.77\n",
            "[253 | 613.21] loss=0.63 avg=0.77\n",
            "[254 | 615.53] loss=0.73 avg=0.77\n",
            "[255 | 617.85] loss=0.74 avg=0.77\n",
            "[256 | 620.17] loss=0.66 avg=0.77\n",
            "[257 | 622.50] loss=0.64 avg=0.77\n",
            "[258 | 624.83] loss=0.62 avg=0.77\n",
            "[259 | 627.16] loss=0.73 avg=0.77\n",
            "[260 | 629.48] loss=0.58 avg=0.76\n",
            "[261 | 631.80] loss=0.76 avg=0.76\n",
            "[262 | 634.14] loss=0.70 avg=0.76\n",
            "[263 | 636.46] loss=0.72 avg=0.76\n",
            "[264 | 638.79] loss=0.72 avg=0.76\n",
            "[265 | 641.11] loss=0.64 avg=0.76\n",
            "[266 | 643.43] loss=0.66 avg=0.76\n",
            "[267 | 645.75] loss=0.76 avg=0.76\n",
            "[268 | 648.07] loss=0.65 avg=0.76\n",
            "[269 | 650.38] loss=0.63 avg=0.76\n",
            "[270 | 652.70] loss=0.61 avg=0.76\n",
            "[271 | 655.03] loss=0.67 avg=0.76\n",
            "[272 | 657.35] loss=0.74 avg=0.76\n",
            "[273 | 659.68] loss=0.63 avg=0.75\n",
            "[274 | 662.00] loss=0.61 avg=0.75\n",
            "[275 | 664.33] loss=0.63 avg=0.75\n",
            "[276 | 666.65] loss=0.57 avg=0.75\n",
            "[277 | 668.98] loss=0.70 avg=0.75\n",
            "[278 | 671.30] loss=0.79 avg=0.75\n",
            "[279 | 673.63] loss=0.78 avg=0.75\n",
            "[280 | 675.96] loss=0.60 avg=0.75\n",
            "[281 | 678.28] loss=0.60 avg=0.75\n",
            "[282 | 680.61] loss=0.54 avg=0.74\n",
            "[283 | 682.93] loss=0.73 avg=0.74\n",
            "[284 | 685.25] loss=0.80 avg=0.74\n",
            "[285 | 687.58] loss=0.67 avg=0.74\n",
            "[286 | 689.90] loss=0.51 avg=0.74\n",
            "[287 | 692.22] loss=0.73 avg=0.74\n",
            "[288 | 694.54] loss=0.70 avg=0.74\n",
            "[289 | 696.87] loss=0.81 avg=0.74\n",
            "[290 | 699.19] loss=0.86 avg=0.74\n",
            "[291 | 701.51] loss=0.70 avg=0.74\n",
            "[292 | 703.84] loss=0.67 avg=0.74\n",
            "[293 | 706.16] loss=0.58 avg=0.74\n",
            "[294 | 708.48] loss=0.54 avg=0.74\n",
            "[295 | 710.80] loss=0.63 avg=0.74\n",
            "[296 | 713.12] loss=0.68 avg=0.74\n",
            "[297 | 715.44] loss=0.69 avg=0.74\n",
            "[298 | 717.76] loss=0.69 avg=0.73\n",
            "[299 | 720.08] loss=0.63 avg=0.73\n",
            "[300 | 722.40] loss=0.60 avg=0.73\n",
            "======== SAMPLE 1 ========\n",
            "'s \"G\"b3/2c/2 A2c|\"Am\"d3/2c/2 c2e|\"D7/a\"fab d2:|\n",
            "f/2g/2|\"D\"afd AFd|\"G\"ded BAG|\"Em\"f2g e\"Bm\"def|\"Em\"e2f gfe|\n",
            "\"D\"dfd def|\"Em\"egf efe|\"Em\"g3 -gab|\"D\"afd AFd|\"G\"ded BAG|\"Em\"efg \"D7\"gab|\n",
            "\"G\"defg efe|\"Em\"g2fe fed|\"D7\"fgf \"D7\"def|\"G\"gfe \"D7\"gaf|\"G\"egf \"D7\"gfe|\"G\"ggb g2:|\n",
            "f/2g/2|\"D\"afd AFd|\"G\"ded BAG|\"Em\"f2g E^GA|\"D7\"dc^c d^cd|\"G\"B^gB B^f^d|\n",
            "\"Em\"egf efe|\"Em\"g2fe fed|\"D7\"fgf \"D7\"def|\"G\"gfe \"D7\"gaf|\"G\"egf \"D7\"gfe|\n",
            "\"G\"defg efe|\"Em\"g2fe fed|\"D\"fgf \"D7\"def|\"G\"ggb gAB|\"C\"caec A^GA|\"G\"B^gB B2||<|endoftext|>\n",
            "<|startoftext|>~^G\"B/2A/2D-G/2E/2F/2G/2-G/2B/2c/2A/2|\"Am\"cA A2~@\n",
            "X: 13\n",
            "T:Hornpipe Toque\n",
            "% Nottingham Music Database\n",
            "S:via PR\n",
            "M:4/4\n",
            "L:1/4\n",
            "K:G\n",
            "\"G\"B2 -B/2A/2D G/2E/2F/2G/2-G/2B/2c/2A/2|b/2c/2B/2d/2e/2 d/2e/2c/2B/2A/2|\n",
            "\"G\"B/2A/2D G/2E/2F/2G/2-G/2B/2c/2A/2|b/2c/2B/2d/2e/2 D/2c/2B/2A/2G/2|\\\n",
            "B/2B/2c/2d/2e/2 d/2A/2B/2c/2d/2:|\n",
            "\"G\"d^cd BA/2G/2C/2B/2B/2|B2^F B-A/2^G/2B/2A/2B/2|G2G G-G2|\\\n",
            "B/2F/2B/2c/2d/2|\"C\"e/2^c/2e/2c/2e/2 c/2=c/2c/2e/2=e/2|\n",
            "B3/2B/2c/2d/2e/2|b3G G/2A/2B/2c/2d/2|B2^F B-A/2^G/2B/2A/2B/2|\\\n",
            "B/2G/2B/2c/2d/2|\"Am\"cA E2::\n",
            "\"D7\"d2e/2d/2c/2B/2 A2A/2d/2e|f3/2g/2f/2a/2 d/2B/2A/2G/2||<|endoftext|>\n",
            "<|startoftext|>~^G\"D2:| %~@\n",
            "X: 13\n",
            "T:Hornpipe Toque\n",
            "% Nottingham Music Database\n",
            "S:via PR\n",
            "M:4/4\n",
            "L:1/4\n",
            "K:G\n",
            "\"G\"B2 -B/2A/2D G/2E/2F/2G/2-G/2B/2c/2A/2|b/2c/2B/2d/2e/2 d/2e/2c/2B/2A/2|\n",
            "\n",
            "[301 | 735.22] loss=0.64 avg=0.73\n",
            "[302 | 737.54] loss=0.68 avg=0.73\n",
            "[303 | 739.86] loss=0.66 avg=0.73\n",
            "[304 | 742.18] loss=0.67 avg=0.73\n",
            "[305 | 744.51] loss=0.59 avg=0.73\n",
            "[306 | 746.84] loss=0.58 avg=0.73\n",
            "[307 | 749.16] loss=0.64 avg=0.73\n",
            "[308 | 751.48] loss=0.59 avg=0.72\n",
            "[309 | 753.80] loss=0.61 avg=0.72\n",
            "[310 | 756.12] loss=0.70 avg=0.72\n",
            "[311 | 758.45] loss=0.48 avg=0.72\n",
            "[312 | 760.77] loss=0.55 avg=0.72\n",
            "[313 | 763.09] loss=0.60 avg=0.72\n",
            "[314 | 765.42] loss=0.70 avg=0.72\n",
            "[315 | 767.74] loss=0.71 avg=0.72\n",
            "[316 | 770.06] loss=0.62 avg=0.72\n",
            "[317 | 772.38] loss=0.67 avg=0.72\n",
            "[318 | 774.70] loss=0.64 avg=0.71\n",
            "[319 | 777.01] loss=0.56 avg=0.71\n",
            "[320 | 779.33] loss=0.61 avg=0.71\n",
            "[321 | 781.66] loss=0.67 avg=0.71\n",
            "[322 | 783.98] loss=0.61 avg=0.71\n",
            "[323 | 786.30] loss=0.61 avg=0.71\n",
            "[324 | 788.62] loss=0.54 avg=0.71\n",
            "[325 | 790.95] loss=0.65 avg=0.71\n",
            "[326 | 793.27] loss=0.72 avg=0.71\n",
            "[327 | 795.59] loss=0.76 avg=0.71\n",
            "[328 | 797.92] loss=0.62 avg=0.71\n",
            "[329 | 800.24] loss=0.52 avg=0.70\n",
            "[330 | 802.56] loss=0.64 avg=0.70\n",
            "[331 | 804.88] loss=0.61 avg=0.70\n",
            "[332 | 807.20] loss=0.72 avg=0.70\n",
            "[333 | 809.52] loss=0.69 avg=0.70\n",
            "[334 | 811.85] loss=0.62 avg=0.70\n",
            "[335 | 814.16] loss=0.64 avg=0.70\n",
            "[336 | 816.49] loss=0.67 avg=0.70\n",
            "[337 | 818.81] loss=0.56 avg=0.70\n",
            "[338 | 821.13] loss=0.66 avg=0.70\n",
            "[339 | 823.45] loss=0.66 avg=0.70\n",
            "[340 | 825.76] loss=0.61 avg=0.70\n",
            "[341 | 828.08] loss=0.75 avg=0.70\n",
            "[342 | 830.41] loss=0.59 avg=0.70\n",
            "[343 | 832.73] loss=0.62 avg=0.70\n",
            "[344 | 835.05] loss=0.71 avg=0.70\n",
            "[345 | 837.37] loss=0.57 avg=0.70\n",
            "[346 | 839.70] loss=0.64 avg=0.70\n",
            "[347 | 842.02] loss=0.63 avg=0.69\n",
            "[348 | 844.34] loss=0.61 avg=0.69\n",
            "[349 | 846.67] loss=0.64 avg=0.69\n",
            "[350 | 848.99] loss=0.56 avg=0.69\n",
            "[351 | 851.31] loss=0.59 avg=0.69\n",
            "[352 | 853.64] loss=0.63 avg=0.69\n",
            "[353 | 855.97] loss=0.75 avg=0.69\n",
            "[354 | 858.29] loss=0.66 avg=0.69\n",
            "[355 | 860.61] loss=0.69 avg=0.69\n",
            "[356 | 862.93] loss=0.69 avg=0.69\n",
            "[357 | 865.26] loss=0.64 avg=0.69\n",
            "[358 | 867.59] loss=0.61 avg=0.69\n",
            "[359 | 869.92] loss=0.66 avg=0.69\n",
            "[360 | 872.25] loss=0.60 avg=0.69\n",
            "[361 | 874.59] loss=0.65 avg=0.69\n",
            "[362 | 876.91] loss=0.60 avg=0.69\n",
            "[363 | 879.23] loss=0.53 avg=0.68\n",
            "[364 | 881.55] loss=0.58 avg=0.68\n",
            "[365 | 883.88] loss=0.65 avg=0.68\n",
            "[366 | 886.20] loss=0.63 avg=0.68\n",
            "[367 | 888.52] loss=0.75 avg=0.68\n",
            "[368 | 890.85] loss=0.50 avg=0.68\n",
            "[369 | 893.18] loss=0.53 avg=0.68\n",
            "[370 | 895.50] loss=0.50 avg=0.68\n",
            "[371 | 897.83] loss=0.63 avg=0.68\n",
            "[372 | 900.16] loss=0.44 avg=0.68\n",
            "[373 | 902.48] loss=0.50 avg=0.67\n",
            "[374 | 904.80] loss=0.67 avg=0.67\n",
            "[375 | 907.13] loss=0.56 avg=0.67\n",
            "[376 | 909.45] loss=0.56 avg=0.67\n",
            "[377 | 911.78] loss=0.54 avg=0.67\n",
            "[378 | 914.10] loss=0.61 avg=0.67\n",
            "[379 | 916.43] loss=0.54 avg=0.67\n",
            "[380 | 918.76] loss=0.60 avg=0.67\n",
            "[381 | 921.09] loss=0.58 avg=0.67\n",
            "[382 | 923.41] loss=0.63 avg=0.67\n",
            "[383 | 925.75] loss=0.67 avg=0.67\n",
            "[384 | 928.07] loss=0.67 avg=0.67\n",
            "[385 | 930.40] loss=0.53 avg=0.66\n",
            "[386 | 932.72] loss=0.51 avg=0.66\n",
            "[387 | 935.06] loss=0.49 avg=0.66\n",
            "[388 | 937.39] loss=0.59 avg=0.66\n",
            "[389 | 939.71] loss=0.53 avg=0.66\n",
            "[390 | 942.04] loss=0.70 avg=0.66\n",
            "[391 | 944.37] loss=0.48 avg=0.66\n",
            "[392 | 946.70] loss=0.62 avg=0.66\n",
            "[393 | 949.03] loss=0.59 avg=0.66\n",
            "[394 | 951.34] loss=0.71 avg=0.66\n",
            "[395 | 953.67] loss=0.54 avg=0.66\n",
            "[396 | 955.99] loss=0.58 avg=0.66\n",
            "[397 | 958.32] loss=0.54 avg=0.65\n",
            "[398 | 960.64] loss=0.69 avg=0.65\n",
            "[399 | 962.97] loss=0.65 avg=0.65\n",
            "[400 | 965.29] loss=0.53 avg=0.65\n",
            "======== SAMPLE 1 ========\n",
            "B|:\n",
            "\"Em\"G,E \"D\"AG \"G\"e2d|\"Em\"G,E \"D\"AG \"D\"f2d|\"G\"d2 B,B GBd|\\\n",
            "\"Em\"G,E \"D\"AG \"G\"e2d|\"Em\"G,A ABc|\"D\"dd dcB :|<|endoftext|>\n",
            "<|startoftext|>~^~@\n",
            "X: 18\n",
            "T:The Quaker's Wife\n",
            "% Nottingham Music Database\n",
            "S:Trad, arr Phil Rowe\n",
            "M:6/8\n",
            "K:D\n",
            "(3A,|:A|\"D\"ded f3/2d/2|\"A7\"cde cde|\"A7\"BAG E3|\n",
            "\"D\"FAA gAc|\"G\"BGG \"A7\"GFE|\"D\"FAA gAc|\"G\"BGG \"A\"AGF|\"E7\"E3 =E3|\"D\"FAA gAc|\\\n",
            "\"G\"BGG \"A\"AGF|\"D\"DFA d3||<|endoftext|>\n",
            "<|startoftext|>~^~@\n",
            "X: 16\n",
            "T:The Quadrille Circle\n",
            "% Nottingham Music Database\n",
            "Y:AAB\n",
            "S:EF\n",
            "M:6/8\n",
            "K:D\n",
            "P:O.B.\n",
            "|:dc|\"D\"FAd faf|\"Bm\"cBc \"A7\"Ace|\"D\"fdf \"A7\"efg|\"D\"faf def|\"G\"gAB g2c|\n",
            "\"D\"dcB def|\"G\"gAB g2c|\"A7\"dcA cAc|\"D\"d2dc \"A7\"Bcd|\"D\"D3 :|\n",
            "P:P\n",
            "|:dc|\"D\"FAd faf|\"Bm\"cBc \"A7\"Ace|\"D\"fdf \"A7\"efg|\"D\"fba def|\n",
            "\"G\"gAB g2c|\"D\"dcB def|\"G\"gAB g2c|\"A\"dcA cAc|\"D\"D2dc \"A7\"Bcd|\"D\"D3 =E3||<|endoftext|>\n",
            "<|startoftext|>~^~@\n",
            "X: 60\n",
            "T~@\n",
            "X: 59\n",
            "T:Cavan Buck\n",
            "% Nottingham Music Database\n",
            "S:NPTB, via EF\n",
            "Y:AB\n",
            "M:4/4\n",
            "L:1/4\n",
            "K:C\n",
            "P:A\n",
            "d|\"G\"Bcd G3/2A/2|\"Am\"BAG \"D7\"ADc|\"G\"Bcd \"C7\"GFED|\"G\"G3 G2:|\n",
            "P:B\n",
            "B|\"Am\"cag ecA|\"Am\"EAA \"Am7\"EAc|\"G\"G3 G2:|\n",
            "P:C\n",
            "ed|\"Am\"cag ecA|\"Am\"EAA \"Am7\"EAc|\"G\"G3 G2:|<|endoftext|>\n",
            "<|startoftext|>~^~@\n",
            "X: 51\n",
            "T:The Old Devil\n",
            "% Nottingham Music Database\n",
            "S:John Goodacre 1989, via Phil Rowe\n",
            "M:6/8\n",
            "K:G\n",
            "d|\"G\"gfgb d2b|abge \"G\"gfe|\"G\"d2BG GBd|\"C\"^cefg \"D7\"d2(3def|\"G\"gdBG \"D7\"B2d|\n",
            "\"C\"^degf \"G\"gAB|\"Am\"^cagec \"B7\"B2A^G=F|\"C\"E3 \"G\"G3:|\n",
            "fg|\"G\"edef e2d|\"C\"=ceg^c \"B\"Bcd|\"Am\"e2ed \"D7\"cBA|\"G\"BGAB d2B|\n",
            "\"Am\"=c=ceg^c ABc|\"D7\"defg \"G\"=gab|\"B7\"=g=f=f gdB|\"C\"egec \"G\"BGdB|\"Am\"GBAd \"D7\"FGA|\n",
            "\"G\"GdBG AB=CD|\"C\"=c3 -\"G7\"GAB|\"C\"=\n",
            "\n",
            "[401 | 978.02] loss=0.71 avg=0.65\n",
            "[402 | 980.35] loss=0.69 avg=0.65\n",
            "[403 | 982.67] loss=0.53 avg=0.65\n",
            "[404 | 985.00] loss=0.60 avg=0.65\n",
            "[405 | 987.31] loss=0.59 avg=0.65\n",
            "[406 | 989.64] loss=0.50 avg=0.65\n",
            "[407 | 991.97] loss=0.65 avg=0.65\n",
            "[408 | 994.29] loss=0.64 avg=0.65\n",
            "[409 | 996.61] loss=0.57 avg=0.65\n",
            "[410 | 998.94] loss=0.67 avg=0.65\n",
            "[411 | 1001.26] loss=0.51 avg=0.65\n",
            "[412 | 1003.60] loss=0.58 avg=0.65\n",
            "[413 | 1005.92] loss=0.55 avg=0.65\n",
            "[414 | 1008.25] loss=0.65 avg=0.65\n",
            "[415 | 1010.57] loss=0.63 avg=0.65\n",
            "[416 | 1012.89] loss=0.54 avg=0.65\n",
            "[417 | 1015.21] loss=0.53 avg=0.64\n",
            "[418 | 1017.52] loss=0.67 avg=0.64\n",
            "[419 | 1019.85] loss=0.54 avg=0.64\n",
            "[420 | 1022.18] loss=0.63 avg=0.64\n",
            "[421 | 1024.49] loss=0.65 avg=0.64\n",
            "[422 | 1026.82] loss=0.64 avg=0.64\n",
            "[423 | 1029.14] loss=0.51 avg=0.64\n",
            "[424 | 1031.46] loss=0.49 avg=0.64\n",
            "[425 | 1033.78] loss=0.51 avg=0.64\n",
            "[426 | 1036.10] loss=0.64 avg=0.64\n",
            "[427 | 1038.43] loss=0.54 avg=0.64\n",
            "[428 | 1040.75] loss=0.69 avg=0.64\n",
            "[429 | 1043.07] loss=0.69 avg=0.64\n",
            "[430 | 1045.39] loss=0.60 avg=0.64\n",
            "[431 | 1047.71] loss=0.55 avg=0.64\n",
            "[432 | 1050.03] loss=0.60 avg=0.64\n",
            "[433 | 1052.36] loss=0.56 avg=0.64\n",
            "[434 | 1054.69] loss=0.51 avg=0.64\n",
            "[435 | 1057.03] loss=0.54 avg=0.63\n",
            "[436 | 1059.35] loss=0.60 avg=0.63\n",
            "[437 | 1061.67] loss=0.76 avg=0.64\n",
            "[438 | 1063.99] loss=0.67 avg=0.64\n",
            "[439 | 1066.32] loss=0.60 avg=0.64\n",
            "[440 | 1068.64] loss=0.62 avg=0.64\n",
            "[441 | 1070.97] loss=0.66 avg=0.64\n",
            "[442 | 1073.29] loss=0.66 avg=0.64\n",
            "[443 | 1075.61] loss=0.51 avg=0.63\n",
            "[444 | 1077.93] loss=0.72 avg=0.64\n",
            "[445 | 1080.26] loss=0.72 avg=0.64\n",
            "[446 | 1082.58] loss=0.53 avg=0.63\n",
            "[447 | 1084.91] loss=0.54 avg=0.63\n",
            "[448 | 1087.24] loss=0.43 avg=0.63\n",
            "[449 | 1089.56] loss=0.57 avg=0.63\n",
            "[450 | 1091.90] loss=0.62 avg=0.63\n",
            "[451 | 1094.22] loss=0.63 avg=0.63\n",
            "[452 | 1096.54] loss=0.54 avg=0.63\n",
            "[453 | 1098.86] loss=0.62 avg=0.63\n",
            "[454 | 1101.19] loss=0.62 avg=0.63\n",
            "[455 | 1103.51] loss=0.55 avg=0.63\n",
            "[456 | 1105.83] loss=0.62 avg=0.63\n",
            "[457 | 1108.16] loss=0.48 avg=0.63\n",
            "[458 | 1110.48] loss=0.57 avg=0.63\n",
            "[459 | 1112.80] loss=0.59 avg=0.63\n",
            "[460 | 1115.12] loss=0.59 avg=0.63\n",
            "[461 | 1117.45] loss=0.60 avg=0.63\n",
            "[462 | 1119.76] loss=0.51 avg=0.62\n",
            "[463 | 1122.09] loss=0.63 avg=0.62\n",
            "[464 | 1124.42] loss=0.60 avg=0.62\n",
            "[465 | 1126.75] loss=0.63 avg=0.62\n",
            "[466 | 1129.07] loss=0.61 avg=0.62\n",
            "[467 | 1131.40] loss=0.53 avg=0.62\n",
            "[468 | 1133.72] loss=0.60 avg=0.62\n",
            "[469 | 1136.04] loss=0.65 avg=0.62\n",
            "[470 | 1138.36] loss=0.61 avg=0.62\n",
            "[471 | 1140.68] loss=0.64 avg=0.62\n",
            "[472 | 1143.01] loss=0.49 avg=0.62\n",
            "[473 | 1145.33] loss=0.57 avg=0.62\n",
            "[474 | 1147.65] loss=0.58 avg=0.62\n",
            "[475 | 1149.98] loss=0.52 avg=0.62\n",
            "[476 | 1152.30] loss=0.58 avg=0.62\n",
            "[477 | 1154.63] loss=0.55 avg=0.62\n",
            "[478 | 1156.96] loss=0.55 avg=0.62\n",
            "[479 | 1159.29] loss=0.52 avg=0.62\n",
            "[480 | 1161.62] loss=0.53 avg=0.62\n",
            "[481 | 1163.95] loss=0.49 avg=0.62\n",
            "[482 | 1166.27] loss=0.50 avg=0.61\n",
            "[483 | 1168.59] loss=0.62 avg=0.61\n",
            "[484 | 1170.92] loss=0.43 avg=0.61\n",
            "[485 | 1173.24] loss=0.63 avg=0.61\n",
            "[486 | 1175.58] loss=0.66 avg=0.61\n",
            "[487 | 1177.90] loss=0.56 avg=0.61\n",
            "[488 | 1180.22] loss=0.52 avg=0.61\n",
            "[489 | 1182.54] loss=0.57 avg=0.61\n",
            "[490 | 1184.87] loss=0.57 avg=0.61\n",
            "[491 | 1187.19] loss=0.56 avg=0.61\n",
            "[492 | 1189.52] loss=0.44 avg=0.61\n",
            "[493 | 1191.85] loss=0.62 avg=0.61\n",
            "[494 | 1194.17] loss=0.66 avg=0.61\n",
            "[495 | 1196.49] loss=0.56 avg=0.61\n",
            "[496 | 1198.81] loss=0.59 avg=0.61\n",
            "[497 | 1201.13] loss=0.50 avg=0.61\n",
            "[498 | 1203.46] loss=0.58 avg=0.61\n",
            "[499 | 1205.79] loss=0.59 avg=0.61\n",
            "[500 | 1208.12] loss=0.61 avg=0.61\n",
            "======== SAMPLE 1 ========\n",
            "/2|\\\n",
            "\"D\"A/2c/2d/2B/2 \"A7\"c3/2\"Bb\"d\n",
            "\"Bb\"A/2g/2 -d/2B/2|\"C\"e/2f/2e/2d/2 cA|\\\n",
            "\"G\"g/2f/2g/2a/2 \"A7\"e3/2\"Bb\"d\"A7\"A|\n",
            "\"D\"d/2d/2c/2B/2 FA|\"D\"df \"A7\"e3/2\"A7\"d|\"G\"gd \"A7\"B/2d/2c/2d/2|\\\n",
            "\"D\"AF \"G\"G||<|endoftext|>\n",
            "<|startoftext|>~^Em\"e2f|\"A7\"e2d|\"D\"efd~@\n",
            "X: 25\n",
            "T:East Tennessee Blues\n",
            "% Nottingham Music Database\n",
            "S:via PR\n",
            "M:4/4\n",
            "L:1/4\n",
            "K:D\n",
            "fg|\"D\"agf \"A7\"efg|\"D\"agf fef|\"F\"agf fef|\"A7\"efg \"D\"faf|\n",
            "\"D\"agf \"A\"efg|\"D\"agf fef|\"G\"de=f ed=F|\"A7\"e2d|\"D\"d2fg|\n",
            "\"D\"agf \"A7\"efg|\"D\"agf fef|\"G\"def \"D\"d2fg|\"D\"agf fef|\n",
            "\"G\"def \"D\"d2fg|\"D\"agf \"G\"efg|\"D\"agf fef|\"A7\"A2G|\"D\"D2:|\n",
            "fa|\"A7\"gf gf^f|\"D/f+\"d^df agf|\"A7\"egf efg|\"A7\"ecA A=ce|\n",
            "\"D\"d2d d2d|\"D\"agf \"A7\"efg|\"D/f+\"agf fef|\"G/b\"def \"D\"d2fg|\n",
            "\"D\"agf \"A\"efg|\"D/f+\"agf fef|\"G/b\"def \"D\"d2fg|\"D\"agf \"G\"efg|\"D/f+\"agf \"D\"d2||<|endoftext|>\n",
            "<|startoftext|>~^Em\"e2f| K~@\n",
            "X: 20\n",
            "T:The Cobble\n",
            "% Nottingham Music Database\n",
            "S:via PR\n",
            "M:4/4\n",
            "L:1/4\n",
            "K:A\n",
            "e|:\"A\"c2 ec|e3/2f/2 e2|\"E7\"cB Bcd|e3/2f/2 e2|\\\n",
            "\"E7\"eB Bcd|\"A\"cd cd|\n",
            "e3/2f/2 e2|\"E7\"eB Bcd|e3/2f/2 e2|\\\n",
            "eF ed^c|\n",
            "\"A\"cd cd|\"A\"e2 ed|\"E7\"e2 f2|\\\n",
            "\"A\"a2 -\"E7\"a2|A/2B/2G/2F/2 E2|\\\n",
            "\"A\"c2 \"E7\"e2||\n",
            "\"A\"c2 ec|A3/2F/2 e2|\"E7\"cB Bcd|e3/2f/2 e2|\"E7\"eB Bcd|\"A\"cd cd|\n",
            "e3/2f/2 e2|\"E7\"eB Bcd|e3/2f/2 e2|\\\n",
            "eF ed^c|A/2B/2G/2F/2 E2|\\\n",
            "\"A\"c2 \"E7\"e2||\n",
            "\"A\"c2 ec|A3/2F/2 e2|\"E7\"cB Bcd|e3/2f/2 e2|\"E7\"eB Bcd|e3/2f/2 e2|\\\n",
            "eF ed^c|\n",
            "\"A\"cd cd|\"A\"e2 ed|\"E7\"e2 f2|\\\n",
            "\"A\"a2 -\"E7\"a2|A/2B\n",
            "\n",
            "[501 | 1220.80] loss=0.46 avg=0.61\n",
            "[502 | 1223.12] loss=0.63 avg=0.61\n",
            "[503 | 1225.44] loss=0.47 avg=0.60\n",
            "[504 | 1227.76] loss=0.53 avg=0.60\n",
            "[505 | 1230.08] loss=0.50 avg=0.60\n",
            "[506 | 1232.41] loss=0.53 avg=0.60\n",
            "[507 | 1234.73] loss=0.53 avg=0.60\n",
            "[508 | 1237.05] loss=0.60 avg=0.60\n",
            "[509 | 1239.37] loss=0.49 avg=0.60\n",
            "[510 | 1241.69] loss=0.49 avg=0.60\n",
            "[511 | 1244.02] loss=0.54 avg=0.60\n",
            "[512 | 1246.34] loss=0.59 avg=0.60\n",
            "[513 | 1248.66] loss=0.52 avg=0.60\n",
            "[514 | 1250.98] loss=0.41 avg=0.60\n",
            "[515 | 1253.29] loss=0.56 avg=0.60\n",
            "[516 | 1255.62] loss=0.50 avg=0.59\n",
            "[517 | 1257.95] loss=0.60 avg=0.59\n",
            "[518 | 1260.27] loss=0.48 avg=0.59\n",
            "[519 | 1262.59] loss=0.46 avg=0.59\n",
            "[520 | 1264.91] loss=0.56 avg=0.59\n",
            "[521 | 1267.23] loss=0.58 avg=0.59\n",
            "[522 | 1269.56] loss=0.39 avg=0.59\n",
            "[523 | 1271.88] loss=0.61 avg=0.59\n",
            "[524 | 1274.20] loss=0.59 avg=0.59\n",
            "[525 | 1276.52] loss=0.58 avg=0.59\n",
            "[526 | 1278.84] loss=0.54 avg=0.59\n",
            "[527 | 1281.16] loss=0.52 avg=0.59\n",
            "[528 | 1283.48] loss=0.58 avg=0.59\n",
            "[529 | 1285.80] loss=0.55 avg=0.59\n",
            "[530 | 1288.12] loss=0.60 avg=0.59\n",
            "[531 | 1290.43] loss=0.45 avg=0.59\n",
            "[532 | 1292.75] loss=0.55 avg=0.59\n",
            "[533 | 1295.07] loss=0.50 avg=0.59\n",
            "[534 | 1297.39] loss=0.59 avg=0.59\n",
            "[535 | 1299.71] loss=0.50 avg=0.58\n",
            "[536 | 1302.03] loss=0.51 avg=0.58\n",
            "[537 | 1304.36] loss=0.66 avg=0.58\n",
            "[538 | 1306.68] loss=0.54 avg=0.58\n",
            "[539 | 1309.01] loss=0.55 avg=0.58\n",
            "[540 | 1311.33] loss=0.62 avg=0.58\n",
            "[541 | 1313.65] loss=0.50 avg=0.58\n",
            "[542 | 1315.97] loss=0.50 avg=0.58\n",
            "[543 | 1318.29] loss=0.50 avg=0.58\n",
            "[544 | 1320.61] loss=0.65 avg=0.58\n",
            "[545 | 1322.93] loss=0.60 avg=0.58\n",
            "[546 | 1325.26] loss=0.54 avg=0.58\n",
            "[547 | 1327.58] loss=0.55 avg=0.58\n",
            "[548 | 1329.90] loss=0.57 avg=0.58\n",
            "[549 | 1332.22] loss=0.55 avg=0.58\n",
            "[550 | 1334.55] loss=0.54 avg=0.58\n",
            "[551 | 1336.87] loss=0.58 avg=0.58\n",
            "[552 | 1339.19] loss=0.48 avg=0.58\n",
            "[553 | 1341.51] loss=0.56 avg=0.58\n",
            "[554 | 1343.83] loss=0.48 avg=0.58\n",
            "[555 | 1346.15] loss=0.59 avg=0.58\n",
            "[556 | 1348.47] loss=0.55 avg=0.58\n",
            "[557 | 1350.79] loss=0.57 avg=0.58\n",
            "[558 | 1353.12] loss=0.46 avg=0.58\n",
            "[559 | 1355.45] loss=0.54 avg=0.58\n",
            "[560 | 1357.76] loss=0.55 avg=0.58\n",
            "[561 | 1360.09] loss=0.42 avg=0.57\n",
            "[562 | 1362.41] loss=0.55 avg=0.57\n",
            "[563 | 1364.73] loss=0.59 avg=0.57\n",
            "[564 | 1367.05] loss=0.52 avg=0.57\n",
            "[565 | 1369.37] loss=0.53 avg=0.57\n",
            "[566 | 1371.69] loss=0.51 avg=0.57\n",
            "[567 | 1374.01] loss=0.54 avg=0.57\n",
            "[568 | 1376.33] loss=0.45 avg=0.57\n",
            "[569 | 1378.65] loss=0.54 avg=0.57\n",
            "[570 | 1380.98] loss=0.48 avg=0.57\n",
            "[571 | 1383.29] loss=0.52 avg=0.57\n",
            "[572 | 1385.62] loss=0.49 avg=0.57\n",
            "[573 | 1387.95] loss=0.56 avg=0.57\n",
            "[574 | 1390.27] loss=0.53 avg=0.57\n",
            "[575 | 1392.59] loss=0.50 avg=0.57\n",
            "[576 | 1394.91] loss=0.52 avg=0.57\n",
            "[577 | 1397.24] loss=0.37 avg=0.57\n",
            "[578 | 1399.56] loss=0.51 avg=0.57\n",
            "[579 | 1401.88] loss=0.54 avg=0.56\n",
            "[580 | 1404.20] loss=0.47 avg=0.56\n",
            "[581 | 1406.52] loss=0.44 avg=0.56\n",
            "[582 | 1408.84] loss=0.46 avg=0.56\n",
            "[583 | 1411.17] loss=0.55 avg=0.56\n",
            "[584 | 1413.50] loss=0.54 avg=0.56\n",
            "[585 | 1415.82] loss=0.59 avg=0.56\n",
            "[586 | 1418.14] loss=0.36 avg=0.56\n",
            "[587 | 1420.46] loss=0.46 avg=0.56\n",
            "[588 | 1422.79] loss=0.54 avg=0.56\n",
            "[589 | 1425.11] loss=0.57 avg=0.56\n",
            "[590 | 1427.43] loss=0.37 avg=0.56\n",
            "[591 | 1429.76] loss=0.54 avg=0.56\n",
            "[592 | 1432.09] loss=0.44 avg=0.56\n",
            "[593 | 1434.41] loss=0.52 avg=0.55\n",
            "[594 | 1436.73] loss=0.53 avg=0.55\n",
            "[595 | 1439.06] loss=0.40 avg=0.55\n",
            "[596 | 1441.39] loss=0.51 avg=0.55\n",
            "[597 | 1443.72] loss=0.61 avg=0.55\n",
            "[598 | 1446.04] loss=0.48 avg=0.55\n",
            "[599 | 1448.35] loss=0.51 avg=0.55\n",
            "[600 | 1450.68] loss=0.49 avg=0.55\n",
            "======== SAMPLE 1 ========\n",
            " Thened|\"Bb\"fed \"C\"cdc|\"Gm\"D2G \"Em\"B2B|\"Am\"A2d \"G\"cB2::\n",
            "\"Am\"e2a a2b|\"Am\"fe2 g2e|\"Dm\"d4d \"Bm\"c2d|\"Em\"e2e \"Dm7\"g2e|\\\n",
            "\"Am\"e2a a2b|\"Am\"fe2 g2e|\"Em\"d3 \"D7\"dcB|\n",
            "\"Gm\"G2B GAB|\"C\"c2d egf|\"Cm\"ecG \"Gm\"ABc|\"Dm\"d2d \"Gm\"c2:|<|endoftext|>\n",
            "<|startoftext|>~^f+\"a2e2 PR~@\n",
            "X: 3\n",
            "T:The Wandle\n",
            "% Nottingham Music Database\n",
            "S:Trad, via EF\n",
            "M:4/4\n",
            "L:1/4\n",
            "K:F\n",
            "A|\"F\"f3/2e/2 ce|ff3/2A/2 B2|\"F\"c2B c2|\"C7\"E3\"Bc\"Dm\"=F\"F2|\"C7\"ED AE|\n",
            "\"F\"f3/2e/2 ce|\"F\"ff3/2A/2 Bc|\"F\"a\"G\"f2\"C7\"F|\"F\"cA FA|\\\n",
            "f3/2e/2 \"F7\"=B/2^c=d/2e/2=f/2|\n",
            "\"F\"f2 f2|\"Dm\"a\"g\"G\"f3/2e/2 \"C7\"=B|\"F\"A2 FA|\\\n",
            "f3/2e/2 ce|\n",
            "\"F\"f3/2e/2 d3/2e/2|\"G7\"e\"D7\"c/2^A/2 F2||\n",
            "\"C\"EE E^G|EEE E^G|A,B,c ^c3/2d/2|A,B,c EFG|A,B,A, B,::\n",
            "EE C2|EEE E^G|A,B,A, B,A,B,A,B,A,|C,2E A2|C2 EG|GBA G3/2^A/2|\n",
            "C2 EB|GBA B3|GBd e2|c3 \"F\"A2|\"C\"EE E^G|EEE E^G|A,B,c ^c3/2d/2|A,B,c EFG|A,B,A, B,\n",
            "ede Gez|\n",
            "gez G,B,D|\"A7\"FE ED|EFE AE|CEC CA|A,B,A EFG|A,B,A, B,\\\n",
            "A,A,B,A,\n",
            "M:6/8\n",
            "G,G|\"G\"D2 D2|D3/2E/2|\"G\"D2 D2|D2 DE|D2 DE|\"D7\"d3/2e/2 BF|A2 \"G7\"G2|D3/2E/2|\n",
            "\"C\"EG \"G7\"DB|A3/2G/2|\"C\"EG \"Cm\"DB|\"A7\"A2 \"D7\"AB/2c/2|\"G\"d3 -d2:|<|endoftext|>\n",
            "<|startoftext|>~^~@\n",
            "X: 31\n",
            "T:Black Mountain Reel\n",
            "% Nottingham Music Database\n",
            "S:via PR\n",
            "M:4/4\n",
            "L:1/4\n",
            "K:D\n",
            "f/2g/2|\"A7\"a/2f/2e/2d/2 c/2B/2A/2G/2|\"D\"F/2A/2A \"A7\"B/2d/2e/2f/2|\\\n",
            "\"D\"d/2A/2d/2e/2 \"A7\"d/2B/2G/2F/2|\n",
            "\"A7\"A/2B/2c/2d/2 e/2f/2e/2d/2|\"D\"fe \"G\"3/2B/2|\"D\"A/2B/2A/\n",
            "\n",
            "[601 | 1463.27] loss=0.61 avg=0.55\n",
            "[602 | 1465.59] loss=0.51 avg=0.55\n",
            "[603 | 1467.91] loss=0.59 avg=0.55\n",
            "[604 | 1470.23] loss=0.55 avg=0.55\n",
            "[605 | 1472.54] loss=0.57 avg=0.55\n",
            "[606 | 1474.86] loss=0.51 avg=0.55\n",
            "[607 | 1477.17] loss=0.50 avg=0.55\n",
            "[608 | 1479.49] loss=0.48 avg=0.55\n",
            "[609 | 1481.81] loss=0.51 avg=0.55\n",
            "[610 | 1484.13] loss=0.40 avg=0.55\n",
            "[611 | 1486.45] loss=0.44 avg=0.55\n",
            "[612 | 1488.77] loss=0.43 avg=0.55\n",
            "[613 | 1491.08] loss=0.42 avg=0.54\n",
            "[614 | 1493.40] loss=0.46 avg=0.54\n",
            "[615 | 1495.72] loss=0.54 avg=0.54\n",
            "[616 | 1498.05] loss=0.56 avg=0.54\n",
            "[617 | 1500.37] loss=0.36 avg=0.54\n",
            "[618 | 1502.69] loss=0.49 avg=0.54\n",
            "[619 | 1505.01] loss=0.48 avg=0.54\n",
            "[620 | 1507.33] loss=0.53 avg=0.54\n",
            "[621 | 1509.65] loss=0.62 avg=0.54\n",
            "[622 | 1511.97] loss=0.48 avg=0.54\n",
            "[623 | 1514.29] loss=0.63 avg=0.54\n",
            "[624 | 1516.61] loss=0.57 avg=0.54\n",
            "[625 | 1518.93] loss=0.47 avg=0.54\n",
            "[626 | 1521.24] loss=0.53 avg=0.54\n",
            "[627 | 1523.56] loss=0.51 avg=0.54\n",
            "[628 | 1525.88] loss=0.50 avg=0.54\n",
            "[629 | 1528.21] loss=0.46 avg=0.54\n",
            "[630 | 1530.52] loss=0.48 avg=0.54\n",
            "[631 | 1532.84] loss=0.47 avg=0.54\n",
            "[632 | 1535.15] loss=0.58 avg=0.54\n",
            "[633 | 1537.47] loss=0.56 avg=0.54\n",
            "[634 | 1539.79] loss=0.48 avg=0.54\n",
            "[635 | 1542.11] loss=0.51 avg=0.54\n",
            "[636 | 1544.43] loss=0.45 avg=0.54\n",
            "[637 | 1546.76] loss=0.55 avg=0.54\n",
            "[638 | 1549.07] loss=0.45 avg=0.54\n",
            "[639 | 1551.39] loss=0.46 avg=0.54\n",
            "[640 | 1553.71] loss=0.45 avg=0.54\n",
            "[641 | 1556.04] loss=0.40 avg=0.53\n",
            "[642 | 1558.35] loss=0.40 avg=0.53\n",
            "[643 | 1560.67] loss=0.55 avg=0.53\n",
            "[644 | 1562.99] loss=0.50 avg=0.53\n",
            "[645 | 1565.32] loss=0.41 avg=0.53\n",
            "[646 | 1567.65] loss=0.53 avg=0.53\n",
            "[647 | 1569.98] loss=0.45 avg=0.53\n",
            "[648 | 1572.30] loss=0.52 avg=0.53\n",
            "[649 | 1574.61] loss=0.53 avg=0.53\n",
            "[650 | 1576.93] loss=0.50 avg=0.53\n",
            "[651 | 1579.25] loss=0.50 avg=0.53\n",
            "[652 | 1581.57] loss=0.48 avg=0.53\n",
            "[653 | 1583.89] loss=0.54 avg=0.53\n",
            "[654 | 1586.21] loss=0.47 avg=0.53\n",
            "[655 | 1588.53] loss=0.58 avg=0.53\n",
            "[656 | 1590.85] loss=0.50 avg=0.53\n",
            "[657 | 1593.17] loss=0.46 avg=0.53\n",
            "[658 | 1595.49] loss=0.50 avg=0.53\n",
            "[659 | 1597.81] loss=0.51 avg=0.53\n",
            "[660 | 1600.14] loss=0.51 avg=0.53\n",
            "[661 | 1602.46] loss=0.37 avg=0.53\n",
            "[662 | 1604.78] loss=0.56 avg=0.53\n",
            "[663 | 1607.09] loss=0.42 avg=0.53\n",
            "[664 | 1609.41] loss=0.57 avg=0.53\n",
            "[665 | 1611.74] loss=0.49 avg=0.53\n",
            "[666 | 1614.06] loss=0.43 avg=0.52\n",
            "[667 | 1616.37] loss=0.40 avg=0.52\n",
            "[668 | 1618.69] loss=0.44 avg=0.52\n",
            "[669 | 1621.01] loss=0.34 avg=0.52\n",
            "[670 | 1623.34] loss=0.42 avg=0.52\n",
            "[671 | 1625.65] loss=0.50 avg=0.52\n",
            "[672 | 1627.97] loss=0.49 avg=0.52\n",
            "[673 | 1630.29] loss=0.48 avg=0.52\n",
            "[674 | 1632.60] loss=0.48 avg=0.52\n",
            "[675 | 1634.92] loss=0.46 avg=0.52\n",
            "[676 | 1637.25] loss=0.51 avg=0.52\n",
            "[677 | 1639.57] loss=0.56 avg=0.52\n",
            "[678 | 1641.90] loss=0.48 avg=0.52\n",
            "[679 | 1644.22] loss=0.53 avg=0.52\n",
            "[680 | 1646.54] loss=0.44 avg=0.52\n",
            "[681 | 1648.87] loss=0.46 avg=0.52\n",
            "[682 | 1651.18] loss=0.41 avg=0.52\n",
            "[683 | 1653.51] loss=0.44 avg=0.51\n",
            "[684 | 1655.83] loss=0.49 avg=0.51\n",
            "[685 | 1658.15] loss=0.52 avg=0.51\n",
            "[686 | 1660.48] loss=0.53 avg=0.51\n",
            "[687 | 1662.80] loss=0.45 avg=0.51\n",
            "[688 | 1665.12] loss=0.48 avg=0.51\n",
            "[689 | 1667.44] loss=0.43 avg=0.51\n",
            "[690 | 1669.76] loss=0.47 avg=0.51\n",
            "[691 | 1672.07] loss=0.46 avg=0.51\n",
            "[692 | 1674.40] loss=0.49 avg=0.51\n",
            "[693 | 1676.72] loss=0.37 avg=0.51\n",
            "[694 | 1679.04] loss=0.46 avg=0.51\n",
            "[695 | 1681.36] loss=0.46 avg=0.51\n",
            "[696 | 1683.69] loss=0.51 avg=0.51\n",
            "[697 | 1686.00] loss=0.51 avg=0.51\n",
            "[698 | 1688.33] loss=0.40 avg=0.51\n",
            "[699 | 1690.65] loss=0.40 avg=0.51\n",
            "[700 | 1692.97] loss=0.48 avg=0.51\n",
            "======== SAMPLE 1 ========\n",
            "a/2e/2d/2 g/2e/2c/2B/2|F/2G/2A/2B/2 c/2A/2B/2c/2|\\\n",
            "\"D\"dc/2d/2 \"A7\"c/2d/2c/2A/2|\"D\"df/2e/2 d/2c/2A/2F/2|\n",
            "\"G\"GB B2|\"D\"A/2G/2A/2F/2 DE|\"C\"=c3/2 B,/2D/2C/2F/2|\"G\"G/2F/2G/2A/2 GB|\"D\"A/2G/2A/2F/2 D/2F/2A/2F/2|\\\n",
            "\"G\"G2 G:|<|endoftext|>\n",
            "<|startoftext|>~^Am\"=3-Amf| d2 d:|~@\n",
            "X: 20\n",
            "T:Green Meadow\n",
            "% Nottingham Music Database\n",
            "S:via PR\n",
            "M:4/4\n",
            "L:1/4\n",
            "K:Am\n",
            "e|\"Am\"a2 -a/2b/2a/2e/2|\"G\"d/2B/2A/2G/2 B/2c/2d/2B/2|\"Em\"G/2A/2B/2c/2 d/2c/2B/2c/2|\\\n",
            "\"G\"d/2B/2A/2G/2 B/2c/2d/2B/2|\n",
            "\"Am\"a2 -a/2b/2a/2e/2|\"G\"d/2B/2A/2G/2 B/2c/2d/2B/2|\"Em\"G/2A/2B/2c/2 d/2c/2B/2c/2|\\\n",
            "\"G\"B/2A/2G/2F/2 \"Em\"E:|\n",
            "K:D\n",
            "f/2g/2|\"D\"af/2a/2 \"A/c+\"b/2a/2g/2f/2|\"G\"gg/2a/2 \"E7\"b/2a/2g/2f/2|\"A7\"ec c/2B/2A/2c/2|\\\n",
            "\"D\"d/2e/2f/2g/2 \"D\"f/2a/2d/2f/2|\n",
            "\"A7\"ec c/2B/2A/2c/2|\"D\"df/2e/2 d/2c/2A/2F/2|\"G\"GB \"D\"Af|\"G\"gf/2e/2 d/2c/2B/2F/2|\\\n",
            "\"D\"AD \"A7\"DEF|\n",
            "\"D\"FA \"G\"GB|\"D\"da/2b/2 \"D\"af|\"Em\"ed \"A7\"ec|\"D\"d3a \"A7\"ge|\"D\"fd \"G\"G/2F/2G/2A/2G/2|\\\n",
            "\"D\"A/2D/2D \"G\"B/2A/2F/2A/2|\n",
            "\"D\"F/2D/2F/2A/2 d/2c/2d/2e/2|\"D\"fa \"B7\"d/2e/2f/2g/2|\"E7\"e3d\\\n",
            "|\n",
            "\"Am\"=3A \"G\"B/2A/2F/2A/2|\"Em\"G/2E/2E \"D\"D/2G/2F/2A/2|\"Em\"E/2G/2F \"A7\"G/2F/2E/2G/2|\\\n",
            "\"D\"F/2D/2D \"G\"B/2A/2F/2A/2|\n",
            "\"G\"G/2E/2D/2E/2 D/2G/2F/2G/2|\"D\"A/2G/2A \"A7\"B/2A/2F/2A/2|\"D\"fa \"D7\"d/2e/2f/2g/2|\"G\"ed B|\\\n",
            "\"Am\"\n",
            "\n",
            "[701 | 1705.48] loss=0.38 avg=0.51\n",
            "[702 | 1707.80] loss=0.52 avg=0.51\n",
            "[703 | 1710.12] loss=0.49 avg=0.51\n",
            "[704 | 1712.43] loss=0.40 avg=0.50\n",
            "[705 | 1714.76] loss=0.38 avg=0.50\n",
            "[706 | 1717.08] loss=0.49 avg=0.50\n",
            "[707 | 1719.40] loss=0.32 avg=0.50\n",
            "[708 | 1721.72] loss=0.42 avg=0.50\n",
            "[709 | 1724.04] loss=0.42 avg=0.50\n",
            "[710 | 1726.36] loss=0.58 avg=0.50\n",
            "[711 | 1728.69] loss=0.38 avg=0.50\n",
            "[712 | 1731.01] loss=0.46 avg=0.50\n",
            "[713 | 1733.32] loss=0.52 avg=0.50\n",
            "[714 | 1735.64] loss=0.43 avg=0.50\n",
            "[715 | 1737.96] loss=0.47 avg=0.50\n",
            "[716 | 1740.27] loss=0.45 avg=0.50\n",
            "[717 | 1742.60] loss=0.46 avg=0.50\n",
            "[718 | 1744.92] loss=0.51 avg=0.50\n",
            "[719 | 1747.24] loss=0.44 avg=0.50\n",
            "[720 | 1749.56] loss=0.43 avg=0.50\n",
            "[721 | 1751.89] loss=0.49 avg=0.50\n",
            "[722 | 1754.21] loss=0.53 avg=0.50\n",
            "[723 | 1756.53] loss=0.51 avg=0.50\n",
            "[724 | 1758.86] loss=0.37 avg=0.50\n",
            "[725 | 1761.18] loss=0.46 avg=0.49\n",
            "[726 | 1763.49] loss=0.40 avg=0.49\n",
            "[727 | 1765.81] loss=0.52 avg=0.49\n",
            "[728 | 1768.13] loss=0.40 avg=0.49\n",
            "[729 | 1770.45] loss=0.46 avg=0.49\n",
            "[730 | 1772.76] loss=0.47 avg=0.49\n",
            "[731 | 1775.08] loss=0.35 avg=0.49\n",
            "[732 | 1777.40] loss=0.40 avg=0.49\n",
            "[733 | 1779.72] loss=0.42 avg=0.49\n",
            "[734 | 1782.04] loss=0.44 avg=0.49\n",
            "[735 | 1784.37] loss=0.33 avg=0.49\n",
            "[736 | 1786.69] loss=0.41 avg=0.49\n",
            "[737 | 1789.01] loss=0.49 avg=0.49\n",
            "[738 | 1791.33] loss=0.48 avg=0.49\n",
            "[739 | 1793.65] loss=0.54 avg=0.49\n",
            "[740 | 1795.98] loss=0.32 avg=0.49\n",
            "[741 | 1798.30] loss=0.39 avg=0.48\n",
            "[742 | 1800.62] loss=0.44 avg=0.48\n",
            "[743 | 1802.95] loss=0.36 avg=0.48\n",
            "[744 | 1805.26] loss=0.41 avg=0.48\n",
            "[745 | 1807.58] loss=0.39 avg=0.48\n",
            "[746 | 1809.91] loss=0.48 avg=0.48\n",
            "[747 | 1812.23] loss=0.41 avg=0.48\n",
            "[748 | 1814.54] loss=0.45 avg=0.48\n",
            "[749 | 1816.87] loss=0.51 avg=0.48\n",
            "[750 | 1819.19] loss=0.48 avg=0.48\n",
            "[751 | 1821.51] loss=0.44 avg=0.48\n",
            "[752 | 1823.83] loss=0.41 avg=0.48\n",
            "[753 | 1826.16] loss=0.34 avg=0.48\n",
            "[754 | 1828.48] loss=0.53 avg=0.48\n",
            "[755 | 1830.80] loss=0.54 avg=0.48\n",
            "[756 | 1833.12] loss=0.35 avg=0.48\n",
            "[757 | 1835.44] loss=0.54 avg=0.48\n",
            "[758 | 1837.76] loss=0.48 avg=0.48\n",
            "[759 | 1840.08] loss=0.49 avg=0.48\n",
            "[760 | 1842.40] loss=0.39 avg=0.48\n",
            "[761 | 1844.72] loss=0.49 avg=0.48\n",
            "[762 | 1847.05] loss=0.42 avg=0.48\n",
            "[763 | 1849.36] loss=0.50 avg=0.48\n",
            "[764 | 1851.69] loss=0.42 avg=0.48\n",
            "[765 | 1854.02] loss=0.46 avg=0.48\n",
            "[766 | 1856.33] loss=0.39 avg=0.48\n",
            "[767 | 1858.66] loss=0.46 avg=0.48\n",
            "[768 | 1860.98] loss=0.34 avg=0.47\n",
            "[769 | 1863.30] loss=0.47 avg=0.47\n",
            "[770 | 1865.61] loss=0.36 avg=0.47\n",
            "[771 | 1867.94] loss=0.41 avg=0.47\n",
            "[772 | 1870.27] loss=0.40 avg=0.47\n",
            "[773 | 1872.59] loss=0.36 avg=0.47\n",
            "[774 | 1874.92] loss=0.38 avg=0.47\n",
            "[775 | 1877.23] loss=0.56 avg=0.47\n",
            "[776 | 1879.56] loss=0.43 avg=0.47\n",
            "[777 | 1881.88] loss=0.53 avg=0.47\n",
            "[778 | 1884.20] loss=0.50 avg=0.47\n",
            "[779 | 1886.53] loss=0.38 avg=0.47\n",
            "[780 | 1888.85] loss=0.38 avg=0.47\n",
            "[781 | 1891.17] loss=0.50 avg=0.47\n",
            "[782 | 1893.50] loss=0.37 avg=0.47\n",
            "[783 | 1895.83] loss=0.35 avg=0.47\n",
            "[784 | 1898.15] loss=0.41 avg=0.47\n",
            "[785 | 1900.47] loss=0.37 avg=0.47\n",
            "[786 | 1902.79] loss=0.45 avg=0.47\n",
            "[787 | 1905.12] loss=0.37 avg=0.46\n",
            "[788 | 1907.44] loss=0.45 avg=0.46\n",
            "[789 | 1909.77] loss=0.36 avg=0.46\n",
            "[790 | 1912.09] loss=0.47 avg=0.46\n",
            "[791 | 1914.42] loss=0.44 avg=0.46\n",
            "[792 | 1916.74] loss=0.41 avg=0.46\n",
            "[793 | 1919.06] loss=0.42 avg=0.46\n",
            "[794 | 1921.38] loss=0.32 avg=0.46\n",
            "[795 | 1923.70] loss=0.38 avg=0.46\n",
            "[796 | 1926.02] loss=0.41 avg=0.46\n",
            "[797 | 1928.35] loss=0.43 avg=0.46\n",
            "[798 | 1930.67] loss=0.45 avg=0.46\n",
            "[799 | 1932.99] loss=0.34 avg=0.46\n",
            "[800 | 1935.31] loss=0.45 avg=0.46\n",
            "======== SAMPLE 1 ========\n",
            "2g/2e/2c/2|F/2A/2B/2c/2 A/2G/2B/2A/2|\n",
            "f/2d/2f/2e/2 =c/2e/2c/2A/2|d/2B/2a/2B/2 B/2d/2A/2B/2|f/2e/2f/2g/2 B/2c/2e/2c/2|\\\n",
            "f/2e/2f/2g/2 A/2G/2B/2A/2|\"D\"=f/2d/2A/2f/2 d/2B/2A|\n",
            "f/2d/2A/2f/2 B/2A/2d/2A/2B/2|f/2e/2f/2g/2 A/2B/2a/2B/2|f/2e/2f/2g/2 A/2B/2A/2f/2|\\\n",
            "\"G\"g/2G/2e/2B/2 \"D\"c/2B/2A|\n",
            "f/2d/2A/2f/2 =c/2B/2A/2c/2d/2|c/2B/2A/2c/2B/2 A/2B/2A/2c/2B/2|F/2E/2F/2G/2 E/2F/2E/2F/2|\\\n",
            "G/2F/2E/2F/2 =c/2B/2A/2c/2d/2|\n",
            "c/2B/2A/2c/2B/2 A/2B/2A/2c/2B/2|F/2E/2F/2G/2 E/2F/2E/2F/2|\\\n",
            " [1\"D\"DF d||<|endoftext|>\n",
            "<|startoftext|>~^% D7\"A2D|\"G\"DB, \"Am\"c3|\"Em\"d2e~@\n",
            "X: 10\n",
            "T:Leaping Jack\n",
            "% Nottingham Music Database\n",
            "S:Ken McDouall, via PR\n",
            "M:4/4\n",
            "L:1/4\n",
            "K:G\n",
            "D|\"G\"G2 AG|BA/2G/2 \"D\"F/2G/2A/2F/2|\"Em\"GF \"D\"D2|\"G\"G^F AG|d3:|\n",
            "D|\"G\"Bd cd|\"G\"ed B3/2d/2|\"C\"e3/2d/2 \"D7\"Bc|\"G\"dB de|\"D\"^f2 \"D7\"f2|\"G\"g3e|\n",
            "\"D\"G^F \"Em\"G^E/2D/2|\"Am\"E/2F/2G/2A/2 B/2A/2B/2c/2d/2|\"D7\"de f=e|\"G\"dB de\\\n",
            "|\n",
            "\"D\"g3/2a/2 \"B7\"b/2a/2b/2g/2|\"D7\"age|\"Em\"dc \"B7\"d2|\\\n",
            "\"C\"e3/2d/2 \"D7\"cA|\"G\"Bd cd|\n",
            "\"G\"ed cd|\"G\"ed Bcd|\"E7\"ef gd|\"Am\"e3/2d/2 cd|\"D7\"cd d2|\"G\"Bd g^f|\"G\"g3/2a/2 \"B7\"b/2a/2b/2a/2|\n",
            "\"D7\"df af|\"G\"ge g2|\"D\"A/2B/2A/2G/2 \"D7\"AG/2F/2|\"G\"G3D||\n",
            "\"G\"G4||<|endoftext|>\n",
            "<|startoftext|>~^~@\n",
            "X: 17\n",
            "T:North Skelton 1, v 2\n",
            "% Nottingham Music Database\n",
            "S:via PR\n",
            "M:4/4\n",
            "L:1/4\n",
            "K:C\n",
            "\"C\"G3/2E/2G|\\\n",
            "C2E/2G|cG|A2 B^c|dD|\n",
            "\n",
            "[801 | 1947.84] loss=0.42 avg=0.46\n",
            "[802 | 1950.16] loss=0.41 avg=0.46\n",
            "[803 | 1952.48] loss=0.50 avg=0.46\n",
            "[804 | 1954.80] loss=0.35 avg=0.46\n",
            "[805 | 1957.13] loss=0.45 avg=0.46\n",
            "[806 | 1959.45] loss=0.33 avg=0.46\n",
            "[807 | 1961.77] loss=0.36 avg=0.45\n",
            "[808 | 1964.10] loss=0.39 avg=0.45\n",
            "[809 | 1966.42] loss=0.39 avg=0.45\n",
            "[810 | 1968.75] loss=0.35 avg=0.45\n",
            "[811 | 1971.07] loss=0.43 avg=0.45\n",
            "[812 | 1973.39] loss=0.35 avg=0.45\n",
            "[813 | 1975.71] loss=0.34 avg=0.45\n",
            "[814 | 1978.03] loss=0.51 avg=0.45\n",
            "[815 | 1980.36] loss=0.40 avg=0.45\n",
            "[816 | 1982.68] loss=0.51 avg=0.45\n",
            "[817 | 1985.00] loss=0.39 avg=0.45\n",
            "[818 | 1987.32] loss=0.35 avg=0.45\n",
            "[819 | 1989.64] loss=0.42 avg=0.45\n",
            "[820 | 1991.97] loss=0.30 avg=0.45\n",
            "[821 | 1994.29] loss=0.44 avg=0.45\n",
            "[822 | 1996.61] loss=0.32 avg=0.45\n",
            "[823 | 1998.93] loss=0.44 avg=0.45\n",
            "[824 | 2001.25] loss=0.34 avg=0.44\n",
            "[825 | 2003.57] loss=0.41 avg=0.44\n",
            "[826 | 2005.90] loss=0.34 avg=0.44\n",
            "[827 | 2008.22] loss=0.38 avg=0.44\n",
            "[828 | 2010.55] loss=0.37 avg=0.44\n",
            "[829 | 2012.87] loss=0.47 avg=0.44\n",
            "[830 | 2015.19] loss=0.50 avg=0.44\n",
            "[831 | 2017.52] loss=0.40 avg=0.44\n",
            "[832 | 2019.83] loss=0.37 avg=0.44\n",
            "[833 | 2022.15] loss=0.45 avg=0.44\n",
            "[834 | 2024.47] loss=0.31 avg=0.44\n",
            "[835 | 2026.79] loss=0.40 avg=0.44\n",
            "[836 | 2029.11] loss=0.41 avg=0.44\n",
            "[837 | 2031.43] loss=0.36 avg=0.44\n",
            "[838 | 2033.75] loss=0.43 avg=0.44\n",
            "[839 | 2036.07] loss=0.30 avg=0.44\n",
            "[840 | 2038.39] loss=0.42 avg=0.44\n",
            "[841 | 2040.71] loss=0.37 avg=0.44\n",
            "[842 | 2043.03] loss=0.37 avg=0.44\n",
            "[843 | 2045.35] loss=0.35 avg=0.43\n",
            "[844 | 2047.67] loss=0.42 avg=0.43\n",
            "[845 | 2050.00] loss=0.36 avg=0.43\n",
            "[846 | 2052.32] loss=0.50 avg=0.43\n",
            "[847 | 2054.65] loss=0.34 avg=0.43\n",
            "[848 | 2056.98] loss=0.45 avg=0.43\n",
            "[849 | 2059.30] loss=0.47 avg=0.43\n",
            "[850 | 2061.63] loss=0.39 avg=0.43\n",
            "[851 | 2063.95] loss=0.39 avg=0.43\n",
            "[852 | 2066.28] loss=0.39 avg=0.43\n",
            "[853 | 2068.60] loss=0.45 avg=0.43\n",
            "[854 | 2070.93] loss=0.43 avg=0.43\n",
            "[855 | 2073.25] loss=0.35 avg=0.43\n",
            "[856 | 2075.57] loss=0.36 avg=0.43\n",
            "[857 | 2077.89] loss=0.34 avg=0.43\n",
            "[858 | 2080.21] loss=0.43 avg=0.43\n",
            "[859 | 2082.53] loss=0.45 avg=0.43\n",
            "[860 | 2084.85] loss=0.38 avg=0.43\n",
            "[861 | 2087.18] loss=0.37 avg=0.43\n",
            "[862 | 2089.50] loss=0.39 avg=0.43\n",
            "[863 | 2091.82] loss=0.37 avg=0.43\n",
            "[864 | 2094.15] loss=0.43 avg=0.43\n",
            "[865 | 2096.47] loss=0.42 avg=0.43\n",
            "[866 | 2098.80] loss=0.38 avg=0.43\n",
            "[867 | 2101.11] loss=0.36 avg=0.43\n",
            "[868 | 2103.44] loss=0.40 avg=0.43\n",
            "[869 | 2105.76] loss=0.41 avg=0.43\n",
            "[870 | 2108.08] loss=0.36 avg=0.43\n",
            "[871 | 2110.40] loss=0.37 avg=0.43\n",
            "[872 | 2112.72] loss=0.42 avg=0.43\n",
            "[873 | 2115.05] loss=0.46 avg=0.43\n",
            "[874 | 2117.37] loss=0.40 avg=0.43\n",
            "[875 | 2119.68] loss=0.40 avg=0.43\n",
            "[876 | 2122.00] loss=0.31 avg=0.42\n",
            "[877 | 2124.32] loss=0.38 avg=0.42\n",
            "[878 | 2126.64] loss=0.38 avg=0.42\n",
            "[879 | 2128.96] loss=0.45 avg=0.42\n",
            "[880 | 2131.28] loss=0.33 avg=0.42\n",
            "[881 | 2133.60] loss=0.33 avg=0.42\n",
            "[882 | 2135.92] loss=0.40 avg=0.42\n",
            "[883 | 2138.25] loss=0.35 avg=0.42\n",
            "[884 | 2140.57] loss=0.37 avg=0.42\n",
            "[885 | 2142.89] loss=0.25 avg=0.42\n",
            "[886 | 2145.21] loss=0.32 avg=0.42\n",
            "[887 | 2147.54] loss=0.39 avg=0.42\n",
            "[888 | 2149.86] loss=0.30 avg=0.42\n",
            "[889 | 2152.18] loss=0.31 avg=0.42\n",
            "[890 | 2154.50] loss=0.38 avg=0.41\n",
            "[891 | 2156.82] loss=0.28 avg=0.41\n",
            "[892 | 2159.15] loss=0.40 avg=0.41\n",
            "[893 | 2161.48] loss=0.35 avg=0.41\n",
            "[894 | 2163.81] loss=0.42 avg=0.41\n",
            "[895 | 2166.14] loss=0.37 avg=0.41\n",
            "[896 | 2168.45] loss=0.32 avg=0.41\n",
            "[897 | 2170.77] loss=0.42 avg=0.41\n",
            "[898 | 2173.09] loss=0.34 avg=0.41\n",
            "[899 | 2175.42] loss=0.41 avg=0.41\n",
            "[900 | 2177.74] loss=0.35 avg=0.41\n",
            "======== SAMPLE 1 ========\n",
            "^\"Am I\"c3/2G/2F/2E/2^F/2 \"C\"EGE|\"F\"^G/2F/2E/2D/2 C4|\n",
            "\"D\"D3c/2d/2e/2 fe/2d/2|\"E7\"BeB Bee|\"A\"c3c|ede ecA|\"E7\"^gec|\"A7\"B/2c/2d \"D\"AFA:|\n",
            "<|endoftext|>\n",
            "<|startoftext|>~^~@\n",
            "X: 8\n",
            "T:Dancing Tailor\n",
            "% Nottingham Music Database\n",
            "S:Trad\n",
            "Y:ABB\n",
            "M:4/4\n",
            "L:1/8\n",
            "K:D\n",
            "P:A\n",
            "f/2B/2|\"D\"A/2F/2A/2B/2 \"A7\"AF/2A/2|\"G\"B/2c/2d/2e/2 \"A7\"f/2d/2d/2e/2|\\\n",
            "\"D\"f/2a/2f/2d/2 \"Em\"c/2B/2A/2G/2F/2|\"A7\"E/2G/2F/2E/2 DB/2c/2|\n",
            "\"D\"d/2f/2d/2e/2 f/2d/2d/2e/2|\"C\"g/2f/2e/2d/2 \"B7\"f/2d/2d/2e/2|\\\n",
            "\"D\"f/2a/2f/2d/2 \"Em\"c/2B/2A/2G/2F/2|\"A7\"E/2G/2F/2E/2 \"D\"D2:|<|endoftext|>\n",
            "<|startoftext|>~^E2|\\ A\"a2A3:|~@\n",
            "X: 5\n",
            "T:Lea Riggs\n",
            "% Nottingham Music Database\n",
            "S:Nan Fleming-Williams\n",
            "Y:AABABA\n",
            "M:9/8\n",
            "L:1/8\n",
            "K:A\n",
            "P:P\n",
            "E2|\"A\"A,C A,C|\"A\"EA/2c/2 \"E\"B3/2e/2|\"D\"F2 -FE/2F/2|\"A\"E2 -\"G\"E2|\"A\"A,C A,C|\"A\"EA/2c/2 \"E\"B3/2e/2|\\\n",
            "\"E7/b\"F2 -F2|\n",
            "\"A\"EF/2G/2 A/2G/2 AB/2^c/2|\"G\"d/2c/2B/2A/2 \"E7/b\"G/2F/2E/2D/2|\"A\"E2 A,C::\n",
            "P:V\n",
            "\"A\"EF/2G/2 A/2G/2 \"E7\"d/2E/2G/2E/2|\"A\"C/2E/2A/2G/2 C/2E/2A/2G/2E/2|\\\n",
            "\"D\"F/2A/2d/2c/2 \"E7\"B/2A/2B/2c/2|\"A\"A3:|<|endoftext|>\n",
            "<|startoftext|>~^T S~@\n",
            "X: 55\n",
            "T:Merrydale Romp\n",
            "% Nottingham Music Database\n",
            "S:John Jones, via EF\n",
            "Y:ABC\n",
            "M:4/4\n",
            "L:1/4\n",
            "K:D\n",
            "P:A\n",
            "F/2G/2|\"D\"AF/2A/2 Af/2A/2|AF/2A/2 Af|\"D\"f/2e/2d/2c/2 \"A7\"B/2A/2B/2c/2|\\\n",
            "\"D\"d/2e/2f/2e/2 \"A7\"dA/2F/2|\n",
            "\"D\"AF/2A/2 Af/2A/2|AF/2A/2 Af/2A/2|\"D\"f/2e/2d/2c/2 \"A7\"B/2A/2B/2c/2|\"A7\"d/2e/2f/2e\n",
            "\n",
            "[901 | 2190.25] loss=0.37 avg=0.41\n",
            "[902 | 2192.57] loss=0.31 avg=0.41\n",
            "[903 | 2194.89] loss=0.41 avg=0.41\n",
            "[904 | 2197.22] loss=0.29 avg=0.41\n",
            "[905 | 2199.54] loss=0.38 avg=0.41\n",
            "[906 | 2201.86] loss=0.31 avg=0.41\n",
            "[907 | 2204.18] loss=0.42 avg=0.41\n",
            "[908 | 2206.50] loss=0.34 avg=0.41\n",
            "[909 | 2208.83] loss=0.35 avg=0.41\n",
            "[910 | 2211.15] loss=0.35 avg=0.40\n",
            "[911 | 2213.47] loss=0.35 avg=0.40\n",
            "[912 | 2215.79] loss=0.33 avg=0.40\n",
            "[913 | 2218.11] loss=0.33 avg=0.40\n",
            "[914 | 2220.44] loss=0.31 avg=0.40\n",
            "[915 | 2222.75] loss=0.34 avg=0.40\n",
            "[916 | 2225.07] loss=0.35 avg=0.40\n",
            "[917 | 2227.38] loss=0.35 avg=0.40\n",
            "[918 | 2229.71] loss=0.36 avg=0.40\n",
            "[919 | 2232.03] loss=0.42 avg=0.40\n",
            "[920 | 2234.34] loss=0.30 avg=0.40\n",
            "[921 | 2236.67] loss=0.36 avg=0.40\n",
            "[922 | 2239.00] loss=0.45 avg=0.40\n",
            "[923 | 2241.32] loss=0.26 avg=0.40\n",
            "[924 | 2243.63] loss=0.39 avg=0.40\n",
            "[925 | 2245.94] loss=0.33 avg=0.40\n",
            "[926 | 2248.26] loss=0.39 avg=0.40\n",
            "[927 | 2250.58] loss=0.31 avg=0.40\n",
            "[928 | 2252.90] loss=0.41 avg=0.40\n",
            "[929 | 2255.22] loss=0.32 avg=0.40\n",
            "[930 | 2257.54] loss=0.30 avg=0.39\n",
            "[931 | 2259.86] loss=0.36 avg=0.39\n",
            "[932 | 2262.19] loss=0.37 avg=0.39\n",
            "[933 | 2264.51] loss=0.38 avg=0.39\n",
            "[934 | 2266.83] loss=0.34 avg=0.39\n",
            "[935 | 2269.16] loss=0.34 avg=0.39\n",
            "[936 | 2271.47] loss=0.43 avg=0.39\n",
            "[937 | 2273.79] loss=0.35 avg=0.39\n",
            "[938 | 2276.11] loss=0.31 avg=0.39\n",
            "[939 | 2278.43] loss=0.38 avg=0.39\n",
            "[940 | 2280.74] loss=0.42 avg=0.39\n",
            "[941 | 2283.07] loss=0.36 avg=0.39\n",
            "[942 | 2285.39] loss=0.42 avg=0.39\n",
            "[943 | 2287.72] loss=0.32 avg=0.39\n",
            "[944 | 2290.04] loss=0.30 avg=0.39\n",
            "[945 | 2292.37] loss=0.37 avg=0.39\n",
            "[946 | 2294.69] loss=0.33 avg=0.39\n",
            "[947 | 2297.01] loss=0.38 avg=0.39\n",
            "[948 | 2299.32] loss=0.47 avg=0.39\n",
            "[949 | 2301.65] loss=0.32 avg=0.39\n",
            "[950 | 2303.97] loss=0.38 avg=0.39\n",
            "[951 | 2306.29] loss=0.31 avg=0.39\n",
            "[952 | 2308.61] loss=0.24 avg=0.39\n",
            "[953 | 2310.94] loss=0.34 avg=0.39\n",
            "[954 | 2313.26] loss=0.40 avg=0.39\n",
            "[955 | 2315.58] loss=0.37 avg=0.39\n",
            "[956 | 2317.89] loss=0.38 avg=0.39\n",
            "[957 | 2320.21] loss=0.37 avg=0.39\n",
            "[958 | 2322.53] loss=0.41 avg=0.39\n",
            "[959 | 2324.85] loss=0.37 avg=0.39\n",
            "[960 | 2327.17] loss=0.34 avg=0.39\n",
            "[961 | 2329.49] loss=0.32 avg=0.39\n",
            "[962 | 2331.80] loss=0.26 avg=0.38\n",
            "[963 | 2334.12] loss=0.37 avg=0.38\n",
            "[964 | 2336.44] loss=0.34 avg=0.38\n",
            "[965 | 2338.76] loss=0.31 avg=0.38\n",
            "[966 | 2341.08] loss=0.34 avg=0.38\n",
            "[967 | 2343.40] loss=0.36 avg=0.38\n",
            "[968 | 2345.72] loss=0.34 avg=0.38\n",
            "[969 | 2348.04] loss=0.33 avg=0.38\n",
            "[970 | 2350.36] loss=0.38 avg=0.38\n",
            "[971 | 2352.67] loss=0.28 avg=0.38\n",
            "[972 | 2354.99] loss=0.33 avg=0.38\n",
            "[973 | 2357.31] loss=0.30 avg=0.38\n",
            "[974 | 2359.63] loss=0.37 avg=0.38\n",
            "[975 | 2361.95] loss=0.31 avg=0.38\n",
            "[976 | 2364.28] loss=0.27 avg=0.38\n",
            "[977 | 2366.60] loss=0.29 avg=0.38\n",
            "[978 | 2368.93] loss=0.32 avg=0.38\n",
            "[979 | 2371.26] loss=0.34 avg=0.38\n",
            "[980 | 2373.58] loss=0.35 avg=0.37\n",
            "[981 | 2375.91] loss=0.32 avg=0.37\n",
            "[982 | 2378.22] loss=0.36 avg=0.37\n",
            "[983 | 2380.54] loss=0.34 avg=0.37\n",
            "[984 | 2382.86] loss=0.32 avg=0.37\n",
            "[985 | 2385.18] loss=0.29 avg=0.37\n",
            "[986 | 2387.50] loss=0.30 avg=0.37\n",
            "[987 | 2389.82] loss=0.31 avg=0.37\n",
            "[988 | 2392.14] loss=0.34 avg=0.37\n",
            "[989 | 2394.46] loss=0.38 avg=0.37\n",
            "[990 | 2396.77] loss=0.28 avg=0.37\n",
            "[991 | 2399.09] loss=0.38 avg=0.37\n",
            "[992 | 2401.41] loss=0.30 avg=0.37\n",
            "[993 | 2403.74] loss=0.33 avg=0.37\n",
            "[994 | 2406.05] loss=0.33 avg=0.37\n",
            "[995 | 2408.37] loss=0.33 avg=0.37\n",
            "[996 | 2410.69] loss=0.35 avg=0.37\n",
            "[997 | 2413.01] loss=0.28 avg=0.37\n",
            "[998 | 2415.33] loss=0.37 avg=0.37\n",
            "[999 | 2417.65] loss=0.31 avg=0.37\n",
            "[1000 | 2419.97] loss=0.25 avg=0.37\n",
            "Saving checkpoint/run1/model-1000\n"
          ],
          "name": "stdout"
        }
      ]
    },
    {
      "cell_type": "code",
      "metadata": {
        "id": "X2rlRCWET-uK",
        "colab": {
          "base_uri": "https://localhost:8080/",
          "height": 202
        },
        "outputId": "a6989434-dd35-44a9-b00b-08afc5acd34c"
      },
      "source": [
        "!zip -r musemodel.zip /content/checkpoint"
      ],
      "execution_count": null,
      "outputs": [
        {
          "output_type": "stream",
          "text": [
            "  adding: content/checkpoint/ (stored 0%)\n",
            "  adding: content/checkpoint/run1/ (stored 0%)\n",
            "  adding: content/checkpoint/run1/vocab.bpe (deflated 53%)\n",
            "  adding: content/checkpoint/run1/events.out.tfevents.1581086327.b485988a71f9 (deflated 61%)\n",
            "  adding: content/checkpoint/run1/encoder.json (deflated 67%)\n",
            "  adding: content/checkpoint/run1/checkpoint (deflated 40%)\n",
            "  adding: content/checkpoint/run1/model-1000.meta (deflated 91%)\n",
            "  adding: content/checkpoint/run1/model-1000.index (deflated 62%)\n",
            "  adding: content/checkpoint/run1/model-1000.data-00000-of-00001 (deflated 7%)\n",
            "  adding: content/checkpoint/run1/counter (stored 0%)\n",
            "  adding: content/checkpoint/run1/hparams.json (deflated 28%)\n"
          ],
          "name": "stdout"
        }
      ]
    },
    {
      "cell_type": "code",
      "metadata": {
        "id": "kdf1ceJxUUxH"
      },
      "source": [
        "!pip install -U -q PyDrive\n",
        "from pydrive.auth import GoogleAuth\n",
        "from pydrive.drive import GoogleDrive\n",
        "from google.colab import auth\n",
        "from oauth2client.client import GoogleCredentials"
      ],
      "execution_count": null,
      "outputs": []
    },
    {
      "cell_type": "code",
      "metadata": {
        "id": "jqKYRdwAW1kN"
      },
      "source": [
        "# Authenticate and create the PyDrive client.\n",
        "# This only needs to be done once in a notebook.\n",
        "auth.authenticate_user()\n",
        "gauth = GoogleAuth()\n",
        "gauth.credentials = GoogleCredentials.get_application_default()\n",
        "drive = GoogleDrive(gauth)"
      ],
      "execution_count": null,
      "outputs": []
    },
    {
      "cell_type": "code",
      "metadata": {
        "id": "9Tp_u8m7P_vs",
        "colab": {
          "base_uri": "https://localhost:8080/",
          "height": 121
        },
        "outputId": "b621ce1f-719a-42c4-d62a-07bef297dd75"
      },
      "source": [
        "from google.colab import drive as dr\n",
        "dr.mount(\"/content/drive/\")"
      ],
      "execution_count": null,
      "outputs": [
        {
          "output_type": "stream",
          "text": [
            "Go to this URL in a browser: https://accounts.google.com/o/oauth2/auth?client_id=947318989803-6bn6qk8qdgf4n4g3pfee6491hc0brc4i.apps.googleusercontent.com&redirect_uri=urn%3aietf%3awg%3aoauth%3a2.0%3aoob&response_type=code&scope=email%20https%3a%2f%2fwww.googleapis.com%2fauth%2fdocs.test%20https%3a%2f%2fwww.googleapis.com%2fauth%2fdrive%20https%3a%2f%2fwww.googleapis.com%2fauth%2fdrive.photos.readonly%20https%3a%2f%2fwww.googleapis.com%2fauth%2fpeopleapi.readonly\n",
            "\n",
            "Enter your authorization code:\n",
            "··········\n",
            "Mounted at /content/drive/\n"
          ],
          "name": "stdout"
        }
      ]
    },
    {
      "cell_type": "code",
      "metadata": {
        "id": "i13rQKiAWYJa",
        "colab": {
          "base_uri": "https://localhost:8080/",
          "height": 34
        },
        "outputId": "5e317dd4-da68-4498-c743-7d189d9a54b9"
      },
      "source": [
        "# Create & upload a file.\n",
        "uploaded = drive.CreateFile({'title': 'musemodel.zip'})\n",
        "uploaded.SetContentFile('musemodel.zip')\n",
        "uploaded.Upload()\n",
        "print('Uploaded file with ID {}'.format(uploaded.get('id')))"
      ],
      "execution_count": null,
      "outputs": [
        {
          "output_type": "stream",
          "text": [
            "Uploaded file with ID 1Qjn8q95ULaBCIFbva8kpz7h2Te9kOUy8\n"
          ],
          "name": "stdout"
        }
      ]
    },
    {
      "cell_type": "code",
      "metadata": {
        "id": "hEFIjJ2LQcYg"
      },
      "source": [
        "!cp /content/drive/My*Drive/Models/file1000.zip /content/checkpoint"
      ],
      "execution_count": null,
      "outputs": []
    },
    {
      "cell_type": "code",
      "metadata": {
        "id": "xkDPxgAPRtep",
        "colab": {
          "base_uri": "https://localhost:8080/",
          "height": 218
        },
        "outputId": "18f13589-9942-487b-b971-718b5e42d00c"
      },
      "source": [
        "!unzip /content/checkpoint/file1000.zip"
      ],
      "execution_count": null,
      "outputs": [
        {
          "output_type": "stream",
          "text": [
            "Archive:  /content/checkpoint/file1000.zip\n",
            "   creating: content/checkpoint/\n",
            "   creating: content/checkpoint/run1/\n",
            " extracting: content/checkpoint/run1/counter  \n",
            "  inflating: content/checkpoint/run1/model-1000.meta  \n",
            "  inflating: content/checkpoint/run1/hparams.json  \n",
            "  inflating: content/checkpoint/run1/encoder.json  \n",
            "  inflating: content/checkpoint/run1/events.out.tfevents.1579265029.ed922aed462e  \n",
            "  inflating: content/checkpoint/run1/vocab.bpe  \n",
            "  inflating: content/checkpoint/run1/model-1000.index  \n",
            "  inflating: content/checkpoint/run1/checkpoint  \n",
            "  inflating: content/checkpoint/run1/model-1000.data-00000-of-00001  \n"
          ],
          "name": "stdout"
        }
      ]
    },
    {
      "cell_type": "markdown",
      "metadata": {
        "id": "YLl4zKuYvS17"
      },
      "source": [
        "How to Restore Weights??"
      ]
    },
    {
      "cell_type": "code",
      "metadata": {
        "id": "lKa96IcQwd7F"
      },
      "source": [
        "import tensorflow as tf\n",
        "\n",
        "tf.reset_default_graph()"
      ],
      "execution_count": null,
      "outputs": []
    },
    {
      "cell_type": "code",
      "metadata": {
        "id": "_nvWSsviWMnC"
      },
      "source": [
        "\n",
        "sess2 = gpt2.start_tf_sess()\n",
        "\n"
      ],
      "execution_count": null,
      "outputs": []
    },
    {
      "cell_type": "code",
      "metadata": {
        "id": "6v3RWNlFyG-S",
        "colab": {
          "base_uri": "https://localhost:8080/",
          "height": 50
        },
        "outputId": "8ad0bd4f-a0df-46e5-c05d-f4569d7cd2e4"
      },
      "source": [
        "gpt2.load_gpt2(sess2,run_name =\"run1\")"
      ],
      "execution_count": null,
      "outputs": [
        {
          "output_type": "stream",
          "text": [
            "Loading checkpoint checkpoint/run1/model-1000\n",
            "INFO:tensorflow:Restoring parameters from checkpoint/run1/model-1000\n"
          ],
          "name": "stdout"
        }
      ]
    },
    {
      "cell_type": "code",
      "metadata": {
        "id": "uFcBiipVvcxF",
        "colab": {
          "base_uri": "https://localhost:8080/",
          "height": 87
        },
        "outputId": "5148eb29-f2c5-4cc7-ee0f-5a8951a7f6d3"
      },
      "source": [
        "\n",
        "t=gpt2.generate(sess2,\n",
        "              temperature=0.7,\n",
        "              top_k=40,\n",
        "              nsamples=1,\n",
        "              batch_size=1,\n",
        "              length=200,\n",
        "              prefix=\"<|startoftext|>~^~@Atithi Flip FlopsIdeal For Girls Women , Sole Material Rubber EVA , Number of Contents in Sales Package Pack of 1 , Weight 75 g per single Slipper Weight of the product may vary depending on size , Type Flip Flops , Heel Height 1 8 inch , Strap Material Soft Rubber Strap , Color Red 1 Pair Flip Flops , Other Details Make In India Product , Care Instructions Wash in running water Avoid Use Of Any Hard Detergents Or Solvents For Better Longevity Of The Print Or Design  ======== \",\n",
        "              truncate=\"<|endoftext|>\",\n",
        "              include_prefix=False,\n",
        "              sample_delim='\\n',\n",
        "              return_as_list=True)[0]"
      ],
      "execution_count": null,
      "outputs": [
        {
          "output_type": "stream",
          "text": [
            "WARNING:tensorflow:From /usr/local/lib/python3.6/dist-packages/gpt_2_simple/src/sample.py:17: where (from tensorflow.python.ops.array_ops) is deprecated and will be removed in a future version.\n",
            "Instructions for updating:\n",
            "Use tf.where in 2.0, which has the same broadcast rule as np.where\n"
          ],
          "name": "stdout"
        }
      ]
    },
    {
      "cell_type": "code",
      "metadata": {
        "id": "yCln62AgwhjR",
        "colab": {
          "base_uri": "https://localhost:8080/",
          "height": 54
        },
        "outputId": "780927b8-af55-4d39-dc19-7a474ba64249"
      },
      "source": [
        "t"
      ],
      "execution_count": null,
      "outputs": [
        {
          "output_type": "execute_result",
          "data": {
            "text/plain": [
              "' Key Features of Atithi Flip Flops Ideal For: Girls, Women Type: Flip Flops Heel Height: 1.8,Specifications of Atithi Flip Flops General Ideal For Girls, Women Slipper Details Sole Material Rubber, EVA Number of Contents in Sales Package Pack of 1 Weight 75 g (per single Slipper) - Weight of the product may vary depending on size. Type Flip Flops Heel Height 1.8 inch Strap Material Soft Rubber Strap Color Red In the Box 1 Pair Flip Flops Additional Details Other Details Make In India Product Care Instructions Wash in running water, Avoid Use Of Any Hard Detergents, Solvents For Better Longevity Of The Print Or Design.'"
            ]
          },
          "metadata": {
            "tags": []
          },
          "execution_count": 23
        }
      ]
    },
    {
      "cell_type": "markdown",
      "metadata": {
        "id": "2uDIe2ZVtpOS"
      },
      "source": [
        "# Outputs(~850 Epochs)\n"
      ]
    },
    {
      "cell_type": "markdown",
      "metadata": {
        "id": "aO2Fbms_bCuP"
      },
      "source": [
        "Atithi Flip Flops"
      ]
    },
    {
      "cell_type": "code",
      "metadata": {
        "id": "5hHDpG39DTBd",
        "colab": {
          "base_uri": "https://localhost:8080/",
          "height": 104
        },
        "outputId": "b81ca7d7-92eb-49fb-bb6e-11436cf03b5b"
      },
      "source": [
        "gpt2.generate(sess,\n",
        "              temperature=0.7,\n",
        "              top_k=1,\n",
        "              nsamples=2,\n",
        "              batch_size=2,\n",
        "              length=200,\n",
        "              prefix=\"<|startoftext|>~^~@Atithi Flip FlopsIdeal For Girls Women , Sole Material Rubber EVA , Number of Contents in Sales Package Pack of 1 , Weight 75 g per single Slipper Weight of the product may vary depending on size , Type Flip Flops , Heel Height 1 8 inch , Strap Material Soft Rubber Strap , Color Red 1 Pair Flip Flops , Other Details Make In India Product , Care Instructions Wash in running water Avoid Use Of Any Hard Detergents Or Solvents For Better Longevity Of The Print Or Design  ======== \",\n",
        "              truncate=\"<|endoftext|>\",\n",
        "              include_prefix=False,\n",
        "              sample_delim='\\n'\n",
        "              )"
      ],
      "execution_count": null,
      "outputs": [
        {
          "output_type": "stream",
          "text": [
            " Key Features of Atithi Flip Flops Material: EVA Heel Height: 1.8 inch Color: Red, Red, Red, Red,Specifications of Atithi Flip Flops General Ideal For Girls, Women Slipper & Flip Flop Details Sole Material Rubber, EVA Number of Contents in Sales Package Pack of 1 Weight 75 g (per single Slipper) - Weight of the product may vary depending on size. Type Flip Flops Heel Height 1.8 inch Strap Material Soft Rubber Strap Color Red In the Box 1 Pair Flip Flops Additional Details Other Details Make In India Product Care Instructions Wash in running water, Avoid Use Of Any Hard Detergents Or Solvents For Better Longevity Of The Print Or Design\n",
            "\n",
            " Key Features of Atithi Flip Flops Material: EVA Heel Height: 1.8 inch Color: Red, Red, Red, Red,Specifications of Atithi Flip Flops General Ideal For Girls, Women Slipper & Flip Flop Details Sole Material Rubber, EVA Number of Contents in Sales Package Pack of 1 Weight 75 g (per single Slipper) - Weight of the product may vary depending on size. Type Flip Flops Heel Height 1.8 inch Strap Material Soft Rubber Strap Color Red In the Box 1 Pair Flip Flops Additional Details Other Details Make In India Product Care Instructions Wash in running water, Avoid Use Of Any Hard Detergents Or Solvents For Better Longevity Of The Print Or Design\n",
            "\n"
          ],
          "name": "stdout"
        }
      ]
    },
    {
      "cell_type": "markdown",
      "metadata": {
        "id": "c7g-URjDbHL3"
      },
      "source": [
        "Deodorant"
      ]
    },
    {
      "cell_type": "code",
      "metadata": {
        "id": "sf16wu88DWxk",
        "colab": {
          "base_uri": "https://localhost:8080/",
          "height": 54
        },
        "outputId": "72843efa-97c6-45e8-db61-47a9e0b38218"
      },
      "source": [
        "gpt2.generate(sess,\n",
        "              temperature=0.6,\n",
        "              top_k=40,\n",
        "              nsamples=1,\n",
        "              batch_size=1,\n",
        "              length=200,\n",
        "              prefix=\"<|startoftext|>~^30-Day Free-Shipping Women~@Addiction Rio,Vegas Gift Set  Combo SetNumber of Contents in Set 2 , Gift Set Content 2 Deodrant , Combo Set Content 1 Rio Deodrant 1 Vegas Deodrant , Ideal For Men Women  ======== \",\n",
        "              truncate=\"<|endoftext|>\",\n",
        "              include_prefix=False,\n",
        "              sample_delim='\\n'\n",
        "              )"
      ],
      "execution_count": null,
      "outputs": [
        {
          "output_type": "stream",
          "text": [
            " Flipkart.com: Buy Addiction Rio,Vegas Gift Set Combo Set online only for Rs. 330 from Flipkart.com. Only Genuine Products. 30 Day Replacement Guarantee. Free Shipping. Cash On Delivery!\n"
          ],
          "name": "stdout"
        }
      ]
    },
    {
      "cell_type": "markdown",
      "metadata": {
        "id": "IMLRay1pbMcM"
      },
      "source": [
        "Casual Shirt"
      ]
    },
    {
      "cell_type": "code",
      "metadata": {
        "id": "_nk8O69WHzCJ",
        "colab": {
          "base_uri": "https://localhost:8080/",
          "height": 54
        },
        "outputId": "cec075f3-1239-45ac-ea4e-80dc9f5e051b"
      },
      "source": [
        "gpt2.generate(sess,\n",
        "              temperature=0.6,\n",
        "              top_k=40,\n",
        "              nsamples=1,\n",
        "              batch_size=1,\n",
        "              length=200,\n",
        "              prefix=\"<|startoftext|>~^~@Eves Pret A Porter Women's Checkered Casual ShirtPattern Checkered , Ideal For Women s , Occasion Casual , Sleeve Half Sleeve , Number of Contents in Sales Package Pack of 1 , Brand Fit Regular , Fabric 100 Cotton , Fit Regular Shirt , Style Code 99 RED ======\",\n",
        "              truncate=\"<|endoftext|>\",\n",
        "              include_prefix=False,\n",
        "              sample_delim='\\n'\n",
        "              )"
      ],
      "execution_count": null,
      "outputs": [
        {
          "output_type": "stream",
          "text": [
            "  Eves Pret A Porter Women's Checkered Casual Shirt - Buy Red Eves Pret A Porter Women's Checkered Casual Shirt For Only Rs. 1299 Online in India. Shop Online For Apparels. Huge Collection of Branded Clothes Only at Flipkart.com\n"
          ],
          "name": "stdout"
        }
      ]
    },
    {
      "cell_type": "markdown",
      "metadata": {
        "id": "oTLE0qYmbQqa"
      },
      "source": [
        "Women's Kurti"
      ]
    },
    {
      "cell_type": "code",
      "metadata": {
        "id": "TrqPu10NIwtM",
        "colab": {
          "base_uri": "https://localhost:8080/",
          "height": 54
        },
        "outputId": "30ddb7c2-6eaf-4d59-9429-479ff09ea410"
      },
      "source": [
        "gpt2.generate(sess,\n",
        "              temperature=0.6,\n",
        "              top_k=40,\n",
        "              nsamples=1,\n",
        "              batch_size=1,\n",
        "              length=200,\n",
        "              prefix=\"<|startoftext|>~^~@Menka Embroidered Women's Kurti1 Kurti 30 Days Warranty Policy , Sleeve 3 4 Sleeve , Region Traditional , Number of Contents in Sales Package Pack of 1 , Fabric Cotton , Neck Round Neck , Pattern Embroidered , Ideal For Women s Handwash with Similar Colors  ========\",\n",
        "              truncate=\"<|endoftext|>\",\n",
        "              include_prefix=False,\n",
        "              sample_delim='\\n'\n",
        "              )"
      ],
      "execution_count": null,
      "outputs": [
        {
          "output_type": "stream",
          "text": [
            "  Key Features of Menka Embroidered Women's Kurti White, Black, White, White, Menka Embroidered Women's Kurti Price: Rs. 599 Menka presents to you a brand new range of menka prints. These prints are made using cotton rich stitched prints and printed on high quality cotton. These prints are ideal for daily wear and is made using high grade high quality fabric. The prints are high on quality and will last for years. The print quality is high and the stitched fabric is extremely soft. The prints are also very comfortable. We recommend buying this Print of menka prints only for Rs. 599 from Flipkart.com. Only Genuine Products. Free Shipping. Cash On Delivery!\n"
          ],
          "name": "stdout"
        }
      ]
    },
    {
      "cell_type": "markdown",
      "metadata": {
        "id": "-7GWKgcMbT2R"
      },
      "source": [
        "Back Cover for Apple iPad"
      ]
    },
    {
      "cell_type": "code",
      "metadata": {
        "id": "2KzqxmygJpa3",
        "colab": {
          "base_uri": "https://localhost:8080/",
          "height": 54
        },
        "outputId": "29b7e78a-4f6a-4c9a-8d33-f579fbd11304"
      },
      "source": [
        "gpt2.generate(sess,\n",
        "              temperature=0.6,\n",
        "              top_k=40,\n",
        "              nsamples=1,\n",
        "              batch_size=1,\n",
        "              length=200,\n",
        "              prefix=\"<|startoftext|>~^manufacturing Learn Learn-lessons~@DailyObjects Back Cover for Apple iPad 2, 3, 4Brand DailyObjects , Shade Grey , Material Plastic , Designed for Apple iPad 2 3 4 , Model ID Life Case For iPad 2 3 4 , Color Grey , Covered in Warranty Warranty of the product is limited to manufacturing defects only , Warranty Summary 1 Year Warranty , Waterproof Yes  ========\",\n",
        "              truncate=\"<|endoftext|>\",\n",
        "              include_prefix=False,\n",
        "              sample_delim='\\n'\n",
        "              )"
      ],
      "execution_count": null,
      "outputs": [
        {
          "output_type": "stream",
          "text": [
            "  DailyObjects Back Cover for Apple iPad 2, 3, 4 (Grey) Price: Rs. 599 Protected from tampering with or breakage, this case keeps your Apple iPad 2 3 4 safe. The Apple iPad 2 3 4 is equipped with a high-quality body and is resistant to damage. The Apple iPad 2 3 4 is equipped with a high-quality magnetic latch system that prevents the introduction of new products. The Apple iPad 2 3 4 is equipped with a high-quality embedded circuit board that can be used to store and read digital art, including photographs, audio and video, images and documents. The Apple iPad 2 3 4 is equipped with a high-quality embedded circuit board that can be used to store and read digital art, including photographs, audio and video, images and documents.\n"
          ],
          "name": "stdout"
        }
      ]
    },
    {
      "cell_type": "code",
      "metadata": {
        "id": "WqGPRxQfMGA_"
      },
      "source": [
        ""
      ],
      "execution_count": null,
      "outputs": []
    },
    {
      "cell_type": "markdown",
      "metadata": {
        "id": "ROYa8bVqaumh"
      },
      "source": [
        "# Outputs(~1000 Epochs) -> Temperature 0.6 ~ 0.7\n",
        " "
      ]
    },
    {
      "cell_type": "markdown",
      "metadata": {
        "id": "1ism90HZbcAi"
      },
      "source": [
        "Atithi Flip Flops"
      ]
    },
    {
      "cell_type": "code",
      "metadata": {
        "id": "pfX1G8Zkawx6",
        "colab": {
          "base_uri": "https://localhost:8080/",
          "height": 54
        },
        "outputId": "4be25e8e-9c49-4ef1-a552-dc1e0a7a4466"
      },
      "source": [
        "gpt2.generate(sess,\n",
        "              temperature=0.7,\n",
        "              top_k=40,\n",
        "              nsamples=1,\n",
        "              batch_size=1,\n",
        "              length=200,\n",
        "              prefix=\"<|startoftext|>~^~@Atithi Flip FlopsIdeal For Girls Women , Sole Material Rubber EVA , Number of Contents in Sales Package Pack of 1 , Weight 75 g per single Slipper Weight of the product may vary depending on size , Type Flip Flops , Heel Height 1 8 inch , Strap Material Soft Rubber Strap , Color Red 1 Pair Flip Flops , Other Details Make In India Product , Care Instructions Wash in running water Avoid Use Of Any Hard Detergents Or Solvents For Better Longevity Of The Print Or Design  ======== \",\n",
        "              truncate=\"<|endoftext|>\",\n",
        "              include_prefix=False,\n",
        "              sample_delim='\\n'\n",
        "              )"
      ],
      "execution_count": null,
      "outputs": [
        {
          "output_type": "stream",
          "text": [
            "<|startoftext|>~^~@Atithi Flip FlopsIdeal For Girls Women , Sole Material Rubber EVA , Number of Contents in Sales Package Pack of 1 , Weight 75 g per single Slipper Weight of the product may vary depending on size , Type Flip Flops , Heel Height 1 8 inch , Strap Material Soft Rubber Strap , Color Red 1 Pair Flip Flops , Other Details Make In India Product , Care Instructions Wash in running water Avoid Use Of Any Hard Detergents Or Solvents For Better Longevity Of The Print Or Design  ========  Key Features of Atithi Flip Flops Ideal For: Women Heel Height: 1.8,Atithi Flip Flops Price: Rs. 599 AtITHi is the leading brand in the footwear industry. The brand is known for its high quality footwear, which have made a name for themselves in sports, sports memorabilia and fashion. AtITHi brings to you the exclusive range of footwear from the best brands in the world. AtITHi has a track record of success on the footy field with its design and fashion products. This is not only because its footwear are of such quality, but also due to its excellent manufacturing process. The footwear is manufactured using a strict quality control process that ensures complete purity and is always free from defects. The products are then shipped without issue. The footwear is also made of EVA which is the name of the brand. You can trust its commitment to quality and durability. Atithi is the leading brand in the footwear industry. The\n"
          ],
          "name": "stdout"
        }
      ]
    },
    {
      "cell_type": "markdown",
      "metadata": {
        "id": "TlHfQyvMbc5Q"
      },
      "source": [
        "Deodorant\n",
        "\n"
      ]
    },
    {
      "cell_type": "code",
      "metadata": {
        "id": "HfoJ0nf2axH8",
        "colab": {
          "base_uri": "https://localhost:8080/",
          "height": 54
        },
        "outputId": "954f3858-c0fb-4cca-9986-2a6453ee928b"
      },
      "source": [
        "gpt2.generate(sess,\n",
        "              temperature=0.6,\n",
        "              top_k=40,\n",
        "              nsamples=1,\n",
        "              batch_size=1,\n",
        "              length=200,\n",
        "              prefix=\"<|startoftext|>~^30-Day Free-Shipping Women~@Addiction Rio,Vegas Gift Set  Combo SetNumber of Contents in Set 2 , Gift Set Content 2 Deodrant , Combo Set Content 1 Rio Deodrant 1 Vegas Deodrant , Ideal For Men Women  ======== \",\n",
        "              truncate=\"<|endoftext|>\",\n",
        "              include_prefix=False,\n",
        "              sample_delim='\\n'\n",
        "              )"
      ],
      "execution_count": null,
      "outputs": [
        {
          "output_type": "stream",
          "text": [
            " Flipkart.com: Buy Addiction Rio,Vegas Gift Set Combo Set online only for Rs. 310 from Flipkart.com. Only Genuine Products. 30 Day Replacement Guarantee. Free Shipping. Cash On Delivery!\n"
          ],
          "name": "stdout"
        }
      ]
    },
    {
      "cell_type": "markdown",
      "metadata": {
        "id": "BG3Yq9eVbewr"
      },
      "source": [
        "Casual Shirt"
      ]
    },
    {
      "cell_type": "code",
      "metadata": {
        "id": "75sDa6rNa1KP",
        "colab": {
          "base_uri": "https://localhost:8080/",
          "height": 54
        },
        "outputId": "66015597-1cf3-41cf-befe-e9c07dbd6e35"
      },
      "source": [
        "gpt2.generate(sess,\n",
        "              temperature=0.6,\n",
        "              top_k=40,\n",
        "              nsamples=1,\n",
        "              batch_size=1,\n",
        "              length=200,\n",
        "              prefix=\"<|startoftext|>~^~@Eves Pret A Porter Women's Checkered Casual ShirtPattern Checkered , Ideal For Women s , Occasion Casual , Sleeve Half Sleeve , Number of Contents in Sales Package Pack of 1 , Brand Fit Regular , Fabric 100 Cotton , Fit Regular Shirt , Style Code 99 RED ======\",\n",
        "              truncate=\"<|endoftext|>\",\n",
        "              include_prefix=False,\n",
        "              sample_delim='\\n'\n",
        "              )"
      ],
      "execution_count": null,
      "outputs": [
        {
          "output_type": "stream",
          "text": [
            "  Eves Pret A Porter Women's Checkered Casual Shirt - Buy Red Eves Pret A Porter Women's Checkered Casual Shirt For Only Rs. 1299 Online in India. Shop Online For Apparels. Huge Collection of Branded Clothes Only at Flipkart.com\n"
          ],
          "name": "stdout"
        }
      ]
    },
    {
      "cell_type": "markdown",
      "metadata": {
        "id": "91nuZ1x4bhfH"
      },
      "source": [
        "Womens Kurti"
      ]
    },
    {
      "cell_type": "code",
      "metadata": {
        "id": "Pu6P4bqca3DH",
        "colab": {
          "base_uri": "https://localhost:8080/",
          "height": 54
        },
        "outputId": "2182a0b4-5f73-49f2-f88d-087e5335db9a"
      },
      "source": [
        "gpt2.generate(sess,\n",
        "              temperature=0.6,\n",
        "              top_k=40,\n",
        "              nsamples=1,\n",
        "              batch_size=1,\n",
        "              length=200,\n",
        "              prefix=\"<|startoftext|>~^~@Menka Embroidered Women's Kurti1 Kurti 30 Days Warranty Policy , Sleeve 3 4 Sleeve , Region Traditional , Number of Contents in Sales Package Pack of 1 , Fabric Cotton , Neck Round Neck , Pattern Embroidered , Ideal For Women s Handwash with Similar Colors  ========\",\n",
        "              truncate=\"<|endoftext|>\",\n",
        "              include_prefix=False,\n",
        "              sample_delim='\\n'\n",
        "              )"
      ],
      "execution_count": null,
      "outputs": [
        {
          "output_type": "stream",
          "text": [
            "  Key Features of Menka Embroidered Women's Kurti 100% cotton,Menka Embroidered Women's Kurti Price: Rs. 499 Menka Embroidered Kurti is a Trendy Trendy Designer Trendy Designer Trendy Designer Women's Printed Women's Kurti Is a Trendy Trendy Designer Trendy Designer,Specifications of Menka Embroidered Women's Kurti Kurti Details Sleeve 3/4 Sleeve Region Traditional Number of Contents in Sales Package Pack of 1 Fabric Cotton Neck Round Neck General Details Pattern Embroidered Ideal For Women's Fabric Care Handwash with Similar Colors\n"
          ],
          "name": "stdout"
        }
      ]
    },
    {
      "cell_type": "markdown",
      "metadata": {
        "id": "C40N8zuYbmYI"
      },
      "source": [
        "Ipad Cover"
      ]
    },
    {
      "cell_type": "code",
      "metadata": {
        "id": "MvjJp8Iqa_Wj",
        "colab": {
          "base_uri": "https://localhost:8080/",
          "height": 54
        },
        "outputId": "2b7309d2-1bb9-4c67-8957-e722c2c655b6"
      },
      "source": [
        "gpt2.generate(sess,\n",
        "              temperature=0.6,\n",
        "              top_k=40,\n",
        "              nsamples=1,\n",
        "              batch_size=1,\n",
        "              length=200,\n",
        "              prefix=\"<|startoftext|>~^manufacturing Learn Learn-lessons~@DailyObjects Back Cover for Apple iPad 2, 3, 4Brand DailyObjects , Shade Grey , Material Plastic , Designed for Apple iPad 2 3 4 , Model ID Life Case For iPad 2 3 4 , Color Grey , Covered in Warranty Warranty of the product is limited to manufacturing defects only , Warranty Summary 1 Year Warranty , Waterproof Yes  ========\",\n",
        "              truncate=\"<|endoftext|>\",\n",
        "              include_prefix=False,\n",
        "              sample_delim='\\n'\n",
        "              )"
      ],
      "execution_count": null,
      "outputs": [
        {
          "output_type": "stream",
          "text": [
            "<|startoftext|>~^manufacturing Learn Learn-lessons~@DailyObjects Back Cover for Apple iPad 2, 3, 4Brand DailyObjects , Shade Grey , Material Plastic , Designed for Apple iPad 2 3 4 , Model ID Life Case For iPad 2 3 4 , Color Grey , Covered in Warranty Warranty of the product is limited to manufacturing defects only , Warranty Summary 1 Year Warranty , Waterproof Yes  ========  DailyObjects Back Cover for Apple iPad 2, 3, 4 (Grey) Price: Rs. 1,685 About DailyObjects: This slim back cover is a product of DailyObjects.com, India’s largest seller of designer and customisable smartphone cases. DailyObjects has a curated collection of exclusive licensed art that we have painstakingly sourced from artists that we love, from around the world. We currently have over 3000 amazing designs from over 50 artists from 25 countries across the world, available for more than 50 different models of smartphones. About DailyObjects: This slim back cover is a product of DailyObjects.com, India’s largest seller of designer and customisable smartphone cases. DailyObjects has a curated collection of exclusive licensed art that we have painstakingly sourced from artists that we love, from around the world. We currently have over 3000 amazing designs from over 50 artists from 25 countries across the world, available for more than 50 different models of\n"
          ],
          "name": "stdout"
        }
      ]
    },
    {
      "cell_type": "markdown",
      "metadata": {
        "id": "Kor8OvJcbpO3"
      },
      "source": [
        "# Outputs(~1000 Epochs) -> Temperature 0.2"
      ]
    },
    {
      "cell_type": "markdown",
      "metadata": {
        "id": "nY_96EeLb7Qq"
      },
      "source": [
        "Atithi Flip Flops"
      ]
    },
    {
      "cell_type": "code",
      "metadata": {
        "id": "HrNn6C_GbA7u",
        "colab": {
          "base_uri": "https://localhost:8080/",
          "height": 54
        },
        "outputId": "28ec4646-90dd-4050-93ae-4e219e9fb491"
      },
      "source": [
        "gpt2.generate(sess,\n",
        "              temperature=0.2,\n",
        "              top_k=40,\n",
        "              nsamples=1,\n",
        "              batch_size=1,\n",
        "              length=200,\n",
        "              prefix=\"<|startoftext|>~^~@Atithi Flip FlopsIdeal For Girls Women , Sole Material Rubber EVA , Number of Contents in Sales Package Pack of 1 , Weight 75 g per single Slipper Weight of the product may vary depending on size , Type Flip Flops , Heel Height 1 8 inch , Strap Material Soft Rubber Strap , Color Red 1 Pair Flip Flops , Other Details Make In India Product , Care Instructions Wash in running water Avoid Use Of Any Hard Detergents Or Solvents For Better Longevity Of The Print Or Design  ======== \",\n",
        "              truncate=\"<|endoftext|>\",\n",
        "              include_prefix=False,\n",
        "              sample_delim='\\n'\n",
        "              )"
      ],
      "execution_count": null,
      "outputs": [
        {
          "output_type": "stream",
          "text": [
            " Key Features of Atithi Flip Flops Material: Rubber Heel Height: 1.8,Atithi Flip Flops Price: Rs. 599 This is a Flip Flop for Girls Women. Made in India. Made in India. This is a Flip Flop for Girls Women. Made in India.\n"
          ],
          "name": "stdout"
        }
      ]
    },
    {
      "cell_type": "markdown",
      "metadata": {
        "id": "nujqXiRVcCoP"
      },
      "source": [
        "Deodorant\n",
        "\n"
      ]
    },
    {
      "cell_type": "code",
      "metadata": {
        "id": "95KXGvCFb-g-",
        "colab": {
          "base_uri": "https://localhost:8080/",
          "height": 54
        },
        "outputId": "59c63369-9583-4973-aa0d-80606dd1b230"
      },
      "source": [
        "gpt2.generate(sess,\n",
        "              temperature=0.2,\n",
        "              top_k=40,\n",
        "              nsamples=1,\n",
        "              batch_size=1,\n",
        "              length=200,\n",
        "              prefix=\"<|startoftext|>~^30-Day Free-Shipping Women~@Addiction Rio,Vegas Gift Set  Combo SetNumber of Contents in Set 2 , Gift Set Content 2 Deodrant , Combo Set Content 1 Rio Deodrant 1 Vegas Deodrant , Ideal For Men Women  ======== \",\n",
        "              truncate=\"<|endoftext|>\",\n",
        "              include_prefix=False,\n",
        "              sample_delim='\\n'\n",
        "              )"
      ],
      "execution_count": null,
      "outputs": [
        {
          "output_type": "stream",
          "text": [
            " Flipkart.com: Buy Addiction Rio,Vegas Gift Set Combo Set online only for Rs. 350 from Flipkart.com. Only Genuine Products. 30 Day Replacement Guarantee. Free Shipping. Cash On Delivery!\n"
          ],
          "name": "stdout"
        }
      ]
    },
    {
      "cell_type": "markdown",
      "metadata": {
        "id": "8KmxUEmkcI9b"
      },
      "source": [
        "Casual Shirt"
      ]
    },
    {
      "cell_type": "code",
      "metadata": {
        "id": "kIwPnHyVcFMa",
        "colab": {
          "base_uri": "https://localhost:8080/",
          "height": 54
        },
        "outputId": "a703b523-ca35-48bc-bc1e-1d8e5710ea94"
      },
      "source": [
        "gpt2.generate(sess,\n",
        "              temperature=0.2,\n",
        "              top_k=40,\n",
        "              nsamples=1,\n",
        "              batch_size=1,\n",
        "              length=200,\n",
        "              prefix=\"<|startoftext|>~^~@Eves Pret A Porter Women's Checkered Casual ShirtPattern Checkered , Ideal For Women s , Occasion Casual , Sleeve Half Sleeve , Number of Contents in Sales Package Pack of 1 , Brand Fit Regular , Fabric 100 Cotton , Fit Regular Shirt , Style Code 99 RED ======\",\n",
        "              truncate=\"<|endoftext|>\",\n",
        "              include_prefix=False,\n",
        "              sample_delim='\\n'\n",
        "              )"
      ],
      "execution_count": null,
      "outputs": [
        {
          "output_type": "stream",
          "text": [
            "  Eves Pret A Porter Women's Checkered Casual Shirt - Buy Red Eves Pret A Porter Women's Checkered Casual Shirt For Only Rs. 899 Online in India. Shop Online For Apparels. Huge Collection of Branded Clothes Only at Flipkart.com\n"
          ],
          "name": "stdout"
        }
      ]
    },
    {
      "cell_type": "markdown",
      "metadata": {
        "id": "jFp1GlTicNNU"
      },
      "source": [
        "Womens Kurti"
      ]
    },
    {
      "cell_type": "code",
      "metadata": {
        "id": "SNVFO29FcL7F",
        "colab": {
          "base_uri": "https://localhost:8080/",
          "height": 54
        },
        "outputId": "f3f452ae-bd86-481a-a688-8420ed0cfa29"
      },
      "source": [
        "gpt2.generate(sess,\n",
        "              temperature=0.2,\n",
        "              top_k=40,\n",
        "              nsamples=1,\n",
        "              batch_size=1,\n",
        "              length=200,\n",
        "              prefix=\"<|startoftext|>~^~@Menka Embroidered Women's Kurti1 Kurti 30 Days Warranty Policy , Sleeve 3 4 Sleeve , Region Traditional , Number of Contents in Sales Package Pack of 1 , Fabric Cotton , Neck Round Neck , Pattern Embroidered , Ideal For Women s Handwash with Similar Colors  ========\",\n",
        "              truncate=\"<|endoftext|>\",\n",
        "              include_prefix=False,\n",
        "              sample_delim='\\n'\n",
        "              )"
      ],
      "execution_count": null,
      "outputs": [
        {
          "output_type": "stream",
          "text": [
            "  Key Features of Menka Embroidered Women's Kurti 30 Days Warranty,Menka Embroidered Women's Kurti Price: Rs. 1,099 Menka Embroidered Women's Kurti,Specifications of Menka Embroidered Women's Kurti Kurti Details Sleeve 3/4 Sleeve General Details Region Traditional Number of Contents in Sales Package Pack of 1 Fabric Cotton Neck Round Neck Pattern Embroidered Ideal For Women's Fabric Care Handwash with Similar Colors\n"
          ],
          "name": "stdout"
        }
      ]
    },
    {
      "cell_type": "markdown",
      "metadata": {
        "id": "2Q41BGyacMrk"
      },
      "source": [
        "Ipad Cover"
      ]
    },
    {
      "cell_type": "code",
      "metadata": {
        "id": "8lCHrICIcUEb",
        "colab": {
          "base_uri": "https://localhost:8080/",
          "height": 54
        },
        "outputId": "ab14956d-c20e-44c5-c78e-86903f903fe6"
      },
      "source": [
        "gpt2.generate(sess,\n",
        "              temperature=0.2,\n",
        "              top_k=40,\n",
        "              nsamples=1,\n",
        "              batch_size=1,\n",
        "              length=200,\n",
        "              prefix=\"<|startoftext|>~^manufacturing Learn Learn-lessons~@DailyObjects Back Cover for Apple iPad 2, 3, 4Brand DailyObjects , Shade Grey , Material Plastic , Designed for Apple iPad 2 3 4 , Model ID Life Case For iPad 2 3 4 , Color Grey , Covered in Warranty Warranty of the product is limited to manufacturing defects only , Warranty Summary 1 Year Warranty , Waterproof Yes  ========\",\n",
        "              truncate=\"<|endoftext|>\",\n",
        "              include_prefix=False,\n",
        "              sample_delim='\\n'\n",
        "              )"
      ],
      "execution_count": null,
      "outputs": [
        {
          "output_type": "stream",
          "text": [
            "<|startoftext|>~^manufacturing Learn Learn-lessons~@DailyObjects Back Cover for Apple iPad 2, 3, 4Brand DailyObjects , Shade Grey , Material Plastic , Designed for Apple iPad 2 3 4 , Model ID Life Case For iPad 2 3 4 , Color Grey , Covered in Warranty Warranty of the product is limited to manufacturing defects only , Warranty Summary 1 Year Warranty , Waterproof Yes  ========  DailyObjects Back Cover for Apple iPad 2, 3, 4 (Grey) Price: Rs. 1,685 About DailyObjects: This slim back cover is a product of DailyObjects.com, India’s largest seller of designer and customisable smartphone cases. DailyObjects has a curated collection of exclusive licensed art that we have painstakingly sourced from artists that we love, from around the world. We currently have over 3000 amazing designs from over 50 artists from 25 countries across the world, available for more than 50 different models of smartphones. About DailyObjects: This slim back cover is a product of DailyObjects.com, India’s largest seller of designer and customisable smartphone cases. DailyObjects has a curated collection of exclusive licensed art that we have painstakingly sourced from artists that we love, from around the world. We currently have over 3000 amazing designs from over 50 artists from 25 countries across the world, available for more than 50 different models of\n"
          ],
          "name": "stdout"
        }
      ]
    },
    {
      "cell_type": "markdown",
      "metadata": {
        "id": "STYYUzFKcXTo"
      },
      "source": [
        "# Outputs(~1000 Epochs) -> Temperature 1.5"
      ]
    },
    {
      "cell_type": "markdown",
      "metadata": {
        "id": "8C2Ofp9hcdZS"
      },
      "source": [
        "Atithi Flip Flops"
      ]
    },
    {
      "cell_type": "code",
      "metadata": {
        "id": "5BIpJD8ScWX0",
        "colab": {
          "base_uri": "https://localhost:8080/",
          "height": 54
        },
        "outputId": "0186a3b5-01e9-45d4-f8e9-c75333e5b3f2"
      },
      "source": [
        "gpt2.generate(sess,\n",
        "              temperature=1.5,\n",
        "              top_k=40,\n",
        "              nsamples=1,\n",
        "              batch_size=1,\n",
        "              length=200,\n",
        "              prefix=\"<|startoftext|>~^~@Atithi Flip FlopsIdeal For Girls Women , Sole Material Rubber EVA , Number of Contents in Sales Package Pack of 1 , Weight 75 g per single Slipper Weight of the product may vary depending on size , Type Flip Flops , Heel Height 1 8 inch , Strap Material Soft Rubber Strap , Color Red 1 Pair Flip Flops , Other Details Make In India Product , Care Instructions Wash in running water Avoid Use Of Any Hard Detergents Or Solvents For Better Longevity Of The Print Or Design  ======== \",\n",
        "              truncate=\"<|endoftext|>\",\n",
        "              include_prefix=False,\n",
        "              sample_delim='\\n'\n",
        "              )"
      ],
      "execution_count": null,
      "outputs": [
        {
          "output_type": "stream",
          "text": [
            "<|startoftext|>~^~@Atithi Flip FlopsIdeal For Girls Women , Sole Material Rubber EVA , Number of Contents in Sales Package Pack of 1 , Weight 75 g per single Slipper Weight of the product may vary depending on size , Type Flip Flops , Heel Height 1 8 inch , Strap Material Soft Rubber Strap , Color Red 1 Pair Flip Flops , Other Details Make In India Product , Care Instructions Wash in running water Avoid Use Of Any Hard Detergents Or Solvents For Better Longevity Of The Print Or Design  ========  Info@Hako Casual Full Sleeve Women's Full Sleeve Solid T-ShirtSleeve Full Sleeve , Number of Contents in Sales Package 7 , Fabric Cotton Blend , Type Full Sleeve , Fabric COTTON , Pattern Self Design , Ideal For Women s Hand Wash Cool Machine Wash at 30 C Wash with Similar Colors Use Detergen Do Not Bleach  ========  Specifications of Hatshop Casual Full Sleeve Women's Full Sleeve Solid T-Shirt T-shirt Details Sleeve Full Sleeve General Details Number of Contents in Sales Package – 7 Fabric Cotton Blend Type Full Sleeve Fabric COTTON Pattern Self Design Ideal For Women's Fabric Care Hand Wash, Cool, Machine Wash at 30 C. Fabric Care - Use Detergen. Do Not Bleach Additional Details::Specifications of Hatshop Casual Full Sleeve Women's Full Sleeve Solid T-Shirt T-shirt Dimensions Sleeve Full Sleeve In the Box Number of Contents in Sales Package – 7 Fabric Cotton Blend Type\n"
          ],
          "name": "stdout"
        }
      ]
    },
    {
      "cell_type": "markdown",
      "metadata": {
        "id": "ACi4BlFjcicJ"
      },
      "source": [
        "Deodorant"
      ]
    },
    {
      "cell_type": "code",
      "metadata": {
        "id": "0iXX7rObcgO7",
        "colab": {
          "base_uri": "https://localhost:8080/",
          "height": 54
        },
        "outputId": "f16a5f71-b560-481a-ba83-3c0eaa57748d"
      },
      "source": [
        "gpt2.generate(sess,\n",
        "              temperature=1.5,\n",
        "              top_k=40,\n",
        "              nsamples=1,\n",
        "              batch_size=1,\n",
        "              length=200,\n",
        "              prefix=\"<|startoftext|>~^30-Day Free-Shipping Women~@Addiction Rio,Vegas Gift Set  Combo SetNumber of Contents in Set 2 , Gift Set Content 2 Deodrant , Combo Set Content 1 Rio Deodrant 1 Vegas Deodrant , Ideal For Men Women  ======== \",\n",
        "              truncate=\"<|endoftext|>\",\n",
        "              include_prefix=False,\n",
        "              sample_delim='\\n'\n",
        "              )"
      ],
      "execution_count": null,
      "outputs": [
        {
          "output_type": "stream",
          "text": [
            " Key Features of Addictions Rio,Vaetalia Gifts Combo Set Women's Number : 1008,Addiction Rio,Vaetalia Gifts Combo Set Price: Rs. 1,520 Make life a complete success with this stunning collection by the incredible Addiction Deodrant by Rio . Made of the finest materials of the Antilles are durable and worth a dedicated effort by this group to perfection . Add the love of yours in one piece, these really are the greatest happiness.\n"
          ],
          "name": "stdout"
        }
      ]
    },
    {
      "cell_type": "markdown",
      "metadata": {
        "id": "bi-CpLbNcofg"
      },
      "source": [
        "Womens Kurti"
      ]
    },
    {
      "cell_type": "code",
      "metadata": {
        "id": "bMUNre2Kcmqw",
        "colab": {
          "base_uri": "https://localhost:8080/",
          "height": 54
        },
        "outputId": "2e853309-7cba-4acf-95b4-db14d32f5e31"
      },
      "source": [
        "gpt2.generate(sess,\n",
        "              temperature=1.5,\n",
        "              top_k=40,\n",
        "              nsamples=1,\n",
        "              batch_size=1,\n",
        "              length=200,\n",
        "              prefix=\"<|startoftext|>~^~@Menka Embroidered Women's Kurti1 Kurti 30 Days Warranty Policy , Sleeve 3 4 Sleeve , Region Traditional , Number of Contents in Sales Package Pack of 1 , Fabric Cotton , Neck Round Neck , Pattern Embroidered , Ideal For Women s Handwash with Similar Colors  ========\",\n",
        "              truncate=\"<|endoftext|>\",\n",
        "              include_prefix=False,\n",
        "              sample_delim='\\n'\n",
        "              )"
      ],
      "execution_count": null,
      "outputs": [
        {
          "output_type": "stream",
          "text": [
            "  Key Features of Menka Embroidered Women's Kurtic Fabric: COFFEE+DARK fabric Care Instructions: Hand Wash with Similar Colors & Stitch or do not Bleach. Durable Comfortable Fabric - Weight: 40 g-- Size Chart:13 & 14.1 cm,Menka Embroidered Women's Kurti Price: Rs. 399 Hand Wash with Similar Colors & Dressy,Specifications of Menka Embroidered Women's Kurti Kurti General Details 1 Kurti Fabric Care Sew Style Code MKTSD058 In the Box 300 Machine Washable Non Chlorine Bleach\n"
          ],
          "name": "stdout"
        }
      ]
    },
    {
      "cell_type": "code",
      "metadata": {
        "id": "aU2Vl2zycriH"
      },
      "source": [
        ""
      ],
      "execution_count": null,
      "outputs": []
    },
    {
      "cell_type": "markdown",
      "metadata": {
        "id": "dqLSUNX_RXXl"
      },
      "source": [
        "# Charts and Graphs"
      ]
    },
    {
      "cell_type": "code",
      "metadata": {
        "id": "FYYtBN8yRb4L"
      },
      "source": [
        "from matplotlib import pyplot as plt"
      ],
      "execution_count": null,
      "outputs": []
    },
    {
      "cell_type": "code",
      "metadata": {
        "id": "rEvXixqJRiqO"
      },
      "source": [
        "epoch = [\n",
        "      1,10,20,30,40,50,60,70,80        \n",
        "]\n",
        "L1 = [\n",
        "      2.643,1.052,0.853,0.769,0.727,0.649,0.592,0.562,0.515\n",
        "]\n",
        "L2 =[\n",
        "     0.290,0.674,0.722,0.744,0.760,0.786,0.807,0.828,0.828\n",
        "]\n"
      ],
      "execution_count": null,
      "outputs": []
    },
    {
      "cell_type": "code",
      "metadata": {
        "id": "GLAwbN5sTVc9",
        "colab": {
          "base_uri": "https://localhost:8080/",
          "height": 282
        },
        "outputId": "b93db177-6ade-422a-917c-b295739b469e"
      },
      "source": [
        "plt.plot(epoch, L1, 'r', label='loss') # plotting t, a separately \n",
        "plt.plot(epoch, L2, 'b', label='accuracy') # plotting t, b separately\n",
        "plt.legend(loc=\"upper right\")"
      ],
      "execution_count": null,
      "outputs": [
        {
          "output_type": "execute_result",
          "data": {
            "text/plain": [
              "<matplotlib.legend.Legend at 0x7fa4a8a72be0>"
            ]
          },
          "metadata": {
            "tags": []
          },
          "execution_count": 12
        },
        {
          "output_type": "display_data",
          "data": {
            "image/png": "[encoded data removed]",
            "text/plain": [
              "<Figure size 432x288 with 1 Axes>"
            ]
          },
          "metadata": {
            "tags": []
          }
        }
      ]
    },
    {
      "cell_type": "code",
      "metadata": {
        "id": "xjaB5zTYVZO_"
      },
      "source": [
        "epoch = [\n",
        "      1,100,200,300,400,500,600,700,800,900,1000        \n",
        "]\n",
        "L1 = [\n",
        "    1.88,0.8,0.87,0.6,0.53,0.61,0.49,0.48,0.45,0.35,0.25      \n",
        "]\n",
        "L2 =[\n",
        "    1.88,1.02,0.82,0.73,0.65,0.61,0.55,0.51,0.46,0.41,0.37\n",
        "]\n",
        "\n"
      ],
      "execution_count": null,
      "outputs": []
    },
    {
      "cell_type": "code",
      "metadata": {
        "id": "5UpuUjg0VyBD",
        "colab": {
          "base_uri": "https://localhost:8080/",
          "height": 282
        },
        "outputId": "ebe26830-9811-439f-f418-7550456edd99"
      },
      "source": [
        "plt.plot(epoch, L1, 'r', label='loss') # plotting t, a separately \n",
        "plt.plot(epoch, L2, 'b', label='cumulative average loss') # plotting t, b separately\n",
        "plt.legend(loc=\"upper right\")"
      ],
      "execution_count": null,
      "outputs": [
        {
          "output_type": "execute_result",
          "data": {
            "text/plain": [
              "<matplotlib.legend.Legend at 0x7fa4a89d9da0>"
            ]
          },
          "metadata": {
            "tags": []
          },
          "execution_count": 15
        },
        {
          "output_type": "display_data",
          "data": {
            "image/png": "[encoded data removed]",
            "text/plain": [
              "<Figure size 432x288 with 1 Axes>"
            ]
          },
          "metadata": {
            "tags": []
          }
        }
      ]
    },
    {
      "cell_type": "code",
      "metadata": {
        "id": "rbKkYpcCXKqG"
      },
      "source": [
        ""
      ],
      "execution_count": null,
      "outputs": []
    }
  ]
}