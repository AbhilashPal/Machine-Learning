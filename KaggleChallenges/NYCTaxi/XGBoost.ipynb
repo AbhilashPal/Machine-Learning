{
  "nbformat": 4,
  "nbformat_minor": 0,
  "metadata": {
    "colab": {
      "name": "Untitled2.ipynb",
      "version": "0.3.2",
      "provenance": [],
      "include_colab_link": true
    },
    "kernelspec": {
      "name": "python3",
      "display_name": "Python 3"
    }
  },
  "cells": [
    {
      "cell_type": "markdown",
      "metadata": {
        "id": "view-in-github",
        "colab_type": "text"
      },
      "source": [
        "[View in Colaboratory](https://colab.research.google.com/github/AbhilashPal/Machine-Learning/blob/master/KaggleChallenges/NYCTaxi/XGBoost.ipynb)"
      ]
    },
    {
      "metadata": {
        "id": "1m3FWttMzEJh",
        "colab_type": "code",
        "colab": {}
      },
      "cell_type": "code",
      "source": [
        "!pip install -U -q PyDrive\n",
        "from pydrive.auth import GoogleAuth\n",
        "from pydrive.drive import GoogleDrive\n",
        "from google.colab import auth\n",
        "from oauth2client.client import GoogleCredentials\n",
        "\n",
        "#data dependencies\n",
        "import pandas as pd\n",
        "import numpy as np\n",
        "import matplotlib.pyplot as plt\n",
        "plt.rcParams['figure.figsize'] = [16,10]\n",
        "import seaborn as sns\n",
        "\n",
        "from sklearn.model_selection import train_test_split\n",
        "import xgboost as xgb\n",
        "\n",
        "%matplotlib inline\n",
        "plt.rcParams['axes.unicode_minus'] = False\n"
      ],
      "execution_count": 0,
      "outputs": []
    },
    {
      "metadata": {
        "id": "2167fOLz07LC",
        "colab_type": "code",
        "colab": {}
      },
      "cell_type": "code",
      "source": [
        "#authenticate\n",
        "\n",
        "auth.authenticate_user()\n",
        "gauth = GoogleAuth()\n",
        "gauth.credentials = GoogleCredentials.get_application_default()\n",
        "drive = GoogleDrive(gauth)"
      ],
      "execution_count": 0,
      "outputs": []
    },
    {
      "metadata": {
        "id": "on1R1MwH1LJd",
        "colab_type": "code",
        "colab": {}
      },
      "cell_type": "code",
      "source": [
        "train_downloaded = drive.CreateFile({'id': '1TDx_ZFQgMjjAszmOFgFdzAWqMI2zT6ed'})\n",
        "train_downloaded.GetContentFile('train.csv')\n",
        "test_downloaded = drive.CreateFile({'id': '1KY8t31vdNC4OM9rkvnyREL9Vqc436Rh-'})\n",
        "test_downloaded.GetContentFile('test.csv')  \n",
        "\n",
        "df_train = pd.read_csv('train.csv')\n",
        "df_test = pd.read_csv('test.csv')"
      ],
      "execution_count": 0,
      "outputs": []
    },
    {
      "metadata": {
        "id": "Fn767g5_3jUf",
        "colab_type": "code",
        "colab": {
          "base_uri": "https://localhost:8080/",
          "height": 160
        },
        "outputId": "e9977b87-703d-44eb-e993-2865917395ae"
      },
      "cell_type": "code",
      "source": [
        "df_train.head(2)"
      ],
      "execution_count": 5,
      "outputs": [
        {
          "output_type": "execute_result",
          "data": {
            "text/html": [
              "<div>\n",
              "<style scoped>\n",
              "    .dataframe tbody tr th:only-of-type {\n",
              "        vertical-align: middle;\n",
              "    }\n",
              "\n",
              "    .dataframe tbody tr th {\n",
              "        vertical-align: top;\n",
              "    }\n",
              "\n",
              "    .dataframe thead th {\n",
              "        text-align: right;\n",
              "    }\n",
              "</style>\n",
              "<table border=\"1\" class=\"dataframe\">\n",
              "  <thead>\n",
              "    <tr style=\"text-align: right;\">\n",
              "      <th></th>\n",
              "      <th>id</th>\n",
              "      <th>vendor_id</th>\n",
              "      <th>pickup_datetime</th>\n",
              "      <th>dropoff_datetime</th>\n",
              "      <th>passenger_count</th>\n",
              "      <th>pickup_longitude</th>\n",
              "      <th>pickup_latitude</th>\n",
              "      <th>dropoff_longitude</th>\n",
              "      <th>dropoff_latitude</th>\n",
              "      <th>store_and_fwd_flag</th>\n",
              "      <th>trip_duration</th>\n",
              "    </tr>\n",
              "  </thead>\n",
              "  <tbody>\n",
              "    <tr>\n",
              "      <th>0</th>\n",
              "      <td>id2875421</td>\n",
              "      <td>2</td>\n",
              "      <td>2016-03-14 17:24:55</td>\n",
              "      <td>2016-03-14 17:32:30</td>\n",
              "      <td>1</td>\n",
              "      <td>-73.982155</td>\n",
              "      <td>40.767937</td>\n",
              "      <td>-73.964630</td>\n",
              "      <td>40.765602</td>\n",
              "      <td>N</td>\n",
              "      <td>455</td>\n",
              "    </tr>\n",
              "    <tr>\n",
              "      <th>1</th>\n",
              "      <td>id2377394</td>\n",
              "      <td>1</td>\n",
              "      <td>2016-06-12 00:43:35</td>\n",
              "      <td>2016-06-12 00:54:38</td>\n",
              "      <td>1</td>\n",
              "      <td>-73.980415</td>\n",
              "      <td>40.738564</td>\n",
              "      <td>-73.999481</td>\n",
              "      <td>40.731152</td>\n",
              "      <td>N</td>\n",
              "      <td>663</td>\n",
              "    </tr>\n",
              "  </tbody>\n",
              "</table>\n",
              "</div>"
            ],
            "text/plain": [
              "          id  vendor_id      pickup_datetime     dropoff_datetime  \\\n",
              "0  id2875421          2  2016-03-14 17:24:55  2016-03-14 17:32:30   \n",
              "1  id2377394          1  2016-06-12 00:43:35  2016-06-12 00:54:38   \n",
              "\n",
              "   passenger_count  pickup_longitude  pickup_latitude  dropoff_longitude  \\\n",
              "0                1        -73.982155        40.767937         -73.964630   \n",
              "1                1        -73.980415        40.738564         -73.999481   \n",
              "\n",
              "   dropoff_latitude store_and_fwd_flag  trip_duration  \n",
              "0         40.765602                  N            455  \n",
              "1         40.731152                  N            663  "
            ]
          },
          "metadata": {
            "tags": []
          },
          "execution_count": 5
        }
      ]
    },
    {
      "metadata": {
        "id": "t_-pywKY3_TZ",
        "colab_type": "code",
        "colab": {
          "base_uri": "https://localhost:8080/",
          "height": 106
        },
        "outputId": "4688caac-8294-4733-b33e-a59b9c4cddb2"
      },
      "cell_type": "code",
      "source": [
        "df_test.head(2)"
      ],
      "execution_count": 6,
      "outputs": [
        {
          "output_type": "execute_result",
          "data": {
            "text/html": [
              "<div>\n",
              "<style scoped>\n",
              "    .dataframe tbody tr th:only-of-type {\n",
              "        vertical-align: middle;\n",
              "    }\n",
              "\n",
              "    .dataframe tbody tr th {\n",
              "        vertical-align: top;\n",
              "    }\n",
              "\n",
              "    .dataframe thead th {\n",
              "        text-align: right;\n",
              "    }\n",
              "</style>\n",
              "<table border=\"1\" class=\"dataframe\">\n",
              "  <thead>\n",
              "    <tr style=\"text-align: right;\">\n",
              "      <th></th>\n",
              "      <th>id</th>\n",
              "      <th>vendor_id</th>\n",
              "      <th>pickup_datetime</th>\n",
              "      <th>passenger_count</th>\n",
              "      <th>pickup_longitude</th>\n",
              "      <th>pickup_latitude</th>\n",
              "      <th>dropoff_longitude</th>\n",
              "      <th>dropoff_latitude</th>\n",
              "      <th>store_and_fwd_flag</th>\n",
              "    </tr>\n",
              "  </thead>\n",
              "  <tbody>\n",
              "    <tr>\n",
              "      <th>0</th>\n",
              "      <td>id3004672</td>\n",
              "      <td>1</td>\n",
              "      <td>2016-06-30 23:59:58</td>\n",
              "      <td>1</td>\n",
              "      <td>-73.988129</td>\n",
              "      <td>40.732029</td>\n",
              "      <td>-73.990173</td>\n",
              "      <td>40.756680</td>\n",
              "      <td>N</td>\n",
              "    </tr>\n",
              "    <tr>\n",
              "      <th>1</th>\n",
              "      <td>id3505355</td>\n",
              "      <td>1</td>\n",
              "      <td>2016-06-30 23:59:53</td>\n",
              "      <td>1</td>\n",
              "      <td>-73.964203</td>\n",
              "      <td>40.679993</td>\n",
              "      <td>-73.959808</td>\n",
              "      <td>40.655403</td>\n",
              "      <td>N</td>\n",
              "    </tr>\n",
              "  </tbody>\n",
              "</table>\n",
              "</div>"
            ],
            "text/plain": [
              "          id  vendor_id      pickup_datetime  passenger_count  \\\n",
              "0  id3004672          1  2016-06-30 23:59:58                1   \n",
              "1  id3505355          1  2016-06-30 23:59:53                1   \n",
              "\n",
              "   pickup_longitude  pickup_latitude  dropoff_longitude  dropoff_latitude  \\\n",
              "0        -73.988129        40.732029         -73.990173         40.756680   \n",
              "1        -73.964203        40.679993         -73.959808         40.655403   \n",
              "\n",
              "  store_and_fwd_flag  \n",
              "0                  N  \n",
              "1                  N  "
            ]
          },
          "metadata": {
            "tags": []
          },
          "execution_count": 6
        }
      ]
    },
    {
      "metadata": {
        "id": "ynayqveT4Hfl",
        "colab_type": "code",
        "colab": {
          "base_uri": "https://localhost:8080/",
          "height": 279
        },
        "outputId": "fc9a495f-4d35-4f1f-c503-237f5ba4c0ee"
      },
      "cell_type": "code",
      "source": [
        "#data preprocessing\n",
        "\n",
        "## how long is the avg trip \n",
        "\n",
        "df_train['log_trip_duration'] = np.log(df_train['trip_duration'].values + 1)\n",
        "plt.hist(df_train['log_trip_duration'].values,bins=100)\n",
        "plt.xlabel('log(trip duration)')\n",
        "plt.ylabel('number of training points')\n",
        "plt.show()"
      ],
      "execution_count": 7,
      "outputs": [
        {
          "output_type": "display_data",
          "data": {
            "image/png": "[encoded data removed]",
            "text/plain": [
              "<matplotlib.figure.Figure at 0x7f97df2538d0>"
            ]
          },
          "metadata": {
            "tags": []
          }
        }
      ]
    },
    {
      "metadata": {
        "id": "FTRS9xV24-q_",
        "colab_type": "code",
        "colab": {
          "base_uri": "https://localhost:8080/",
          "height": 282
        },
        "outputId": "e2efc2e4-fae4-44d0-a47c-f55f4e4047d3"
      },
      "cell_type": "code",
      "source": [
        "N = 10000\n",
        "city_long_border = (-50,-50)\n",
        "city_lat_border = (-40,-40)\n",
        "\n",
        "fig,ax = plt.subplots(ncols=2,sharex=True,sharey=True)\n",
        "ax[0].scatter(df_train['pickup_longitude'].values[:N],\n",
        "             df_train['pickup_latitude'].values[:N],\n",
        "             color = 'blue',s=1,label='train',alpha=0.1)\n",
        "\n",
        "ax[1].scatter(df_test['pickup_longitude'].values[:N],\n",
        "             df_test['pickup_latitude'].values[:N],\n",
        "             color = 'green',s=1,label='train',alpha=0.1)"
      ],
      "execution_count": 13,
      "outputs": [
        {
          "output_type": "execute_result",
          "data": {
            "text/plain": [
              "<matplotlib.collections.PathCollection at 0x7f97b85bf048>"
            ]
          },
          "metadata": {
            "tags": []
          },
          "execution_count": 13
        },
        {
          "output_type": "display_data",
          "data": {
            "image/png": "[encoded data removed]",
            "text/plain": [
              "<matplotlib.figure.Figure at 0x7f97b8668780>"
            ]
          },
          "metadata": {
            "tags": []
          }
        }
      ]
    },
    {
      "metadata": {
        "id": "D-D3EHA6Tqe8",
        "colab_type": "text"
      },
      "cell_type": "markdown",
      "source": [
        "We plotted a map of Manhattan with the data!"
      ]
    },
    {
      "metadata": {
        "id": "KHjEzm0m7g2d",
        "colab_type": "code",
        "colab": {}
      },
      "cell_type": "code",
      "source": [
        "#train model\n",
        "\n",
        "features  = df_train[['vendor_id','passenger_count','pickup_latitude','pickup_longitude','dropoff_latitude','dropoff_longitude']]\n",
        "targets = df_train['trip_duration']\n",
        "\n",
        "tfeatures = df_test[['vendor_id','passenger_count','pickup_latitude','pickup_longitude','dropoff_latitude','dropoff_longitude']]\n",
        "\n",
        "\n",
        "Xtr,Xts,Ytr,Yts = train_test_split(features,targets,test_size=0.2\n",
        "                                  ,random_state = 1897)\n",
        "\n"
      ],
      "execution_count": 0,
      "outputs": []
    },
    {
      "metadata": {
        "id": "9GmDuU_LBdGx",
        "colab_type": "code",
        "colab": {
          "base_uri": "https://localhost:8080/",
          "height": 605
        },
        "outputId": "779d6daf-7493-4517-98b0-f6515d6d5293"
      },
      "cell_type": "code",
      "source": [
        "from sklearn.model_selection import ShuffleSplit\n",
        "from sklearn.model_selection import cross_val_score\n",
        "from sklearn.grid_search import GridSearchCV\n",
        "\n",
        "def rmsle(evaluator,X,real):\n",
        "    sum = 0.0\n",
        "    predicted = evaluator.predict(X)\n",
        "    print(\"Number predicted less than 0: {}\".format(np.where(predicted < 0)[0].shape))\n",
        "\n",
        "    predicted[predicted < 0] = 0\n",
        "    for x in range(len(predicted)):\n",
        "        p = np.log(predicted[x]+1)\n",
        "        r = np.log(real[x]+1)\n",
        "        sum = sum + (p-r)**2\n",
        "    return (sum/len(predicted))**0.5\n",
        "  \n",
        "cv_params = {'learning_rate': [0.1, 0.01], 'subsample': [0.7,0.8,0.9]}\n",
        "ind_params = {'n_estimators': 100, 'seed':0, 'colsample_bytree': 1, \n",
        "             'max_depth': 7, 'min_child_weight': 1}\n",
        "\n",
        "\n",
        "optimized_GBM = GridSearchCV(xgb.XGBRegressor(**ind_params), \n",
        "                             cv_params,scoring = rmsle, cv =4) \n",
        "optimized_GBM.fit(features, np.ravel(target))"
      ],
      "execution_count": 21,
      "outputs": [
        {
          "output_type": "stream",
          "text": [
            "Number predicted less than 0: (47,)\n",
            "Number predicted less than 0: (44,)\n",
            "Number predicted less than 0: (51,)\n",
            "Number predicted less than 0: (46,)\n",
            "Number predicted less than 0: (14,)\n",
            "Number predicted less than 0: (21,)\n",
            "Number predicted less than 0: (30,)\n",
            "Number predicted less than 0: (18,)\n",
            "Number predicted less than 0: (4,)\n",
            "Number predicted less than 0: (8,)\n",
            "Number predicted less than 0: (18,)\n",
            "Number predicted less than 0: (4,)\n",
            "Number predicted less than 0: (0,)\n",
            "Number predicted less than 0: (1,)\n",
            "Number predicted less than 0: (0,)\n",
            "Number predicted less than 0: (1,)\n",
            "Number predicted less than 0: (0,)\n",
            "Number predicted less than 0: (1,)\n",
            "Number predicted less than 0: (0,)\n",
            "Number predicted less than 0: (0,)\n",
            "Number predicted less than 0: (0,)\n",
            "Number predicted less than 0: (2,)\n",
            "Number predicted less than 0: (0,)\n",
            "Number predicted less than 0: (0,)\n"
          ],
          "name": "stdout"
        },
        {
          "output_type": "execute_result",
          "data": {
            "text/plain": [
              "GridSearchCV(cv=4, error_score='raise',\n",
              "       estimator=XGBRegressor(base_score=0.5, booster='gbtree', colsample_bylevel=1,\n",
              "       colsample_bytree=1, gamma=0, learning_rate=0.1, max_delta_step=0,\n",
              "       max_depth=7, min_child_weight=1, missing=None, n_estimators=100,\n",
              "       n_jobs=1, nthread=None, objective='reg:linear', random_state=0,\n",
              "       reg_alpha=0, reg_lambda=1, scale_pos_weight=1, seed=0, silent=True,\n",
              "       subsample=1),\n",
              "       fit_params={}, iid=True, n_jobs=1,\n",
              "       param_grid={'learning_rate': [0.1, 0.01], 'subsample': [0.7, 0.8, 0.9]},\n",
              "       pre_dispatch='2*n_jobs', refit=True,\n",
              "       scoring=<function rmsle at 0x7f97bf232b70>, verbose=0)"
            ]
          },
          "metadata": {
            "tags": []
          },
          "execution_count": 21
        }
      ]
    },
    {
      "metadata": {
        "id": "5i3xh083ECBL",
        "colab_type": "code",
        "colab": {}
      },
      "cell_type": "code",
      "source": [
        ""
      ],
      "execution_count": 0,
      "outputs": []
    }
  ]
}